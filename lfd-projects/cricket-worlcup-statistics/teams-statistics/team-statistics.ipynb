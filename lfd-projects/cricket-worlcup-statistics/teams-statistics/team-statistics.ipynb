{
 "cells": [
  {
   "cell_type": "code",
   "execution_count": null,
   "metadata": {},
   "outputs": [],
   "source": [
    "import requests\n",
    "from bs4 import BeautifulSoup\n",
    "import os\n",
    "import pandas as pd"
   ]
  },
  {
   "cell_type": "code",
   "execution_count": 133,
   "metadata": {},
   "outputs": [
    {
     "data": {
      "text/html": [
       "<div>\n",
       "<style scoped>\n",
       "    .dataframe tbody tr th:only-of-type {\n",
       "        vertical-align: middle;\n",
       "    }\n",
       "\n",
       "    .dataframe tbody tr th {\n",
       "        vertical-align: top;\n",
       "    }\n",
       "\n",
       "    .dataframe thead th {\n",
       "        text-align: right;\n",
       "    }\n",
       "</style>\n",
       "<table border=\"1\" class=\"dataframe\">\n",
       "  <thead>\n",
       "    <tr style=\"text-align: right;\">\n",
       "      <th></th>\n",
       "      <th>Team</th>\n",
       "      <th>Result</th>\n",
       "      <th>Margin</th>\n",
       "      <th>BR</th>\n",
       "      <th>Toss</th>\n",
       "      <th>Bat</th>\n",
       "      <th></th>\n",
       "      <th>Opposition</th>\n",
       "      <th>Ground</th>\n",
       "      <th>Start Date</th>\n",
       "    </tr>\n",
       "  </thead>\n",
       "  <tbody>\n",
       "    <tr>\n",
       "      <th>0</th>\n",
       "      <td>India</td>\n",
       "      <td>won</td>\n",
       "      <td>20 runs</td>\n",
       "      <td></td>\n",
       "      <td>won</td>\n",
       "      <td>1st</td>\n",
       "      <td></td>\n",
       "      <td>West Indies</td>\n",
       "      <td>Kingston</td>\n",
       "      <td>26 Jun 2009</td>\n",
       "    </tr>\n",
       "    <tr>\n",
       "      <th>1</th>\n",
       "      <td>West Indies</td>\n",
       "      <td>lost</td>\n",
       "      <td>20 runs</td>\n",
       "      <td></td>\n",
       "      <td>lost</td>\n",
       "      <td>2nd</td>\n",
       "      <td></td>\n",
       "      <td>India</td>\n",
       "      <td>Kingston</td>\n",
       "      <td>26 Jun 2009</td>\n",
       "    </tr>\n",
       "    <tr>\n",
       "      <th>2</th>\n",
       "      <td>West Indies</td>\n",
       "      <td>won</td>\n",
       "      <td>8 wickets</td>\n",
       "      <td>95</td>\n",
       "      <td>lost</td>\n",
       "      <td>2nd</td>\n",
       "      <td></td>\n",
       "      <td>India</td>\n",
       "      <td>Kingston</td>\n",
       "      <td>28 Jun 2009</td>\n",
       "    </tr>\n",
       "    <tr>\n",
       "      <th>3</th>\n",
       "      <td>India</td>\n",
       "      <td>lost</td>\n",
       "      <td>8 wickets</td>\n",
       "      <td>95</td>\n",
       "      <td>won</td>\n",
       "      <td>1st</td>\n",
       "      <td></td>\n",
       "      <td>West Indies</td>\n",
       "      <td>Kingston</td>\n",
       "      <td>28 Jun 2009</td>\n",
       "    </tr>\n",
       "    <tr>\n",
       "      <th>4</th>\n",
       "      <td>India</td>\n",
       "      <td>won</td>\n",
       "      <td>6 wickets</td>\n",
       "      <td>1</td>\n",
       "      <td>won</td>\n",
       "      <td>2nd</td>\n",
       "      <td></td>\n",
       "      <td>West Indies</td>\n",
       "      <td>Gros Islet</td>\n",
       "      <td>3 Jul 2009</td>\n",
       "    </tr>\n",
       "  </tbody>\n",
       "</table>\n",
       "</div>"
      ],
      "text/plain": [
       "          Team Result     Margin  BR  Toss  Bat     Opposition      Ground  \\\n",
       "0        India    won    20 runs       won  1st    West Indies    Kingston   \n",
       "1  West Indies   lost    20 runs      lost  2nd          India    Kingston   \n",
       "2  West Indies    won  8 wickets  95  lost  2nd          India    Kingston   \n",
       "3        India   lost  8 wickets  95   won  1st    West Indies    Kingston   \n",
       "4        India    won  6 wickets   1   won  2nd    West Indies  Gros Islet   \n",
       "\n",
       "    Start Date  \n",
       "0  26 Jun 2009  \n",
       "1  26 Jun 2009  \n",
       "2  28 Jun 2009  \n",
       "3  28 Jun 2009  \n",
       "4   3 Jul 2009  "
      ]
     },
     "execution_count": 133,
     "metadata": {},
     "output_type": "execute_result"
    }
   ],
   "source": [
    "urls = [\"http://stats.espncricinfo.com/ci/engine/stats/index.html?class=2;filter=advanced;orderby=start;result=1;result=2;size=200;spanmax1=29+May+2019;spanmin1=29+May+2009;spanval1=span;team=1;team=2;team=25;team=3;team=4;team=40;team=5;team=6;team=7;team=8;template=results;type=team;view=results\"]\n",
    "for i in range(2,11):\n",
    "    urls.append(f\"http://stats.espncricinfo.com/ci/engine/stats/index.html?class=2;filter=advanced;orderby=start;page={i};result=1;result=2;size=200;spanmax1=29+May+2019;spanmin1=29+May+2009;spanval1=span;team=1;team=2;team=25;team=3;team=4;team=40;team=5;team=6;team=7;team=8;template=results;type=team;view=results\")\n",
    "lst = []\n",
    "for url in urls:\n",
    "    soup = BeautifulSoup(requests.get(url).text, \"lxml\")\n",
    "    a = soup.find(\"div\", {\"class\" : \"pnl650M\"}).select(\"table\", {\"class\" : \"engineTable\"})[2]\n",
    "    try:\n",
    "        columns\n",
    "    except:\n",
    "        columns = a.find(\"thead\").text.splitlines()[2:-2]\n",
    "    for record in a.find(\"tbody\").select(\"tr\", {\"class\" : \"data1\"}):\n",
    "        lst.append(record.text.splitlines()[1:-1])\n",
    "df = pd.DataFrame(lst, columns=columns)\n",
    "df.Opposition = df.Opposition.str.replace(\"v \", \"\")\n",
    "df.head()"
   ]
  },
  {
   "cell_type": "code",
   "execution_count": 138,
   "metadata": {},
   "outputs": [
    {
     "name": "stderr",
     "output_type": "stream",
     "text": [
      "/usr/lib/python3/dist-packages/ipykernel_launcher.py:5: UserWarning: This pattern has match groups. To actually get the groups, use str.extract.\n",
      "  \"\"\"\n"
     ]
    }
   ],
   "source": [
    "grounds_data = pd.read_csv(\"../K/cricket_grounds_in_all_over_world.csv\")\n",
    "ground_country_dict = {}\n",
    "for ground in df.Ground.unique():\n",
    "    for i in grounds_data.columns:\n",
    "        if True in grounds_data[i].str.lower().str.contains(ground.lower()).unique():\n",
    "#             if ground in ground_country_dict:\n",
    "#                 print(f\"This Ground <{ground}> in more than 2 countries.\\n1-{ground_country_dict[ground]}\\n2-{i}\")\n",
    "                \n",
    "#             else:\n",
    "                ground_country_dict[ground] = i"
   ]
  },
  {
   "cell_type": "code",
   "execution_count": 142,
   "metadata": {},
   "outputs": [],
   "source": [
    "df['Ground_country'] = df.Ground.replace(ground_country_dict)"
   ]
  },
  {
   "cell_type": "code",
   "execution_count": 144,
   "metadata": {},
   "outputs": [],
   "source": [
    "df.to_csv(\"ODI_matches_data.csv\")"
   ]
  },
  {
   "cell_type": "code",
   "execution_count": 145,
   "metadata": {},
   "outputs": [
    {
     "name": "stdout",
     "output_type": "stream",
     "text": [
      "/home/amir/LFD-server/cricket-worlcup-statistics/teams-statistics\n"
     ]
    }
   ],
   "source": [
    "!pwd"
   ]
  },
  {
   "cell_type": "code",
   "execution_count": null,
   "metadata": {},
   "outputs": [],
   "source": []
  }
 ],
 "metadata": {
  "kernelspec": {
   "display_name": "Python 3",
   "language": "python",
   "name": "python3"
  },
  "language_info": {
   "codemirror_mode": {
    "name": "ipython",
    "version": 3
   },
   "file_extension": ".py",
   "mimetype": "text/x-python",
   "name": "python",
   "nbconvert_exporter": "python",
   "pygments_lexer": "ipython3",
   "version": "3.6.8"
  }
 },
 "nbformat": 4,
 "nbformat_minor": 4
}
