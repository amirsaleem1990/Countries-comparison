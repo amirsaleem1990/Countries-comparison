{
 "cells": [
  {
   "cell_type": "code",
   "execution_count": 1,
   "metadata": {},
   "outputs": [
    {
     "name": "stderr",
     "output_type": "stream",
     "text": [
      "/usr/lib/python3/dist-packages/requests/__init__.py:80: RequestsDependencyWarning: urllib3 (1.25.3) or chardet (3.0.4) doesn't match a supported version!\n",
      "  RequestsDependencyWarning)\n"
     ]
    }
   ],
   "source": [
    "import requests\n",
    "from bs4 import BeautifulSoup\n",
    "import os\n",
    "import pandas as pd\n",
    "import re\n",
    "import numpy as np"
   ]
  },
  {
   "cell_type": "markdown",
   "metadata": {},
   "source": [
    "# Batting averages"
   ]
  },
  {
   "cell_type": "code",
   "execution_count": 2,
   "metadata": {},
   "outputs": [],
   "source": [
    "mapping = {\"AFG\" : \"afghanistan\",  \"ENG\" : \"england\",  \"WI\"  : \"westindies\",  \"SA\"  : \"southafrica\",\n",
    "           \"PAK\" : \"pakistan\",  \"AUS\" : \"australia\",  \"NZ\"  : \"newzealand\",  \"INDIA\" : \"india\",\n",
    "           \"SL\"  : \"srilanka\",  \"BDESH\" : \"bangladesh\"}"
   ]
  },
  {
   "cell_type": "code",
   "execution_count": 6,
   "metadata": {},
   "outputs": [
    {
     "name": "stderr",
     "output_type": "stream",
     "text": [
      "/usr/lib/python3/dist-packages/ipykernel_launcher.py:26: SettingWithCopyWarning: \n",
      "A value is trying to be set on a copy of a slice from a DataFrame.\n",
      "Try using .loc[row_indexer,col_indexer] = value instead\n",
      "\n",
      "See the caveats in the documentation: http://pandas.pydata.org/pandas-docs/stable/indexing.html#indexing-view-versus-copy\n"
     ]
    }
   ],
   "source": [
    "# betting code\n",
    "Batting_and_fielding_averages = a[0]\n",
    "Batting_and_fielding_average_columns = []\n",
    "for i in Batting_and_fielding_averages.find(\"tr\", {\"class\" : \"head\"}).select(\"th\", {\"nowrap\" : \"nowrap\"})[1:]:\n",
    "    Batting_and_fielding_average_columns.append(i.get_text())\n",
    "lst = []\n",
    "for i in Batting_and_fielding_averages.find(\"tbody\").find_all(\"tr\", {\"class\" : \"data1\"}):\n",
    "        lst.append(i.get_text().splitlines()[1:])\n",
    "df1 = pd.DataFrame(lst, columns= [\"Type\"] + Batting_and_fielding_average_columns)\n",
    "historical_data = df1.loc[np.where(df1.Type == \"ODIs\")[0]]\n",
    "for i in historical_data:\n",
    "    historical_data[i] = historical_data[i].str.replace(\"-\", \"\").str.replace(\"*\", \"\")\n",
    "\n",
    "WC_batting_data = pd.DataFrame([WC_batting_data], columns = columns_betting_wc)\n",
    "for i in WC_batting_data:\n",
    "    WC_batting_data[i] = WC_batting_data[i].str.replace(\"-\", \"\").replace(\"*\", \"\")\n",
    "\n",
    "intersection_columns = set(WC_batting_data.columns.to_list()).intersection(set(historical_data.columns.to_list()))\n",
    "intersection_columns = sorted(intersection_columns, reverse=True)\n",
    "intersection_columns = [i for i in intersection_columns if not i in [\"SR\", \"Ave\"]]\n",
    "\n",
    "hd = historical_data[intersection_columns]\n",
    "wc = WC_batting_data[intersection_columns]\n",
    "for i in [hd, wc]:\n",
    "    for column in i.columns:\n",
    "        i[column] = i[column].astype(float)\n",
    "befor_wc_batting = hd - wc\n",
    "befor_wc_batting_all.append(pd.concat([historical_data[[\"Ct\", \"St\"]], befor_wc_batting], axis=1))"
   ]
  },
  {
   "cell_type": "code",
   "execution_count": 4,
   "metadata": {},
   "outputs": [],
   "source": [
    "url_betting_wc = \"http://stats.espncricinfo.com/ci/engine/records/averages/batting.html?id=12357;type=tournament\"\n",
    "url_bowling_wc = \"http://stats.espncricinfo.com/ci/engine/records/averages/bowling.html?id=12357;type=tournament\"\n",
    "soup_betting_wc = BeautifulSoup(requests.get(url_betting_wc).text, \"lxml\")\n",
    "soup_bowling_wc = BeautifulSoup(requests.get(url_bowling_wc).text, \"lxml\")\n",
    "s_batting_wc = soup_betting_wc.select(\"table\", {\"class\" : \"engineTable\"})[0].find_all(\"tbody\")[0].find_all(\"tr\", {\"class\" : \"data1\"})\n",
    "s_bowling_wc = soup_bowling_wc.select(\"table\", {\"class\" : \"engineTable\"})[0].find_all(\"tbody\")[0].find_all(\"tr\", {\"class\" : \"data1\"})\n",
    "columns_betting_wc = soup_betting_wc.select(\"table\", {\"class\" : \"engineTable\"})[0].select(\"tr\", {\"class\" : \"head\"})[0].get_text().splitlines()[1:]\n",
    "columns_bowling_wc = soup_bowling_wc.select(\"table\", {\"class\" : \"engineTable\"})[0].select(\"tr\", {\"class\" : \"head\"})[0].get_text().splitlines()[1:]\n",
    "\n",
    "players_links = []\n",
    "befor_wc_batting_all = []\n",
    "for i in s_batting_wc:\n",
    "    WC_batting_data = i.get_text().splitlines()[1:]\n",
    "    country = i.get_text().splitlines()[1]\n",
    "    m = re.search(r\"\\((\\w+)\\)\", country)\n",
    "    player_link = \"http://www.espncricinfo.com/\" + mapping[m.group(1)] + i.find(\"a\", {\"class\" : \"data-link\"})['href'][3:]\n",
    "    soup_player = BeautifulSoup(requests.get(player_link).text, \"lxml\")\n",
    "    player_name = soup_player.find(\"div\", {\"class\" : \"ciPlayernametxt\"}).find(\"h1\").find(\"a\")[\"alt\"]\n",
    "    player_name = player_name.replace(\"RSS Feed\", \"\").strip()\n",
    "    a = soup_player.find(\"div\", {\"class\" : \"pnl490M\"}).select(\"table\", {\"class\" : \"engineTable\"})\n",
    "    # here replace you betting code\n",
    "    break\n",
    "\n",
    "# bowling code\n",
    "bowling_averages = a[1]\n",
    "bowling_averages_columns = []\n",
    "for i in bowling_averages.find(\"tr\", {\"class\" : \"head\"}).select(\"th\", {\"nowrap\" : \"nowrap\"})[1:]:\n",
    "    bowling_averages_columns.append(i.get_text())\n",
    "lst = []\n",
    "for i in bowling_averages.find(\"tbody\").find_all(\"tr\", {\"class\" : \"data1\"}):\n",
    "        lst.append(i.get_text().splitlines()[1:])\n",
    "df2 = pd.DataFrame(lst, columns= [\"Type\"] + bowling_averages_columns)\n",
    "historical_data_bowling = df2.loc[np.where(df1.Type == \"ODIs\")[0]]\n",
    "for i in historical_data_bowling:\n",
    "    historical_data_bowling[i] = historical_data_bowling[i].str.replace(\"-\", \"\").str.replace(\"*\", \"\")\n",
    "historical_data_bowling"
   ]
  },
  {
   "cell_type": "code",
   "execution_count": 22,
   "metadata": {},
   "outputs": [],
   "source": [
    "for i in s_bowling_wc:\n",
    "    WC_bowling_data = i.get_text().splitlines()[1:]\n",
    "    break\n",
    "\n",
    "\n",
    "WC_bowling_data = pd.DataFrame([WC_bowling_data], columns = columns_bowling_wc)\n",
    "for i in WC_bowling_data:\n",
    "    WC_bowling_data[i] = WC_bowling_data[i].str.replace(\"-\", \"\").replace(\"*\", \"\")\n",
    "intersection_columns_bowling = set(WC_bowling_data.columns.to_list()).intersection(set(historical_data_bowling.columns.to_list()))\n",
    "intersection_columns_bowling = sorted(intersection_columns_bowling, reverse=True)\n",
    "intersection_columns_bowling = [i for i in intersection_columns_bowling if not i in [\"SR\", \"Ave\"]]"
   ]
  },
  {
   "cell_type": "code",
   "execution_count": 56,
   "metadata": {},
   "outputs": [
    {
     "name": "stderr",
     "output_type": "stream",
     "text": [
      "/usr/lib/python3/dist-packages/ipykernel_launcher.py:5: SettingWithCopyWarning: \n",
      "A value is trying to be set on a copy of a slice from a DataFrame.\n",
      "Try using .loc[row_indexer,col_indexer] = value instead\n",
      "\n",
      "See the caveats in the documentation: http://pandas.pydata.org/pandas-docs/stable/indexing.html#indexing-view-versus-copy\n",
      "  \"\"\"\n",
      "/usr/lib/python3/dist-packages/ipykernel_launcher.py:6: SettingWithCopyWarning: \n",
      "A value is trying to be set on a copy of a slice from a DataFrame.\n",
      "Try using .loc[row_indexer,col_indexer] = value instead\n",
      "\n",
      "See the caveats in the documentation: http://pandas.pydata.org/pandas-docs/stable/indexing.html#indexing-view-versus-copy\n",
      "  \n",
      "/usr/lib/python3/dist-packages/ipykernel_launcher.py:9: SettingWithCopyWarning: \n",
      "A value is trying to be set on a copy of a slice from a DataFrame.\n",
      "Try using .loc[row_indexer,col_indexer] = value instead\n",
      "\n",
      "See the caveats in the documentation: http://pandas.pydata.org/pandas-docs/stable/indexing.html#indexing-view-versus-copy\n",
      "  if __name__ == '__main__':\n",
      "/usr/lib/python3/dist-packages/ipykernel_launcher.py:10: SettingWithCopyWarning: \n",
      "A value is trying to be set on a copy of a slice from a DataFrame.\n",
      "Try using .loc[row_indexer,col_indexer] = value instead\n",
      "\n",
      "See the caveats in the documentation: http://pandas.pydata.org/pandas-docs/stable/indexing.html#indexing-view-versus-copy\n",
      "  # Remove the CWD from sys.path while we load stuff.\n"
     ]
    }
   ],
   "source": [
    "befor_wc_bowling = []\n",
    "hd_bowling = historical_data_bowling[intersection_columns_bowling]\n",
    "wc_bowling = WC_bowling_data[intersection_columns_bowling]\n",
    "\n",
    "hd_bowling[\"BBI_wikets\"] = hd_bowling[\"BBI\"].str.split(\"/\")[0][0]\n",
    "hd_bowling[\"BBI_Runs\"] = hd_bowling[\"BBI\"].str.split(\"/\")[0][1]\n",
    "hd_bowling = hd_bowling.drop(\"BBI\", axis=1)\n",
    "\n",
    "wc_bowling[\"BBI_wikets\"] = wc_bowling[\"BBI\"].str.split(\"/\")[0][0]\n",
    "wc_bowling[\"BBI_Runs\"] = wc_bowling[\"BBI\"].str.split(\"/\")[0][1]\n",
    "wc_bowling = wc_bowling.drop(\"BBI\", axis=1)\n",
    "for i_bowling in [hd_bowling, wc_bowling]:\n",
    "    for column_bowling in i_bowling.columns:\n",
    "        try:\n",
    "            i_bowling[column_bowling] = i_bowling[column_bowling].astype(float)\n",
    "        except:\n",
    "            pass\n",
    "befor_wc_bowling = hd_bowling - wc_bowling"
   ]
  },
  {
   "cell_type": "code",
   "execution_count": 58,
   "metadata": {},
   "outputs": [
    {
     "data": {
      "text/html": [
       "<div>\n",
       "<style scoped>\n",
       "    .dataframe tbody tr th:only-of-type {\n",
       "        vertical-align: middle;\n",
       "    }\n",
       "\n",
       "    .dataframe tbody tr th {\n",
       "        vertical-align: top;\n",
       "    }\n",
       "\n",
       "    .dataframe thead th {\n",
       "        text-align: right;\n",
       "    }\n",
       "</style>\n",
       "<table border=\"1\" class=\"dataframe\">\n",
       "  <thead>\n",
       "    <tr style=\"text-align: right;\">\n",
       "      <th></th>\n",
       "      <th>Wkts</th>\n",
       "      <th>Runs</th>\n",
       "      <th>Mat</th>\n",
       "      <th>Inns</th>\n",
       "      <th>Econ</th>\n",
       "      <th>BBI_wikets</th>\n",
       "      <th>BBI_Runs</th>\n",
       "    </tr>\n",
       "  </thead>\n",
       "  <tbody>\n",
       "    <tr>\n",
       "      <th>0</th>\n",
       "      <td>41.0</td>\n",
       "      <td>1033.0</td>\n",
       "      <td>27.0</td>\n",
       "      <td>27.0</td>\n",
       "      <td>4.93</td>\n",
       "      <td>4.0</td>\n",
       "      <td>25.0</td>\n",
       "    </tr>\n",
       "  </tbody>\n",
       "</table>\n",
       "</div>"
      ],
      "text/plain": [
       "   Wkts    Runs   Mat  Inns  Econ  BBI_wikets  BBI_Runs\n",
       "0  41.0  1033.0  27.0  27.0  4.93         4.0      25.0"
      ]
     },
     "execution_count": 58,
     "metadata": {},
     "output_type": "execute_result"
    }
   ],
   "source": [
    "hd_bowling"
   ]
  },
  {
   "cell_type": "code",
   "execution_count": 59,
   "metadata": {},
   "outputs": [
    {
     "data": {
      "text/html": [
       "<div>\n",
       "<style scoped>\n",
       "    .dataframe tbody tr th:only-of-type {\n",
       "        vertical-align: middle;\n",
       "    }\n",
       "\n",
       "    .dataframe tbody tr th {\n",
       "        vertical-align: top;\n",
       "    }\n",
       "\n",
       "    .dataframe thead th {\n",
       "        text-align: right;\n",
       "    }\n",
       "</style>\n",
       "<table border=\"1\" class=\"dataframe\">\n",
       "  <thead>\n",
       "    <tr style=\"text-align: right;\">\n",
       "      <th></th>\n",
       "      <th>Wkts</th>\n",
       "      <th>Runs</th>\n",
       "      <th>Mat</th>\n",
       "      <th>Inns</th>\n",
       "      <th>Econ</th>\n",
       "      <th>BBI_wikets</th>\n",
       "      <th>BBI_Runs</th>\n",
       "    </tr>\n",
       "  </thead>\n",
       "  <tbody>\n",
       "    <tr>\n",
       "      <th>0</th>\n",
       "      <td>4.0</td>\n",
       "      <td>115.0</td>\n",
       "      <td>3.0</td>\n",
       "      <td>3.0</td>\n",
       "      <td>5.7</td>\n",
       "      <td>3.0</td>\n",
       "      <td>45.0</td>\n",
       "    </tr>\n",
       "  </tbody>\n",
       "</table>\n",
       "</div>"
      ],
      "text/plain": [
       "   Wkts   Runs  Mat  Inns  Econ  BBI_wikets  BBI_Runs\n",
       "0   4.0  115.0  3.0   3.0   5.7         3.0      45.0"
      ]
     },
     "execution_count": 59,
     "metadata": {},
     "output_type": "execute_result"
    }
   ],
   "source": [
    "wc_bowling"
   ]
  },
  {
   "cell_type": "code",
   "execution_count": 60,
   "metadata": {},
   "outputs": [
    {
     "data": {
      "text/html": [
       "<div>\n",
       "<style scoped>\n",
       "    .dataframe tbody tr th:only-of-type {\n",
       "        vertical-align: middle;\n",
       "    }\n",
       "\n",
       "    .dataframe tbody tr th {\n",
       "        vertical-align: top;\n",
       "    }\n",
       "\n",
       "    .dataframe thead th {\n",
       "        text-align: right;\n",
       "    }\n",
       "</style>\n",
       "<table border=\"1\" class=\"dataframe\">\n",
       "  <thead>\n",
       "    <tr style=\"text-align: right;\">\n",
       "      <th></th>\n",
       "      <th>Wkts</th>\n",
       "      <th>Runs</th>\n",
       "      <th>Mat</th>\n",
       "      <th>Inns</th>\n",
       "      <th>Econ</th>\n",
       "      <th>BBI_wikets</th>\n",
       "      <th>BBI_Runs</th>\n",
       "    </tr>\n",
       "  </thead>\n",
       "  <tbody>\n",
       "    <tr>\n",
       "      <th>0</th>\n",
       "      <td>37.0</td>\n",
       "      <td>918.0</td>\n",
       "      <td>24.0</td>\n",
       "      <td>24.0</td>\n",
       "      <td>-0.77</td>\n",
       "      <td>1.0</td>\n",
       "      <td>-20.0</td>\n",
       "    </tr>\n",
       "  </tbody>\n",
       "</table>\n",
       "</div>"
      ],
      "text/plain": [
       "   Wkts   Runs   Mat  Inns  Econ  BBI_wikets  BBI_Runs\n",
       "0  37.0  918.0  24.0  24.0 -0.77         1.0     -20.0"
      ]
     },
     "execution_count": 60,
     "metadata": {},
     "output_type": "execute_result"
    }
   ],
   "source": [
    "befor_wc_bowling"
   ]
  },
  {
   "cell_type": "code",
   "execution_count": 61,
   "metadata": {},
   "outputs": [
    {
     "data": {
      "text/plain": [
       "'http://www.espncricinfo.com/afghanistan/content/player/440963.html'"
      ]
     },
     "execution_count": 61,
     "metadata": {},
     "output_type": "execute_result"
    }
   ],
   "source": [
    "player_link"
   ]
  },
  {
   "cell_type": "code",
   "execution_count": null,
   "metadata": {},
   "outputs": [],
   "source": []
  }
 ],
 "metadata": {
  "kernelspec": {
   "display_name": "Python 3",
   "language": "python",
   "name": "python3"
  },
  "language_info": {
   "codemirror_mode": {
    "name": "ipython",
    "version": 3
   },
   "file_extension": ".py",
   "mimetype": "text/x-python",
   "name": "python",
   "nbconvert_exporter": "python",
   "pygments_lexer": "ipython3",
   "version": "3.6.8"
  }
 },
 "nbformat": 4,
 "nbformat_minor": 4
}
