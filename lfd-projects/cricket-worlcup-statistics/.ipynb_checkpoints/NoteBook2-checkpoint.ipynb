{
 "cells": [
  {
   "cell_type": "code",
   "execution_count": 1,
   "metadata": {},
   "outputs": [
    {
     "name": "stderr",
     "output_type": "stream",
     "text": [
      "/usr/lib/python3/dist-packages/requests/__init__.py:80: RequestsDependencyWarning: urllib3 (1.25.3) or chardet (3.0.4) doesn't match a supported version!\n",
      "  RequestsDependencyWarning)\n"
     ]
    }
   ],
   "source": [
    "import requests\n",
    "from bs4 import BeautifulSoup\n",
    "import os\n",
    "import pandas as pd\n",
    "import re\n",
    "import numpy as np"
   ]
  },
  {
   "cell_type": "markdown",
   "metadata": {},
   "source": [
    "# Batting averages"
   ]
  },
  {
   "cell_type": "code",
   "execution_count": 2,
   "metadata": {},
   "outputs": [],
   "source": [
    "mapping = {\"AFG\" : \"afghanistan\",  \"ENG\" : \"england\",  \"WI\"  : \"westindies\",  \"SA\"  : \"southafrica\",\n",
    "           \"PAK\" : \"pakistan\",  \"AUS\" : \"australia\",  \"NZ\"  : \"newzealand\",  \"INDIA\" : \"india\",\n",
    "           \"SL\"  : \"srilanka\",  \"BDESH\" : \"bangladesh\"}"
   ]
  },
  {
   "cell_type": "code",
   "execution_count": 4,
   "metadata": {},
   "outputs": [
    {
     "name": "stderr",
     "output_type": "stream",
     "text": [
      "/usr/lib/python3/dist-packages/ipykernel_launcher.py:26: SettingWithCopyWarning: \n",
      "A value is trying to be set on a copy of a slice from a DataFrame.\n",
      "Try using .loc[row_indexer,col_indexer] = value instead\n",
      "\n",
      "See the caveats in the documentation: http://pandas.pydata.org/pandas-docs/stable/indexing.html#indexing-view-versus-copy\n"
     ]
    }
   ],
   "source": [
    "# betting code\n",
    "Batting_and_fielding_averages = a[0]\n",
    "Batting_and_fielding_average_columns = []\n",
    "for i in Batting_and_fielding_averages.find(\"tr\", {\"class\" : \"head\"}).select(\"th\", {\"nowrap\" : \"nowrap\"})[1:]:\n",
    "    Batting_and_fielding_average_columns.append(i.get_text())\n",
    "lst = []\n",
    "for i in Batting_and_fielding_averages.find(\"tbody\").find_all(\"tr\", {\"class\" : \"data1\"}):\n",
    "        lst.append(i.get_text().splitlines()[1:])\n",
    "df1 = pd.DataFrame(lst, columns= [\"Type\"] + Batting_and_fielding_average_columns)\n",
    "historical_data = df1.loc[np.where(df1.Type == \"ODIs\")[0]]\n",
    "for i in historical_data:\n",
    "    historical_data[i] = historical_data[i].str.replace(\"-\", \"\").str.replace(\"*\", \"\")\n",
    "\n",
    "WC_batting_data = pd.DataFrame([WC_batting_data], columns = columns)\n",
    "for i in WC_batting_data:\n",
    "    WC_batting_data[i] = WC_batting_data[i].str.replace(\"-\", \"\").replace(\"*\", \"\")\n",
    "\n",
    "intersection_columns = set(WC_batting_data.columns.to_list()).intersection(set(historical_data.columns.to_list()))\n",
    "intersection_columns = sorted(intersection_columns, reverse=True)\n",
    "intersection_columns = [i for i in intersection_columns if not i in [\"SR\", \"Ave\"]]\n",
    "\n",
    "hd = historical_data[intersection_columns]\n",
    "wc = WC_batting_data[intersection_columns]\n",
    "for i in [hd, wc]:\n",
    "    for column in i.columns:\n",
    "        i[column] = i[column].astype(float)\n",
    "befor_wc_batting = hd - wc\n",
    "befor_wc_batting_all.append(pd.concat([historical_data[[\"Ct\", \"St\"]], befor_wc_batting], axis=1))"
   ]
  },
  {
   "cell_type": "code",
   "execution_count": 3,
   "metadata": {},
   "outputs": [],
   "source": [
    "url_betting_wc = \"http://stats.espncricinfo.com/ci/engine/records/averages/batting.html?id=12357;type=tournament\"\n",
    "url_bowling_wc = \"http://stats.espncricinfo.com/ci/engine/records/averages/bowling.html?id=12357;type=tournament\"\n",
    "soup_betting_wc = BeautifulSoup(requests.get(url_betting_wc).text, \"lxml\")\n",
    "soup_bowling_wc = BeautifulSoup(requests.get(url_bowling_wc).text, \"lxml\")\n",
    "s_batting_wc = soup_betting_wc.select(\"table\", {\"class\" : \"engineTable\"})[0].find_all(\"tbody\")[0].find_all(\"tr\", {\"class\" : \"data1\"})\n",
    "s_bowling_wc = soup_bowling_wc.select(\"table\", {\"class\" : \"engineTable\"})[0].find_all(\"tbody\")[0].find_all(\"tr\", {\"class\" : \"data1\"})\n",
    "columns_betting_wc = soup_betting_wc.select(\"table\", {\"class\" : \"engineTable\"})[0].select(\"tr\", {\"class\" : \"head\"})[0].get_text().splitlines()[1:]\n",
    "columns_bowling_wc = soup_bowling_wc.select(\"table\", {\"class\" : \"engineTable\"})[0].select(\"tr\", {\"class\" : \"head\"})[0].get_text().splitlines()[1:]\n",
    "\n",
    "all_data  = []\n",
    "players_links = []\n",
    "befor_wc_batting_all = []\n",
    "for i in s:\n",
    "    WC_batting_data = i.get_text().splitlines()[1:]\n",
    "    country = i.get_text().splitlines()[1]\n",
    "    m = re.search(r\"\\((\\w+)\\)\", country)\n",
    "    player_link = \"http://www.espncricinfo.com/\" + mapping[m.group(1)] + i.find(\"a\", {\"class\" : \"data-link\"})['href'][3:]\n",
    "    soup_player = BeautifulSoup(requests.get(player_link).text, \"lxml\")\n",
    "    player_name = soup_player.find(\"div\", {\"class\" : \"ciPlayernametxt\"}).find(\"h1\").find(\"a\")[\"alt\"]\n",
    "    player_name = player_name.replace(\"RSS Feed\", \"\").strip()\n",
    "    a = soup_player.find(\"div\", {\"class\" : \"pnl490M\"}).select(\"table\", {\"class\" : \"engineTable\"})\n",
    "    # here replace you betting code\n",
    "    \n",
    "    \n",
    "    break"
   ]
  },
  {
   "cell_type": "code",
   "execution_count": null,
   "metadata": {},
   "outputs": [],
   "source": [
    "\n",
    "for i in s:\n",
    "    all_data.append(i.get_text().splitlines()[1:])\n",
    "    df_bowling_avg = pd.DataFrame(all_data, columns = columns)\n",
    "\n",
    "df_bowling_avg[\"Country\"] = df_bowling_avg.Player.str.extract(\"\\(([^)]+)\")\n",
    "df_bowling_avg[\"Player\"] = df_bowling_avg.Player.str.replace(r\"\\(.*\\)\",\"\").str.strip().str.lower()\n",
    "\n",
    "for i in [\"Mat\", \"Inns\", \"Mdns\", \"Runs\", \"Wkts\", \"4\", \"5\", \"Ct\", \"St\"]:\n",
    "    if \"-\" in df_bowling_avg[i].unique():\n",
    "        df_bowling_avg[i] = df_bowling_avg[i].replace(\"-\", None).astype(int)\n",
    "    else:\n",
    "        df_bowling_avg[i] = df_bowling_avg[i].astype(int)\n",
    "        \n",
    "for i in [\"Overs\", \"Ave\", \"Econ\", \"SR\"]:\n",
    "    if \"-\" in df_bowling_avg[i].unique():\n",
    "        df_bowling_avg[i] = df_bowling_avg[i].replace(\"-\", None).astype(float)\n",
    "    else:\n",
    "        df_bowling_avg[i] = df_bowling_avg[i].astype(float)\n",
    "        \n",
    "        \n",
    "df_bowling_avg.to_csv(\"Bowling_averages.csv\", index=False)\n",
    "df_bowling_avg.head()\n",
    "\n",
    "\n",
    "\n",
    "\n",
    "df = pd.concat([df1, df2.iloc[:, 1:]], axis=1)\n",
    "\n",
    "country = url.split(\"/\")[3]\n",
    "dirs = os.listdir()\n",
    "if not country in os.listdir():\n",
    "    os.makedirs(country)\n",
    "\n",
    "df.to_csv(f\"{country}/{player_name}.csv\")"
   ]
  },
  {
   "cell_type": "code",
   "execution_count": null,
   "metadata": {},
   "outputs": [],
   "source": []
  },
  {
   "cell_type": "code",
   "execution_count": null,
   "metadata": {},
   "outputs": [],
   "source": []
  },
  {
   "cell_type": "code",
   "execution_count": 12,
   "metadata": {},
   "outputs": [],
   "source": []
  },
  {
   "cell_type": "code",
   "execution_count": null,
   "metadata": {},
   "outputs": [],
   "source": []
  },
  {
   "cell_type": "code",
   "execution_count": null,
   "metadata": {},
   "outputs": [],
   "source": []
  },
  {
   "cell_type": "code",
   "execution_count": null,
   "metadata": {},
   "outputs": [],
   "source": [
    "# Bowling averages"
   ]
  },
  {
   "cell_type": "code",
   "execution_count": null,
   "metadata": {},
   "outputs": [],
   "source": []
  },
  {
   "cell_type": "code",
   "execution_count": null,
   "metadata": {},
   "outputs": [],
   "source": []
  }
 ],
 "metadata": {
  "kernelspec": {
   "display_name": "Python 3",
   "language": "python",
   "name": "python3"
  },
  "language_info": {
   "codemirror_mode": {
    "name": "ipython",
    "version": 3
   },
   "file_extension": ".py",
   "mimetype": "text/x-python",
   "name": "python",
   "nbconvert_exporter": "python",
   "pygments_lexer": "ipython3",
   "version": "3.6.8"
  }
 },
 "nbformat": 4,
 "nbformat_minor": 4
}
