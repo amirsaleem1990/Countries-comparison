{
 "cells": [
  {
   "cell_type": "code",
   "execution_count": 6,
   "metadata": {},
   "outputs": [],
   "source": [
    "url_betting_wc = \"http://stats.espncricinfo.com/ci/engine/records/averages/batting.html?id=12357;type=tournament\"\n",
    "soup_betting_wc = BeautifulSoup(requests.get(url_betting_wc).text, \"lxml\")\n",
    "s_batting_wc = soup_betting_wc.select(\"table\", {\"class\" : \"engineTable\"})[0].find_all(\"tbody\")[0].find_all(\"tr\", {\"class\" : \"data1\"})\n",
    "players_links = []\n",
    "countries = []\n",
    "players_names = []\n",
    "mapping = {\"AFG\" : \"afghanistan\",  \"ENG\" : \"england\",  \"WI\"  : \"westindies\",  \"SA\"  : \"southafrica\",\n",
    "           \"PAK\" : \"pakistan\",  \"AUS\" : \"australia\",  \"NZ\"  : \"newzealand\",  \"INDIA\" : \"india\",\n",
    "           \"SL\"  : \"srilanka\",  \"BDESH\" : \"bangladesh\"}\n",
    "for i in s_batting_wc:\n",
    "    WC_batting_data = i.get_text().splitlines()[1:]\n",
    "    country = i.get_text().splitlines()[1]\n",
    "    m = re.search(r\"\\((\\w+)\\)\", country)\n",
    "#     player_link = \"http://www.espncricinfo.com/\" + mapping[m.group(1)] + i.find(\"a\", {\"class\" : \"data-link\"})['href'][3:]\n",
    "#     players_links.append(player_link)\n",
    "    countries.append(mapping[m.group(1)])\n",
    "#     soup_player = BeautifulSoup(requests.get(player_link).text, \"lxml\")\n",
    "#     player_name = soup_player.find(\"div\", {\"class\" : \"ciPlayernametxt\"}).find(\"h1\").find(\"a\")[\"alt\"]\n",
    "#     player_name = player_name.replace(\"RSS Feed\", \"\").strip()\n",
    "#     players_names.append(player_name)\n",
    "for i in ['countries']:#, 'players_links', 'players_names']:\n",
    "    import pickle\n",
    "    with open(f\"{i}.pkl\", \"wb\") as file:\n",
    "        pickle.dump(eval(i), file)"
   ]
  },
  {
   "cell_type": "code",
   "execution_count": 1,
   "metadata": {},
   "outputs": [
    {
     "name": "stderr",
     "output_type": "stream",
     "text": [
      "/usr/lib/python3/dist-packages/requests/__init__.py:80: RequestsDependencyWarning: urllib3 (1.25.3) or chardet (3.0.4) doesn't match a supported version!\n",
      "  RequestsDependencyWarning)\n"
     ]
    }
   ],
   "source": [
    "import requests\n",
    "from bs4 import BeautifulSoup\n",
    "import os\n",
    "import pandas as pd\n",
    "import re\n",
    "import pickle\n",
    "os.chdir(\"all-privous-data\")\n",
    "with open(\"countries.pkl\", \"rb\") as file:\n",
    "    countries = pickle.load(file)\n",
    "with open(\"players_links.pkl\", \"rb\") as file:\n",
    "    players_links = pickle.load(file)\n",
    "with open(\"players_names.pkl\", \"rb\") as file:\n",
    "    players_names = pickle.load(file)\n",
    "        \n",
    "\n",
    "\n",
    "for url, plyr_name, country in zip(players_links, players_names, countries):\n",
    "    if not country in os.listdir():\n",
    "        os.makedirs(country)\n",
    "    a = url[url.rfind(\"/\")+1:url.rfind(\".html\")]\n",
    "    modified_url = f\"http://stats.espncricinfo.com/ci/engine/player/{a}.html?class=2;template=results;type=allround\"\n",
    "    soup = BeautifulSoup(requests.get(modified_url).text, \"lxml\") \n",
    "    b = soup.find(\"div\", {\"class\" : \"pnl650M\"})\n",
    "    c = b.select(\"table\", {\"class\" : \"engineTable\"})[3]\n",
    "    columns = [i for i in c.find(\"thead\").text.splitlines() if i]\n",
    "    rows = []\n",
    "    for row in c.select(\"tbody\")[1:]:\n",
    "        for z in row.select(\"tr\", {\"class\" : \"data1\"}):\n",
    "            d = z.text.splitlines()\n",
    "            if d:\n",
    "                rows.append(d[1:-1])\n",
    "    ddf = pd.DataFrame(rows, columns=columns).dropna(how='all')\n",
    "    ddf.to_csv(country + \"/\" + plyr_name + \".csv\")"
   ]
  },
  {
   "cell_type": "code",
   "execution_count": 8,
   "metadata": {},
   "outputs": [],
   "source": [
    "# for i in ['players_links', 'countries', 'players_names']:\n",
    "#     import pickle\n",
    "#     with open(f\"{i}.pkl\", \"wb\") as file:\n",
    "#         pickle.dump(eval(i), file)"
   ]
  },
  {
   "cell_type": "markdown",
   "metadata": {},
   "source": [
    "# WC datrailed bowling data"
   ]
  },
  {
   "cell_type": "code",
   "execution_count": 89,
   "metadata": {},
   "outputs": [],
   "source": [
    "for url, plyr_name, country in zip(players_links, players_names, countries):\n",
    "    if not country+\"_WC\" in os.listdir():\n",
    "        os.makedirs(country+\"_WC\")\n",
    "    player_number = url[url.rfind(\"/\")+1:url.rfind(\".html\")]\n",
    "    WC_url = f\"http://stats.espncricinfo.com/ci/engine/player/{player_number}.html?class=2;template=results;trophy=12;type=allround;view=innings\"\n",
    "    soup = BeautifulSoup(requests.get(WC_url).text, \"lxml\")\n",
    "    columns = [i for i in soup.find(\"div\", {\"class\" : \"pnl650M\"}).select(\"table\", {\"class\" : \"engineTable\"})[3].find(\"thead\").text.splitlines() if i]\n",
    "    columns = columns[:7] + [\"empty\"] + columns[7:]\n",
    "    s = soup.find(\"div\", {\"class\" : \"pnl650M\"}).select(\"table\", {\"class\" : \"engineTable\"})[3].find(\"tbody\").find_all(\"tr\")\n",
    "    rows = []\n",
    "    for i in s:\n",
    "        rows.append(i.get_text().splitlines()[1:-1])\n",
    "    adf = pd.DataFrame(rows, columns=columns).head()\n",
    "    adf.to_csv(country +\"_WC/\" + plyr_name)"
   ]
  },
  {
   "cell_type": "code",
   "execution_count": null,
   "metadata": {},
   "outputs": [],
   "source": []
  }
 ],
 "metadata": {
  "kernelspec": {
   "display_name": "Python 3",
   "language": "python",
   "name": "python3"
  },
  "language_info": {
   "codemirror_mode": {
    "name": "ipython",
    "version": 3
   },
   "file_extension": ".py",
   "mimetype": "text/x-python",
   "name": "python",
   "nbconvert_exporter": "python",
   "pygments_lexer": "ipython3",
   "version": "3.6.8"
  }
 },
 "nbformat": 4,
 "nbformat_minor": 4
}
