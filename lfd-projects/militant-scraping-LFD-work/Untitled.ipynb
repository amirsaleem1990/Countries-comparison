{
 "cells": [
  {
   "cell_type": "code",
   "execution_count": 1,
   "metadata": {},
   "outputs": [],
   "source": [
    "import requests\n",
    "from bs4 import BeautifulSoup\n",
    "import pickle\n",
    "import pandas as pd"
   ]
  },
  {
   "cell_type": "code",
   "execution_count": 2,
   "metadata": {},
   "outputs": [],
   "source": [
    "url = \"http://web.stanford.edu/group/mappingmilitants/cgi-bin/groups\"\n",
    "soup = BeautifulSoup(requests.get(url).text, \"lxml\")"
   ]
  },
  {
   "cell_type": "code",
   "execution_count": 41,
   "metadata": {},
   "outputs": [],
   "source": [
    "all_blocks = soup.find(\"div\", {\"class\" : \"span-15 colborder\"}).find_all(\"table\", {\"class\" : \"tablesorter\"})"
   ]
  },
  {
   "cell_type": "code",
   "execution_count": 76,
   "metadata": {},
   "outputs": [
    {
     "name": "stdout",
     "output_type": "stream",
     "text": [
      "web.stanford.edu//group/mappingmilitants/cgi-bin/groups/view/523\n",
      "web.stanford.edu//group/mappingmilitants/cgi-bin/groups/view/493\n",
      "web.stanford.edu//group/mappingmilitants/cgi-bin/groups/view/81\n",
      "web.stanford.edu//group/mappingmilitants/cgi-bin/groups/view/361\n",
      "web.stanford.edu//group/mappingmilitants/cgi-bin/groups/view/527\n",
      "web.stanford.edu//group/mappingmilitants/cgi-bin/groups/view/1\n",
      "web.stanford.edu//group/mappingmilitants/cgi-bin/groups/view/91\n",
      "web.stanford.edu//group/mappingmilitants/cgi-bin/groups/view/607\n",
      "web.stanford.edu//group/mappingmilitants/cgi-bin/groups/view/87\n",
      "web.stanford.edu//group/mappingmilitants/cgi-bin/groups/view/119\n",
      "web.stanford.edu//group/mappingmilitants/cgi-bin/groups/view/89\n",
      "web.stanford.edu//group/mappingmilitants/cgi-bin/groups/view/85\n",
      "web.stanford.edu//group/mappingmilitants/cgi-bin/groups/view/152\n",
      "web.stanford.edu//group/mappingmilitants/cgi-bin/groups/view/21\n",
      "web.stanford.edu//group/mappingmilitants/cgi-bin/groups/view/19\n",
      "web.stanford.edu//group/mappingmilitants/cgi-bin/groups/view/615\n",
      "web.stanford.edu//group/mappingmilitants/cgi-bin/groups/view/65\n",
      "web.stanford.edu//group/mappingmilitants/cgi-bin/groups/view/23\n",
      "web.stanford.edu//group/mappingmilitants/cgi-bin/groups/view/395\n",
      "web.stanford.edu//group/mappingmilitants/cgi-bin/groups/view/61\n",
      "web.stanford.edu//group/mappingmilitants/cgi-bin/groups/view/13\n",
      "web.stanford.edu//group/mappingmilitants/cgi-bin/groups/view/553\n",
      "web.stanford.edu//group/mappingmilitants/cgi-bin/groups/view/401\n",
      "web.stanford.edu//group/mappingmilitants/cgi-bin/groups/view/363\n",
      "web.stanford.edu//group/mappingmilitants/cgi-bin/groups/view/219\n",
      "web.stanford.edu//group/mappingmilitants/cgi-bin/groups/view/217\n",
      "web.stanford.edu//group/mappingmilitants/cgi-bin/groups/view/493\n",
      "web.stanford.edu//group/mappingmilitants/cgi-bin/groups/view/5\n",
      "web.stanford.edu//group/mappingmilitants/cgi-bin/groups/view/95\n",
      "web.stanford.edu//group/mappingmilitants/cgi-bin/groups/view/251\n",
      "web.stanford.edu//group/mappingmilitants/cgi-bin/groups/view/215\n",
      "web.stanford.edu//group/mappingmilitants/cgi-bin/groups/view/79\n",
      "web.stanford.edu//group/mappingmilitants/cgi-bin/groups/view/425\n",
      "web.stanford.edu//group/mappingmilitants/cgi-bin/groups/view/129\n",
      "web.stanford.edu//group/mappingmilitants/cgi-bin/groups/view/3\n",
      "web.stanford.edu//group/mappingmilitants/cgi-bin/groups/view/105\n",
      "web.stanford.edu//group/mappingmilitants/cgi-bin/groups/view/1\n",
      "web.stanford.edu//group/mappingmilitants/cgi-bin/groups/view/367\n",
      "web.stanford.edu//group/mappingmilitants/cgi-bin/groups/view/611\n",
      "web.stanford.edu//group/mappingmilitants/cgi-bin/groups/view/152\n",
      "web.stanford.edu//group/mappingmilitants/cgi-bin/groups/view/21\n",
      "web.stanford.edu//group/mappingmilitants/cgi-bin/groups/view/19\n",
      "web.stanford.edu//group/mappingmilitants/cgi-bin/groups/view/65\n",
      "web.stanford.edu//group/mappingmilitants/cgi-bin/groups/view/13\n",
      "web.stanford.edu//group/mappingmilitants/cgi-bin/groups/view/547\n",
      "web.stanford.edu//group/mappingmilitants/cgi-bin/groups/view/601\n",
      "web.stanford.edu//group/mappingmilitants/cgi-bin/groups/view/553\n",
      "web.stanford.edu//group/mappingmilitants/cgi-bin/groups/view/255\n",
      "web.stanford.edu//group/mappingmilitants/cgi-bin/groups/view/493\n",
      "web.stanford.edu//group/mappingmilitants/cgi-bin/groups/view/81\n",
      "web.stanford.edu//group/mappingmilitants/cgi-bin/groups/view/251\n",
      "web.stanford.edu//group/mappingmilitants/cgi-bin/groups/view/105\n",
      "web.stanford.edu//group/mappingmilitants/cgi-bin/groups/view/1\n",
      "web.stanford.edu//group/mappingmilitants/cgi-bin/groups/view/557\n",
      "web.stanford.edu//group/mappingmilitants/cgi-bin/groups/view/367\n",
      "web.stanford.edu//group/mappingmilitants/cgi-bin/groups/view/9\n",
      "web.stanford.edu//group/mappingmilitants/cgi-bin/groups/view/21\n",
      "web.stanford.edu//group/mappingmilitants/cgi-bin/groups/view/395\n",
      "web.stanford.edu//group/mappingmilitants/cgi-bin/groups/view/27\n",
      "web.stanford.edu//group/mappingmilitants/cgi-bin/groups/view/13\n",
      "web.stanford.edu//group/mappingmilitants/cgi-bin/groups/view/11\n",
      "web.stanford.edu//group/mappingmilitants/cgi-bin/groups/view/143\n",
      "web.stanford.edu//group/mappingmilitants/cgi-bin/groups/view/435\n",
      "web.stanford.edu//group/mappingmilitants/cgi-bin/groups/view/29\n",
      "web.stanford.edu//group/mappingmilitants/cgi-bin/groups/view/81\n",
      "web.stanford.edu//group/mappingmilitants/cgi-bin/groups/view/5\n",
      "web.stanford.edu//group/mappingmilitants/cgi-bin/groups/view/25\n",
      "web.stanford.edu//group/mappingmilitants/cgi-bin/groups/view/75\n",
      "web.stanford.edu//group/mappingmilitants/cgi-bin/groups/view/361\n",
      "web.stanford.edu//group/mappingmilitants/cgi-bin/groups/view/629\n",
      "web.stanford.edu//group/mappingmilitants/cgi-bin/groups/view/57\n",
      "web.stanford.edu//group/mappingmilitants/cgi-bin/groups/view/3\n",
      "web.stanford.edu//group/mappingmilitants/cgi-bin/groups/view/31\n",
      "web.stanford.edu//group/mappingmilitants/cgi-bin/groups/view/1\n",
      "web.stanford.edu//group/mappingmilitants/cgi-bin/groups/view/247\n",
      "web.stanford.edu//group/mappingmilitants/cgi-bin/groups/view/259\n",
      "web.stanford.edu//group/mappingmilitants/cgi-bin/groups/view/229\n",
      "web.stanford.edu//group/mappingmilitants/cgi-bin/groups/view/230\n",
      "web.stanford.edu//group/mappingmilitants/cgi-bin/groups/view/231\n",
      "web.stanford.edu//group/mappingmilitants/cgi-bin/groups/view/137\n",
      "web.stanford.edu//group/mappingmilitants/cgi-bin/groups/view/77\n",
      "web.stanford.edu//group/mappingmilitants/cgi-bin/groups/view/233\n",
      "web.stanford.edu//group/mappingmilitants/cgi-bin/groups/view/234\n",
      "web.stanford.edu//group/mappingmilitants/cgi-bin/groups/view/235\n",
      "web.stanford.edu//group/mappingmilitants/cgi-bin/groups/view/21\n",
      "web.stanford.edu//group/mappingmilitants/cgi-bin/groups/view/65\n",
      "web.stanford.edu//group/mappingmilitants/cgi-bin/groups/view/545\n",
      "web.stanford.edu//group/mappingmilitants/cgi-bin/groups/view/547\n",
      "web.stanford.edu//group/mappingmilitants/cgi-bin/groups/view/437\n",
      "web.stanford.edu//group/mappingmilitants/cgi-bin/groups/view/637\n",
      "web.stanford.edu//group/mappingmilitants/cgi-bin/groups/view/675\n",
      "web.stanford.edu//group/mappingmilitants/cgi-bin/groups/view/129\n",
      "web.stanford.edu//group/mappingmilitants/cgi-bin/groups/view/631\n",
      "web.stanford.edu//group/mappingmilitants/cgi-bin/groups/view/1\n",
      "web.stanford.edu//group/mappingmilitants/cgi-bin/groups/view/641\n",
      "web.stanford.edu//group/mappingmilitants/cgi-bin/groups/view/611\n",
      "web.stanford.edu//group/mappingmilitants/cgi-bin/groups/view/21\n",
      "web.stanford.edu//group/mappingmilitants/cgi-bin/groups/view/255\n",
      "web.stanford.edu//group/mappingmilitants/cgi-bin/groups/view/369\n",
      "web.stanford.edu//group/mappingmilitants/cgi-bin/groups/view/397\n",
      "web.stanford.edu//group/mappingmilitants/cgi-bin/groups/view/413\n",
      "web.stanford.edu//group/mappingmilitants/cgi-bin/groups/view/403\n",
      "web.stanford.edu//group/mappingmilitants/cgi-bin/groups/view/317\n",
      "web.stanford.edu//group/mappingmilitants/cgi-bin/groups/view/111\n",
      "web.stanford.edu//group/mappingmilitants/cgi-bin/groups/view/21\n",
      "web.stanford.edu//group/mappingmilitants/cgi-bin/groups/view/615\n",
      "web.stanford.edu//group/mappingmilitants/cgi-bin/groups/view/117\n",
      "web.stanford.edu//group/mappingmilitants/cgi-bin/groups/view/133\n",
      "web.stanford.edu//group/mappingmilitants/cgi-bin/groups/view/297\n",
      "web.stanford.edu//group/mappingmilitants/cgi-bin/groups/view/457\n",
      "web.stanford.edu//group/mappingmilitants/cgi-bin/groups/view/571\n",
      "web.stanford.edu//group/mappingmilitants/cgi-bin/groups/view/363\n",
      "web.stanford.edu//group/mappingmilitants/cgi-bin/groups/view/219\n",
      "web.stanford.edu//group/mappingmilitants/cgi-bin/groups/view/217\n",
      "web.stanford.edu//group/mappingmilitants/cgi-bin/groups/view/101\n",
      "web.stanford.edu//group/mappingmilitants/cgi-bin/groups/view/95\n",
      "web.stanford.edu//group/mappingmilitants/cgi-bin/groups/view/679\n",
      "web.stanford.edu//group/mappingmilitants/cgi-bin/groups/view/445\n",
      "web.stanford.edu//group/mappingmilitants/cgi-bin/groups/view/215\n",
      "web.stanford.edu//group/mappingmilitants/cgi-bin/groups/view/79\n",
      "web.stanford.edu//group/mappingmilitants/cgi-bin/groups/view/425\n",
      "web.stanford.edu//group/mappingmilitants/cgi-bin/groups/view/449\n",
      "web.stanford.edu//group/mappingmilitants/cgi-bin/groups/view/147\n",
      "web.stanford.edu//group/mappingmilitants/cgi-bin/groups/view/411\n",
      "web.stanford.edu//group/mappingmilitants/cgi-bin/groups/view/105\n",
      "web.stanford.edu//group/mappingmilitants/cgi-bin/groups/view/367\n",
      "web.stanford.edu//group/mappingmilitants/cgi-bin/groups/view/145\n",
      "web.stanford.edu//group/mappingmilitants/cgi-bin/groups/view/433\n",
      "web.stanford.edu//group/mappingmilitants/cgi-bin/groups/view/152\n",
      "web.stanford.edu//group/mappingmilitants/cgi-bin/groups/view/601\n",
      "web.stanford.edu//group/mappingmilitants/cgi-bin/groups/view/149\n",
      "web.stanford.edu//group/mappingmilitants/cgi-bin/groups/view/309\n",
      "web.stanford.edu//group/mappingmilitants/cgi-bin/groups/view/379\n",
      "web.stanford.edu//group/mappingmilitants/cgi-bin/groups/view/109\n",
      "web.stanford.edu//group/mappingmilitants/cgi-bin/groups/view/99\n",
      "web.stanford.edu//group/mappingmilitants/cgi-bin/groups/view/21\n",
      "web.stanford.edu//group/mappingmilitants/cgi-bin/groups/view/61\n",
      "web.stanford.edu//group/mappingmilitants/cgi-bin/groups/view/113\n",
      "web.stanford.edu//group/mappingmilitants/cgi-bin/groups/view/107\n",
      "web.stanford.edu//group/mappingmilitants/cgi-bin/groups/view/487\n",
      "web.stanford.edu//group/mappingmilitants/cgi-bin/groups/view/489\n",
      "web.stanford.edu//group/mappingmilitants/cgi-bin/groups/view/523\n",
      "web.stanford.edu//group/mappingmilitants/cgi-bin/groups/view/21\n",
      "web.stanford.edu//group/mappingmilitants/cgi-bin/groups/view/531\n",
      "web.stanford.edu//group/mappingmilitants/cgi-bin/groups/view/143\n",
      "web.stanford.edu//group/mappingmilitants/cgi-bin/groups/view/435\n",
      "web.stanford.edu//group/mappingmilitants/cgi-bin/groups/view/493\n",
      "web.stanford.edu//group/mappingmilitants/cgi-bin/groups/view/81\n",
      "web.stanford.edu//group/mappingmilitants/cgi-bin/groups/view/533\n",
      "web.stanford.edu//group/mappingmilitants/cgi-bin/groups/view/669\n",
      "web.stanford.edu//group/mappingmilitants/cgi-bin/groups/view/361\n",
      "web.stanford.edu//group/mappingmilitants/cgi-bin/groups/view/629\n",
      "web.stanford.edu//group/mappingmilitants/cgi-bin/groups/view/529\n",
      "web.stanford.edu//group/mappingmilitants/cgi-bin/groups/view/527\n",
      "web.stanford.edu//group/mappingmilitants/cgi-bin/groups/view/525\n",
      "web.stanford.edu//group/mappingmilitants/cgi-bin/groups/view/1\n",
      "web.stanford.edu//group/mappingmilitants/cgi-bin/groups/view/645\n"
     ]
    },
    {
     "data": {
      "text/plain": [
       "157"
      ]
     },
     "execution_count": 76,
     "metadata": {},
     "output_type": "execute_result"
    }
   ],
   "source": [
    "c = 0\n",
    "for block in all_blocks:\n",
    "    local_block = block.select(\"tbody\")[0].find_all(\"tr\")\n",
    "    for i in range(len(local_block)):\n",
    "        c += 1\n",
    "        try:\n",
    "            print(\"web.stanford.edu/\" + local_block[i].find_all('a')[0]['href'])\n",
    "        except:\n",
    "            pass\n",
    "c "
   ]
  },
  {
   "cell_type": "code",
   "execution_count": 77,
   "metadata": {},
   "outputs": [
    {
     "data": {
      "text/plain": [
       "False"
      ]
     },
     "execution_count": 77,
     "metadata": {},
     "output_type": "execute_result"
    }
   ],
   "source": [
    "\"http://web.stanford.edu//group/mappingmilitants/cgi-bin/groups/view/645\"\n",
    "\"http://web.stanford.edu/group/mappingmilitants/cgi-bin/groups/view/645\""
   ]
  },
  {
   "cell_type": "code",
   "execution_count": null,
   "metadata": {},
   "outputs": [],
   "source": []
  }
 ],
 "metadata": {
  "kernelspec": {
   "display_name": "Python 3",
   "language": "python",
   "name": "python3"
  },
  "language_info": {
   "codemirror_mode": {
    "name": "ipython",
    "version": 3
   },
   "file_extension": ".py",
   "mimetype": "text/x-python",
   "name": "python",
   "nbconvert_exporter": "python",
   "pygments_lexer": "ipython3",
   "version": "3.6.7"
  }
 },
 "nbformat": 4,
 "nbformat_minor": 2
}
