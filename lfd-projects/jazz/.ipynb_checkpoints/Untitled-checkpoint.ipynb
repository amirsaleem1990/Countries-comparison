{
 "cells": [
  {
   "cell_type": "code",
   "execution_count": 1,
   "metadata": {},
   "outputs": [],
   "source": [
    "import pandas as pd\n",
    "df = pd.read_csv(\"sample_weekday_period.csv\")\n",
    "if \"Unnamed: 0\" in df.columns:\n",
    "    df = df.drop(\"Unnamed: 0\", axis=1)"
   ]
  },
  {
   "cell_type": "code",
   "execution_count": 2,
   "metadata": {},
   "outputs": [],
   "source": [
    "def add_row(row):\n",
    "    global df\n",
    "    df.loc[-1] = row\n",
    "    df.index = df.index + 1 "
   ]
  },
  {
   "cell_type": "code",
   "execution_count": 3,
   "metadata": {},
   "outputs": [
    {
     "name": "stdout",
     "output_type": "stream",
     "text": [
      "Length of df before adding missing rows:  1000\n",
      "Length of df after adding missing rows:  1664\n"
     ]
    }
   ],
   "source": [
    "print(\"Length of df before adding missing rows: \", len(df))\n",
    "import numpy as np\n",
    "counts = df.ACCESS_METHOD_ID_.value_counts()\n",
    "for i in counts[counts < 8].index:\n",
    "    adf = df[df.ACCESS_METHOD_ID_ == i]\n",
    "    bdf = adf.groupby([\"IsWeekDay_\", \"Period_\"]).agg(\"count\").reset_index()\n",
    "    missing = []\n",
    "    lst = [[0, 'afternoon'], [0, 'evening'],[0, 'night'], [0, 'morning'], [1, 'afternoon'], [1, 'evening'],[1, 'night'], [1, 'morning']]\n",
    "    for ii in lst:\n",
    "        if len(bdf[(bdf.IsWeekDay_ == ii[0]) & (bdf.Period_ == ii[1])])  == 1:\n",
    "            pass\n",
    "        else:\n",
    "            missing.append(ii)\n",
    "    for m in missing:\n",
    "        add_row([i, m[0], m[1], 0, 0, 0, 0, 0, 0, 0, 0])\n",
    "print(\"Length of df after adding missing rows: \", len(df))"
   ]
  }
 ],
 "metadata": {
  "kernelspec": {
   "display_name": "Python 3",
   "language": "python",
   "name": "python3"
  },
  "language_info": {
   "codemirror_mode": {
    "name": "ipython",
    "version": 3
   },
   "file_extension": ".py",
   "mimetype": "text/x-python",
   "name": "python",
   "nbconvert_exporter": "python",
   "pygments_lexer": "ipython3",
   "version": "3.6.7"
  }
 },
 "nbformat": 4,
 "nbformat_minor": 2
}
