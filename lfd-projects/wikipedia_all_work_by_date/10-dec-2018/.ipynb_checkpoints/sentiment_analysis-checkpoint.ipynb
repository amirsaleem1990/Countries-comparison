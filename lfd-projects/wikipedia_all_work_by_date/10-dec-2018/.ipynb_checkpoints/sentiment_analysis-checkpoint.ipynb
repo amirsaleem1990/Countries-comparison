{
 "cells": [
  {
   "cell_type": "code",
   "execution_count": 28,
   "metadata": {},
   "outputs": [
    {
     "name": "stdout",
     "output_type": "stream",
     "text": [
      "Total Articles               1329\n",
      "After removing Na            1259\n",
      "After removing duplicates    1084\n"
     ]
    }
   ],
   "source": [
    "import pandas as pd\n",
    "from itertools import groupby\n",
    "from nltk.tokenize import word_tokenize\n",
    "import wikipedia\n",
    "from nltk.tag.stanford import StanfordNERTagger\n",
    "import pickle\n",
    "df = pd.read_csv('full_news_table_extracted_from_db.csv', delimiter='|')\n",
    "# df.shape\n",
    "t = df.full_text\n",
    "print('Total Articles{:>19}'.format(len(t)))\n",
    "t =t.dropna()\n",
    "print('After removing Na{:>16}'.format(len(t)))\n",
    "t.drop_duplicates(inplace=True)\n",
    "print('After removing duplicates{:>8}'.format(len(t)))\n",
    "t = list(t)\n",
    "def extract_entities(text):\n",
    "    st = StanfordNERTagger(\"english.all.3class.distsim.crf.ser.gz\",\"stanford-ner.jar\")\n",
    "    tokens = word_tokenize(text)\n",
    "    tags = st.tag(tokens)\n",
    "    return tags\n",
    "\n",
    "dic = {}\n",
    "for ii in t[:5]:\n",
    "    c = t.index(ii)\n",
    "    netagged_words = extract_entities(ii)\n",
    "    temp_list = []\n",
    "    for tag, chunk in groupby(netagged_words, lambda x:x[1]):\n",
    "        if tag == 'PERSON':\n",
    "            if c in dic:\n",
    "                dic[c].append(\" \".join(w for w, t in chunk))\n",
    "            else:\n",
    "                dic[c] = [(\" \".join(w for w, t in chunk))]\n",
    "\n",
    "with open('all_entities_v2.txt', 'w') as file:\n",
    "    for i in dic:\n",
    "        file.write(str(i) + '\\t' + ','.join(dic[i]) + '\\n')\n",
    "with open('all_entities_v2.pkl', 'wb') as file:\n",
    "    pickle.dump(aa, file)"
   ]
  },
  {
   "cell_type": "markdown",
   "metadata": {},
   "source": [
    "df = pd.read_csv('wikipedia_data.csv')\n",
    "wikipedia_name = wikipedia.page(name).original_title\n",
    "if wikipedia_name in df.Name:\n",
    "    df[df.Name == wikipedia_name]\n",
    "else:\n",
    "    print('sorry')\n",
    "    sys.exit()"
   ]
  },
  {
   "cell_type": "code",
   "execution_count": 27,
   "metadata": {},
   "outputs": [
    {
     "data": {
      "text/plain": [
       "{0: ['Imran Khan'],\n",
       " 1: ['Asad Umar', 'Asad Umar'],\n",
       " 2: ['Nacta', 'Asad'],\n",
       " 3: ['Asad Umar'],\n",
       " 5: ['Nacta'],\n",
       " 6: ['Asad'],\n",
       " 7: ['Raheel Qamar Ahmad', 'Baloch', 'Samiullah'],\n",
       " 11: ['Samiullah'],\n",
       " 12: ['Imran Khan', 'Hundi'],\n",
       " 13: ['Imran Khan'],\n",
       " 14: ['Asad Omar',\n",
       "  'Anwar Mansoor Khan',\n",
       "  'Zulfiqar Abbas Bukhari',\n",
       "  'Iftikhar Durrani',\n",
       "  'NADRA']}"
      ]
     },
     "execution_count": 27,
     "metadata": {},
     "output_type": "execute_result"
    }
   ],
   "source": [
    "\n",
    "# for ii in t:\n",
    "#     netagged_words = extract_entities(ii)\n",
    "#     from itertools import groupby\n",
    "#     for tag, chunk in groupby(netagged_words, lambda x:x[1]):\n",
    "#         if tag == 'PERSON' and tag != \"O\":\n",
    "#             print(\"%-12s\"%tag, \" \".join(w for w, t in chunk))\n",
    "#     print('........')\n",
    "\n"
   ]
  },
  {
   "cell_type": "code",
   "execution_count": null,
   "metadata": {},
   "outputs": [],
   "source": []
  }
 ],
 "metadata": {
  "kernelspec": {
   "display_name": "Python 3",
   "language": "python",
   "name": "python3"
  },
  "language_info": {
   "codemirror_mode": {
    "name": "ipython",
    "version": 3
   },
   "file_extension": ".py",
   "mimetype": "text/x-python",
   "name": "python",
   "nbconvert_exporter": "python",
   "pygments_lexer": "ipython3",
   "version": "3.6.4"
  }
 },
 "nbformat": 4,
 "nbformat_minor": 2
}
