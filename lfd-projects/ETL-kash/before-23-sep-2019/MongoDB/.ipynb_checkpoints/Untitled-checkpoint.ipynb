{
 "cells": [
  {
   "cell_type": "code",
   "execution_count": 24,
   "metadata": {},
   "outputs": [
    {
     "ename": "SyntaxError",
     "evalue": "invalid syntax (<ipython-input-24-9f787dabc62f>, line 48)",
     "output_type": "error",
     "traceback": [
      "\u001b[0;36m  File \u001b[0;32m\"<ipython-input-24-9f787dabc62f>\"\u001b[0;36m, line \u001b[0;32m48\u001b[0m\n\u001b[0;31m    $\u001b[0m\n\u001b[0m    ^\u001b[0m\n\u001b[0;31mSyntaxError\u001b[0m\u001b[0;31m:\u001b[0m invalid syntax\n"
     ]
    }
   ],
   "source": [
    "import pandas as pd\n",
    "import os\n",
    "import text_files_to_dataframes\n",
    "from pymongo import MongoClient\n",
    "\n",
    "df_sms_log = text_files_to_dataframes.sms_log_func()\n",
    "df_outgoing_call_log = text_files_to_dataframes.outgoing_call_log_func()\n",
    "df_accounts_list = text_files_to_dataframes.accounts_list_func()\n",
    "df_filter_app_log = text_files_to_dataframes.filter_app_log_func()\n",
    "df_calendar_events = text_files_to_dataframes.calendar_events_func()\n",
    "df_location = text_files_to_dataframes.location_func()\n",
    "df_galary_data = text_files_to_dataframes.df_gallery_data_func()\n",
    "df_call_log = text_files_to_dataframes.call_log_func()\n",
    "df_contacts_list = text_files_to_dataframes.contacts_list_func()\n",
    "df_app_install_log = text_files_to_dataframes.app_install_log_func()\n",
    "df_ext_storage_files = text_files_to_dataframes.ext_storage_files_func()\n",
    "df_sms_sent_log = text_files_to_dataframes.sms_sent_log_func()\n",
    "S_phone_battery_level = text_files_to_dataframes.phone_battery_level_func()\n",
    "S_ip_address = text_files_to_dataframes.ip_address_func()\n",
    "S_device_info = text_files_to_dataframes.device_info_func()\n",
    "S_storage_size = text_files_to_dataframes.storage_size_func()\n",
    "\n",
    "# first go to terminal and type <sudo mongod>\n",
    "# https://api.mongodb.com/python/current/tutorial.html\n",
    "#point the client\n",
    "client = MongoClient('localhost', 27017)\n",
    "\n",
    "#select database\n",
    "db = client.temp3DB\n",
    "\n",
    "# db.list_collection_names()\n",
    "# db.tempTable.remove()\n",
    "\n",
    "# DATAFRAMES\n",
    "for collection in ['sms_log', 'outgoing_call_log', 'accounts_list', 'filter_app_log', 'calendar_events', 'location', 'galary_data', 'call_log', 'contacts_list', 'app_install_log', 'ext_storage_files', 'sms_sent_log']:\n",
    "    mongoDB_exits = pd.DataFrame(list(db[collection].find()))\n",
    "    if len(mongoDB_exits) > 0:\n",
    "        mongoDB_exits = mongoDB_exits.drop([\"ID\", \"_id\"], axis=1)\n",
    "    fresh_data = eval(\"df_\" + collection)\n",
    "#     fresh_data = [i[1].to_dict() for i in eval(\"df_\" + collection).iterrows()]\n",
    "    # srif wo records jo <fresh_data> me hen lekin <mongoDB_exits> me nahi\n",
    "    only_new = fresh_data[~fresh_data.isin(mongoDB_exits.to_dict('l')).all(1)]\n",
    "    if len(only_new) > 0:\n",
    "        only_new_list_of_dicts = [i[1].to_dict() for i in only_new.iterrows()]\n",
    "        only_new_list_of_dicts[\"ID\"] = \"ID2\" \n",
    "        db[collection].insert_many(only_new_list_of_dicts)\n",
    "        \n",
    "        \n",
    "# SERIES\n",
    "db = client.temp3DBMaster\n",
    "if len(S_phone_battery_level) == 0:\n",
    "    S_phone_battery_level = pd.Series({\"battery_level\" : \"NA\"})\n",
    "\n",
    "if len(S_ip_address) == 0:\n",
    "    S_ip_address = pd.Series({\"ipaddress\" : \"NA\"})\n",
    "    \n",
    "if len(S_device_info) == 0:\n",
    "    S_device_info = pd.Series({'brand': 'NA',\n",
    "                             'deviceSoftware': 'NA',\n",
    "                             'manufacturer': 'NA',\n",
    "                             'networkOperator': 'NA',\n",
    "                             'ram': 'NA',\n",
    "                             'model': 'NA'})\n",
    "    \n",
    "if len(S_storage_size) == 0:\n",
    "    S_storage_size = pd.Series({'storage_size': 'NA'})\n",
    "\n",
    "mongoDB_exits = pd.DataFrame(list(db[\"Master\"].find()))\n",
    "if len(mongoDB_exits) > 0:\n",
    "    mongoDB_exits = mongoDB_exits.drop([\"ID\", \"_id\"], axis=1)\n",
    "fresh_data = pd.DataFrame(pd.concat([S_phone_battery_level, S_ip_address, S_device_info, S_storage_size])).T\n",
    "\n",
    "# srif wo records jo <fresh_data> me hen lekin <mongoDB_exits> me nahi\n",
    "only_new = fresh_data[~fresh_data.isin(mongoDB_exits.to_dict('l')).all(1)]\n",
    "if len(only_new) > 0:\n",
    "    only_new_list_of_dicts = [i[1].to_dict() for i in only_new.iterrows()]\n",
    "    only_new_list_of_dicts[\"ID\"] = \"ID_2\"\n",
    "    db[\"Master\"].insert_one(only_new_list_of_dicts)"
   ]
  },
  {
   "cell_type": "code",
   "execution_count": 8,
   "metadata": {},
   "outputs": [
    {
     "data": {
      "text/plain": [
       "5"
      ]
     },
     "execution_count": 8,
     "metadata": {},
     "output_type": "execute_result"
    }
   ],
   "source": [
    "import os\n",
    "from pymongo import MongoClient\n",
    "import datetime\n",
    "import pprint\n",
    "os.chdir(\"/home/amir/\")\n",
    "# first go to terminal and type <sudo mongod>\n",
    "# https://api.mongodb.com/python/current/tutorial.html\n",
    "\n",
    "#point the client\n",
    "client = MongoClient('localhost', 27017)\n",
    "\n",
    "#select database\n",
    "db = client.temp2DB\n",
    "\n",
    "# data\n",
    "post = [i[1].to_dict() for i in df_location.iterrows()]\n",
    "\n",
    "# insert data to collection \n",
    "db.tempTable.insert_many(post)\n",
    "\n",
    "# db.list_collection_names()\n",
    "# db.tempTable.remove()\n",
    "\n",
    "len(pd.DataFrame(list(db.tempTable.find())))"
   ]
  },
  {
   "cell_type": "code",
   "execution_count": 22,
   "metadata": {},
   "outputs": [
    {
     "ename": "NameError",
     "evalue": "name 'sqlite3' is not defined",
     "output_type": "error",
     "traceback": [
      "\u001b[0;31m---------------------------------------------------------------------------\u001b[0m",
      "\u001b[0;31mNameError\u001b[0m                                 Traceback (most recent call last)",
      "\u001b[0;32m<ipython-input-22-d88b83ddb705>\u001b[0m in \u001b[0;36m<module>\u001b[0;34m()\u001b[0m\n\u001b[1;32m     11\u001b[0m \u001b[0;34m\u001b[0m\u001b[0m\n\u001b[1;32m     12\u001b[0m \u001b[0;34m\u001b[0m\u001b[0m\n\u001b[0;32m---> 13\u001b[0;31m \u001b[0mconn\u001b[0m \u001b[0;34m=\u001b[0m \u001b[0msqlite3\u001b[0m\u001b[0;34m.\u001b[0m\u001b[0mconnect\u001b[0m\u001b[0;34m(\u001b[0m\u001b[0;34m'/home/amir/ETL.db'\u001b[0m\u001b[0;34m)\u001b[0m\u001b[0;34m\u001b[0m\u001b[0;34m\u001b[0m\u001b[0m\n\u001b[0m\u001b[1;32m     14\u001b[0m for table_name, i in zip([\"sms_log\",\"outgoing_call_log\",\"accounts_list\",\"filter_app_log\",\"calendar_events\",\n\u001b[1;32m     15\u001b[0m     \"location\",\"galary_data\",\"call_log\",\"contacts_list\",\"app_install_log\",\"ext_storage_files\",\"sms_sent_log\"], \n",
      "\u001b[0;31mNameError\u001b[0m: name 'sqlite3' is not defined"
     ]
    }
   ],
   "source": [
    "os.chdir('/home/amir/github/LFD-projects/ETL-cash-egypt/4-sep-2019')\n",
    "file_name = \"Sample 2 - Sept 2.zip\"\n",
    "folder_name = file_name.replace(\".zip\", \"\")\n",
    "if not folder_name in os.listdir():\n",
    "    os.mkdir(folder_name)\n",
    "    with zipfile.ZipFile(file_name, 'r') as zip_ref:\n",
    "        zip_ref.extractall(folder_name)\n",
    "os.chdir(folder_name)\n",
    "\n",
    "\n",
    "conn = sqlite3.connect('/home/amir/ETL.db')  \n",
    "for table_name, i in zip([\"sms_log\",\"outgoing_call_log\",\"accounts_list\",\"filter_app_log\",\"calendar_events\",\n",
    "    \"location\",\"galary_data\",\"call_log\",\"contacts_list\",\"app_install_log\",\"ext_storage_files\",\"sms_sent_log\"], \n",
    "    [df_sms_log, df_outgoing_call_log, df_accounts_list, df_filter_app_log,df_calendar_events,df_location,\n",
    "    df_galary_data,df_call_log,df_contacts_list,df_app_install_log,df_ext_storage_files,df_sms_sent_log]):\n",
    "    if len(i) > 0:\n",
    "        df_SQL_exist = pd.read_sql_query(\"SELECT * FROM \" + table_name, conn)\n",
    "        # srif wo records jo <i> me hen lekin <df_SQL_exist> me nahi\n",
    "        only_new = i[~i.isin(df_SQL_exist.to_dict('l')).all(1)]\n",
    "        only_new['ID'] = [\"ID Sep 2(sample 2)\" for z in range(len(only_new))]\n",
    "        only_new = only_new[[\"ID\"] + only_new.columns[:-1].to_list()]\n",
    "        only_new.to_sql(table_name, conn, index=False, if_exists='append')\n",
    "\n",
    "if len(S_phone_battery_level) == 0:\n",
    "    S_phone_battery_level = pd.Series({\"battery_level\" : \"NA\"})\n",
    "\n",
    "if len(S_ip_address) == 0:\n",
    "    S_ip_address = pd.Series({\"ipaddress\" : \"NA\"})\n",
    "    \n",
    "if len(S_device_info) == 0:\n",
    "    S_device_info = pd.Series({' brand': 'NA',\n",
    "                             ' deviceSoftware': 'NA',\n",
    "                             ' manufacturer': 'NA',\n",
    "                             ' networkOperator': 'NA',\n",
    "                             ' ram': 'NA',\n",
    "                             'model': 'NA'})\n",
    "    \n",
    "if len(S_storage_size) == 0:\n",
    "    S_storage_size = pd.Series({'storage_size': 'NA'})\n",
    "    \n",
    "conn = sqlite3.connect('/home/amir/Master.db')  \n",
    "c = conn.cursor()\n",
    "\n",
    "df_master = pd.DataFrame(pd.concat([S_phone_battery_level, S_ip_address, S_device_info, S_storage_size])).T\n",
    "df_sql = pd.read_sql_query(\"SELECT * FROM Master\", conn)\n",
    "\n",
    "dm = df_master[[i for i in df_master.columns if i != \"ID\"]]\n",
    "ds = df_sql[[i for i in df_sql.columns if i != \"ID\"]]\n",
    "\n",
    "if not pd.merge(dm,ds).equals(dm):\n",
    "    dm[\"ID\"] = [\"ID Sep 2(sample 2)\"]\n",
    "    dm.to_sql('Master', conn, index=False, if_exists='append')"
   ]
  },
  {
   "cell_type": "code",
   "execution_count": 20,
   "metadata": {},
   "outputs": [
    {
     "data": {
      "text/html": [
       "<div>\n",
       "<style scoped>\n",
       "    .dataframe tbody tr th:only-of-type {\n",
       "        vertical-align: middle;\n",
       "    }\n",
       "\n",
       "    .dataframe tbody tr th {\n",
       "        vertical-align: top;\n",
       "    }\n",
       "\n",
       "    .dataframe thead th {\n",
       "        text-align: right;\n",
       "    }\n",
       "</style>\n",
       "<table border=\"1\" class=\"dataframe\">\n",
       "  <thead>\n",
       "    <tr style=\"text-align: right;\">\n",
       "      <th></th>\n",
       "      <th>date</th>\n",
       "      <th>count</th>\n",
       "    </tr>\n",
       "  </thead>\n",
       "  <tbody>\n",
       "  </tbody>\n",
       "</table>\n",
       "</div>"
      ],
      "text/plain": [
       "Empty DataFrame\n",
       "Columns: [date, count]\n",
       "Index: []"
      ]
     },
     "execution_count": 20,
     "metadata": {},
     "output_type": "execute_result"
    }
   ],
   "source": [
    "# pd.DataFrame(list(db['sms_log'].find()))"
   ]
  },
  {
   "cell_type": "code",
   "execution_count": null,
   "metadata": {},
   "outputs": [],
   "source": []
  }
 ],
 "metadata": {
  "kernelspec": {
   "display_name": "Python 3",
   "language": "python",
   "name": "python3"
  },
  "language_info": {
   "codemirror_mode": {
    "name": "ipython",
    "version": 3
   },
   "file_extension": ".py",
   "mimetype": "text/x-python",
   "name": "python",
   "nbconvert_exporter": "python",
   "pygments_lexer": "ipython3",
   "version": "3.6.8"
  }
 },
 "nbformat": 4,
 "nbformat_minor": 2
}
