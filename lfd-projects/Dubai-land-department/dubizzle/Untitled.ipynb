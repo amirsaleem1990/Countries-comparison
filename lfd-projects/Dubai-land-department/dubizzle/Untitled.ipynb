{
 "cells": [
  {
   "cell_type": "code",
   "execution_count": 1,
   "metadata": {},
   "outputs": [],
   "source": [
    "import requests\n",
    "from bs4 import BeautifulSoup\n",
    "import pickle\n",
    "import pandas as pd\n",
    "import os\n",
    "\n"
   ]
  },
  {
   "cell_type": "markdown",
   "metadata": {},
   "source": [
    "base_link = \"https://dubai.dubizzle.com/property-for-rent/?page={}&is_search=1&is_basic_search_widget=1&keywords=\"\n",
    "urls = [base_link.format(i) for i in range(1, 101)]\n",
    "\n",
    "lst = []\n",
    "for url in urls:\n",
    "    soup = BeautifulSoup(requests.get(url).text, \"lxml\")\n",
    "    a = soup.find(\"div\", {\"id\" : \"results-list\"}).select(\"div\", {\"class\" : \"block has_photo\"})\n",
    "    for i in a:\n",
    "        try:\n",
    "            b = i.find(\"div\", {\"class\" : \"card card-thumb\"}).find(\"a\")['href']\n",
    "            if \"&pos=\" in b:\n",
    "                lst.append(b)\n",
    "        except:\n",
    "            pass\n",
    "with open(\"all_urls_for_individual_adds.pkl\", \"wb\") as file:\n",
    "    pickle.dump(list(set(lst)), file)"
   ]
  },
  {
   "cell_type": "code",
   "execution_count": 2,
   "metadata": {},
   "outputs": [],
   "source": [
    "with open(\"all_urls_for_individual_adds.pkl\", \"rb\") as file: \n",
    "    lst = pickle.load(file)"
   ]
  },
  {
   "cell_type": "code",
   "execution_count": null,
   "metadata": {},
   "outputs": [],
   "source": [
    "add_url = lst[0]\n",
    "headers  = {\"Date\" : \"Mon, 30 Sep 2019 06:52:15 GMT\", \n",
    "\"Content-Type\" : \"text/html; charset=utf-8\", \n",
    "\"Transfer-Encoding\" : \"chunked\", \n",
    "\"Connection\" : \"keep-alive\", \n",
    "\"Cache-Control\" : \"no-cache\", \n",
    "\"Cache-Control\" : \"no-store\", \n",
    "\"Content-Encoding\" : \"gzip\", \n",
    "\"Content-Language\" : \"en\", \n",
    "\"Expires\" : \"Mon, 30 Sep 2019 06:52:14 GMT\", \n",
    "\"Set-Cookie\" : \"skybar_sess_False=1; Domain=.dubizzle.com; expires=Tue, 01 Oct 2019 06:52:15 GMT; Path=/\", \n",
    "\"Set-Cookie\" : \"default_site=2; Domain=.dubizzle.com; expires=Tue, 29-Sep-2020 06:52:15 GMT; Path=/\", \n",
    "\"Set-Cookie\" : \"paabar_sess=; Domain=.dubizzle.com; expires=Thu, 01-Jan-1970 00:00:00 GMT; Max-Age=0; Path=/\", \n",
    "\"Vary\" : \"Accept-Language, Cookie\", \n",
    "\"X-Correlation-Id\" : \"bc200d4a4a2b5aee45778b651d9597a5, 3e350e7f-c217-4417-8609-2a8173f1808f\", \n",
    "\"X-Correlation-Id\" : \"bc200d4a4a2b5aee45778b651d9597a5\", \n",
    "\"x-xss-protection\" : \"1; mode=block\", \n",
    "\"Server\" : \"Dubizzle\", \n",
    "\"X-Content-Type-Options\" : \"nosniff\", \n",
    "\"Referrer-Policy\" : \"origin-when-cross-origin\", \n",
    "\"Strict-Transport-Security\" : \"max-age=31536000\", \n",
    "\"Content-Security-Policy\" : \"frame-ancestors http://*.dubizzle.com https://*.dubizzle.com https://app.optimizely.com\"}\n",
    "soup = BeautifulSoup(requests.get(add_url, headers = headers).text, \"lxml\")\n",
    "a = soup.find(\"div\", {\"class\" : \"sc-htpNat sc-chPdSV dzsr\"})"
   ]
  },
  {
   "cell_type": "code",
   "execution_count": null,
   "metadata": {},
   "outputs": [],
   "source": [
    "a"
   ]
  },
  {
   "cell_type": "code",
   "execution_count": null,
   "metadata": {},
   "outputs": [],
   "source": []
  }
 ],
 "metadata": {
  "kernelspec": {
   "display_name": "Python 3",
   "language": "python",
   "name": "python3"
  },
  "language_info": {
   "codemirror_mode": {
    "name": "ipython",
    "version": 3
   },
   "file_extension": ".py",
   "mimetype": "text/x-python",
   "name": "python",
   "nbconvert_exporter": "python",
   "pygments_lexer": "ipython3",
   "version": "3.6.9"
  }
 },
 "nbformat": 4,
 "nbformat_minor": 4
}
