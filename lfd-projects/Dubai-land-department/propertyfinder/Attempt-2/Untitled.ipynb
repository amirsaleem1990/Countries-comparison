{
 "cells": [
  {
   "cell_type": "code",
   "execution_count": 1,
   "metadata": {},
   "outputs": [],
   "source": [
    "import requests\n",
    "from bs4 import BeautifulSoup\n",
    "import pandas as pd\n",
    "import pickle\n",
    "with open(\"../links-buy.pkl\", \"rb\") as file:\n",
    "    links_buy = pickle.load(file)\n",
    "links_buy = [\"https://www.propertyfinder.ae\" + i for i in links_buy]abcdef\n",
    "all_records_list = []\n",
    "errors = []\n",
    "for url in links_buy:\n",
    "    try:\n",
    "        values = []\n",
    "        keys = []\n",
    "        soup = BeautifulSoup(requests.get(url).text, \"lxml\")\n",
    "        a = soup.find(\"div\", {\"class\" : \"facts__container\"}).find(\"div\", {\"class\", \"facts__list\"})\n",
    "        for e, i in enumerate(a.find_all(\"div\", {\"class\" : \"facts__list-item\"})):\n",
    "            if e != 4:\n",
    "                keys.append(i.find(\"div\", {\"class\" : \"facts__label\"}).text.strip())\n",
    "        for e, i in enumerate(a.find_all(\"div\", {\"class\" : \"facts__content\"})):\n",
    "            if e != 3:\n",
    "                values.append(i.text.strip().replace(\"\\n\", \"\").replace(\"  \", \"\"))\n",
    "        \n",
    "        b = soup.find(\"div\", {\"class\" : \"amenities__list\"})\n",
    "        amenities = list(set([i.text.strip() for i in b.select(\"div\", {\"class\" : \"amenities__list-item\"})]))\n",
    "        str_amenities = \"{\"\n",
    "        for i in amenities:\n",
    "            str_amenities += i + \",\"\n",
    "        str_amenities += \"}\"\n",
    "        str_amenities = str_amenities.replace(\",}\", \"}\")\n",
    "        price = soup.find(\"span\", {\"class\" : \"facts__content--price-value\"}).text\n",
    "        phone = int(''.join([i for i in str(soup)[str(soup).find(\"tel:\"): str(soup).find(\"tel:\")+20] if i.isnumeric() or i == \"+\"]))\n",
    "        \n",
    "        one_record_dict = dict(zip(keys, values))\n",
    "        one_record_dict['url'] = url\n",
    "        one_record_dict['amenities'] = str_amenities\n",
    "        one_record_dict['price'] = price\n",
    "        one_record_dict['phone'] = phone\n",
    "        all_records_list.append(one_record_dict)\n",
    "    except:\n",
    "        errors.append(url)\n",
    "        pass\n",
    "df = pd.DataFrame(all_records_list)\n",
    "\n",
    "with open(\"errorsabcdef.pkl\", \"wb\") as file:\n",
    "    pickle.dump(errors, file)\n",
    "with open(\"dfabcdef.pkl\", \"wb\") as file:\n",
    "    pickle.dump(df, file)\n",
    "with open(\"all_records_listabcdef.pkl\", \"wb\") as file:\n",
    "    pickle.dump(all_records_list, file)"
   ]
  }
 ],
 "metadata": {
  "kernelspec": {
   "display_name": "Python 3",
   "language": "python",
   "name": "python3"
  },
  "language_info": {
   "codemirror_mode": {
    "name": "ipython",
    "version": 3
   },
   "file_extension": ".py",
   "mimetype": "text/x-python",
   "name": "python",
   "nbconvert_exporter": "python",
   "pygments_lexer": "ipython3",
   "version": "3.6.8"
  }
 },
 "nbformat": 4,
 "nbformat_minor": 2
}
