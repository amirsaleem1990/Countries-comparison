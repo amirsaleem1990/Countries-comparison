{
 "cells": [
  {
   "cell_type": "markdown",
   "metadata": {},
   "source": [
    "# Extrect add links [for sale]"
   ]
  },
  {
   "cell_type": "markdown",
   "metadata": {},
   "source": [
    "import pandas as pd\n",
    "import requests\n",
    "import pickle\n",
    "from bs4 import BeautifulSoup\n",
    "\n",
    "links_buy = []\n",
    "urls = [\"https://www.propertyfinder.ae/en/buy/properties-for-sale.html?page=\" + str(i) for i in range(1, 1635)]\n",
    "for url in urls:\n",
    "    soup = BeautifulSoup(requests.get(url).text, \"lxml\")\n",
    "    a = soup.find(\"div\", {\"data-qs\" : \"property-list\"}).find(\"div\", {\"class\" : \"card-list card-list--property\"})\n",
    "    for i in a.select(\"div\", {\"class\" : \"card-list__item\", \"data-qs\" : \"cardlist\"}):\n",
    "        try:\n",
    "            i.find(\"div\", {\"class\" : \"card__image card__image--property\"}).text\n",
    "            b = i.find(\"a\")\n",
    "            links_buy.append(b['href'])\n",
    "        except:\n",
    "            pass\n",
    "with open(\"links-buy.pkl\", \"wb\") as file:\n",
    "    pickle.dump(links_buy, file)"
   ]
  },
  {
   "cell_type": "markdown",
   "metadata": {},
   "source": [
    "# Extrect add links [for Rent]"
   ]
  },
  {
   "cell_type": "markdown",
   "metadata": {},
   "source": [
    "import pandas as pd\n",
    "import requests\n",
    "import pickle\n",
    "from bs4 import BeautifulSoup\n",
    "links_rent = []\n",
    "urls = [\"https://www.propertyfinder.ae/en/rent/properties-for-rent.html?page=\" + str(i) for i in range(1, 1866)]\n",
    "errors = []\n",
    "for e, url in enumerate(urls):\n",
    "\tsoup = BeautifulSoup(requests.get(url).text, \"lxml\")\n",
    "\ttry:\n",
    "\t\ta = soup.find(\"div\", {\"data-qs\" : \"property-list\"}).find(\"div\", {\"class\" : \"card-list card-list--property\"})\n",
    "\t\tfor i in a.select(\"div\", {\"class\" : \"card-list__item\", \"data-qs\" : \"cardlist\"}):\n",
    "\t\t\ttry:\n",
    "\t\t\t\ti.find(\"div\", {\"class\" : \"card__image card__image--property\"}).text\n",
    "\t\t\t\tb = i.find(\"a\")\n",
    "\t\t\t\tlinks_rent.append(b['href'])\n",
    "\t\t\texcept:\n",
    "\t\t\t\tpass\n",
    "\texcept:\n",
    "\t\terrors.append(e)\n",
    "\t\tpass\n",
    "\tprint(len(links_rent), end=\"|\")\n",
    "\n",
    "if not errors:\n",
    "\twith open(\"links-rent.pkl\", \"wb\") as file:\n",
    "\t\tpickle.dump(links_rent, file)\n",
    "\t\tprint(\"saved to pickle file\")\n",
    "\n",
    "else:\n",
    "   print(\"\\n\\nNOTE: there is some errors, check <errors> variable\")"
   ]
  },
  {
   "cell_type": "markdown",
   "metadata": {},
   "source": [
    "# Scraping all adds [for buy]"
   ]
  },
  {
   "cell_type": "code",
   "execution_count": null,
   "metadata": {},
   "outputs": [],
   "source": [
    "import pandas as pd\n",
    "import requests\n",
    "import pickle\n",
    "from bs4 import BeautifulSoup\n",
    "\n",
    "with open(\"links-buy.pkl\", \"rb\") as file:\n",
    "    links_buy = pickle.load(file)\n",
    "\n",
    "error_links = []\n",
    "base_url = \"https://www.propertyfinder.ae\"\n",
    "list_of_all_properties = []\n",
    "for ee, url in enumerate(links_buy):\n",
    "    try:\n",
    "        soup = BeautifulSoup(requests.get(base_url + url).text, \"lxml\")\n",
    "        a = soup.find(\"div\", {\"class\" : \"property-page__facts-amenities\"}).find(\"div\", {\"class\" : \"facts__list\"})\n",
    "\n",
    "        lst = []\n",
    "        for e, i in enumerate(a.select(\"div\", {\"class\" : \"facts__list-item\"})):\n",
    "            if e in [1,3,10,11,13,14, 22, 23, 25, 26, 28, 29,31, 32]:\n",
    "                lst.append(''.join(i.text.strip().splitlines()).replace(\"  \", \"\"))\n",
    "\n",
    "        one_property_dict = dict(zip(lst[::2], lst[1:][::2]))\n",
    "        one_property_dict['url'] = base_url + url\n",
    "        list_of_all_properties.append(one_property_dict)\n",
    "    except:\n",
    "        error_links.append(ee)\n",
    "        pass\n",
    "    print(f\"Link number: {ee}\\t\\tLenght of list: {len(list_of_all_properties)}\\t\\tErrors Qty: {len(error_links)}\")\n",
    "\n",
    "df = pd.DataFrame(list_of_all_properties)\n",
    "\n",
    "with open(\"buy-errors.pkl\", \"wb\") as file:\n",
    "    pickle.dump(error_links, file)\n",
    "with open(\"buy-list_of_all_properties.pkl\", \"wb\") as file:\n",
    "    pickle.dump(list_of_all_properties, file)\n",
    "with open(\"buy-df.pkl\", \"wb\") as file:\n",
    "    pickle.dump(df, file)"
   ]
  },
  {
   "cell_type": "markdown",
   "metadata": {},
   "source": [
    "# Scraping all adds [for Rent]"
   ]
  },
  {
   "cell_type": "code",
   "execution_count": null,
   "metadata": {},
   "outputs": [],
   "source": [
    "# Scraping all adds [for Rent]\n",
    "import pandas as pd\n",
    "import requests\n",
    "import pickle\n",
    "from bs4 import BeautifulSoup\n",
    "\n",
    "with open(\"links-rent.pkl\", \"rb\") as file:\n",
    "    links_rent = pickle.load(file)\n",
    "\n",
    "error_links = []\n",
    "base_url = \"https://www.propertyfinder.ae\"\n",
    "list_of_all_properties = []\n",
    "for ee, url in enumerate(links_rent):\n",
    "    try:\n",
    "        soup = BeautifulSoup(requests.get(base_url + url).text, \"lxml\")\n",
    "        a = soup.find(\"div\", {\"class\" : \"property-page__facts-amenities\"}).find(\"div\", {\"class\" : \"facts__list\"})\n",
    "\n",
    "        lst = []\n",
    "        for e, i in enumerate(a.select(\"div\", {\"class\" : \"facts__list-item\"})):\n",
    "            if e in [1,3,10,11,13,14, 22, 23, 25, 26, 28, 29,31, 32]:\n",
    "                lst.append(''.join(i.text.strip().splitlines()).replace(\"  \", \"\"))\n",
    "\n",
    "        one_property_dict = dict(zip(lst[::2], lst[1:][::2]))\n",
    "        one_property_dict['url'] = base_url + url\n",
    "        list_of_all_properties.append(one_property_dict)\n",
    "    except:\n",
    "        error_links.append(ee)\n",
    "        pass\n",
    "    print(f\"Link number: {ee}\\t\\tLenght of list: {len(list_of_all_properties)}\\t\\tErrors Qty: {len(error_links)}\")\n",
    "\n",
    "df = pd.DataFrame(list_of_all_properties)\n",
    "\n",
    "with open(\"rent-errors.pkl\", \"wb\") as file:\n",
    "    pickle.dump(error_links, file)\n",
    "with open(\"rent-list_of_all_properties.pkl\", \"wb\") as file:\n",
    "    pickle.dump(list_of_all_properties, file)\n",
    "with open(\"rent-df.pkl\", \"wb\") as file:\n",
    "    pickle.dump(df, file)"
   ]
  },
  {
   "cell_type": "code",
   "execution_count": null,
   "metadata": {},
   "outputs": [],
   "source": []
  }
 ],
 "metadata": {
  "kernelspec": {
   "display_name": "Python 3",
   "language": "python",
   "name": "python3"
  },
  "language_info": {
   "codemirror_mode": {
    "name": "ipython",
    "version": 3
   },
   "file_extension": ".py",
   "mimetype": "text/x-python",
   "name": "python",
   "nbconvert_exporter": "python",
   "pygments_lexer": "ipython3",
   "version": "3.6.8"
  }
 },
 "nbformat": 4,
 "nbformat_minor": 2
}
