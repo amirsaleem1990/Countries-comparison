{
 "cells": [
  {
   "cell_type": "code",
   "execution_count": 10,
   "metadata": {},
   "outputs": [
    {
     "data": {
      "text/plain": [
       "{'Area': '900 sqft/84 sqm',\n",
       " 'Bathrooms': '2',\n",
       " 'Furnishings': 'Unfurnished',\n",
       " 'Price': '33,000 AED Yearly',\n",
       " 'Reference': 'ganjina-1619330',\n",
       " 'Type': 'Apartment'}"
      ]
     },
     "execution_count": 10,
     "metadata": {},
     "output_type": "execute_result"
    }
   ],
   "source": [
    "import requests\n",
    "from bs4 import BeautifulSoup\n",
    "import pandas as pd\n",
    "import pickle\n",
    "with open(\"../links-rent.pkl\", \"rb\") as file:\n",
    "    links_rent = pickle.load(file)\n",
    "links_rent = [\"https://www.propertyfinder.ae\" + i for i in links_rent]\n",
    "all_records_list = []\n",
    "errors = []\n",
    "url = links_rent[4004]\n",
    "values = []\n",
    "keys = []\n",
    "soup = BeautifulSoup(requests.get(url).text, \"lxml\")\n",
    "a = soup.find(\"div\", {\"class\" : \"facts__container\"}).find(\"div\", {\"class\", \"facts__list\"})\n",
    "for e, i in enumerate(a.find_all(\"div\", {\"class\" : \"facts__list-item\"})):\n",
    "    if e != 3:\n",
    "        keys.append(i.find(\"div\", {\"class\" : \"facts__label\"}).text.strip())\n",
    "for e, i in enumerate(a.find_all(\"div\", {\"class\" : \"facts__content\"})):\n",
    "    if e != 3:\n",
    "        values.append(i.text.strip().replace(\"\\n\", \"\").replace(\"  \", \"\"))\n",
    "dict(zip(keys, values))"
   ]
  }
 ],
 "metadata": {
  "kernelspec": {
   "display_name": "Python 3",
   "language": "python",
   "name": "python3"
  },
  "language_info": {
   "codemirror_mode": {
    "name": "ipython",
    "version": 3
   },
   "file_extension": ".py",
   "mimetype": "text/x-python",
   "name": "python",
   "nbconvert_exporter": "python",
   "pygments_lexer": "ipython3",
   "version": "3.6.8"
  }
 },
 "nbformat": 4,
 "nbformat_minor": 2
}
