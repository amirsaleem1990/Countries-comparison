{
 "cells": [
  {
   "cell_type": "code",
   "execution_count": 1,
   "metadata": {},
   "outputs": [],
   "source": [
    "import pandas as pd\n",
    "import requests\n",
    "import pickle\n",
    "from bs4 import BeautifulSoup"
   ]
  },
  {
   "cell_type": "code",
   "execution_count": null,
   "metadata": {},
   "outputs": [
    {
     "name": "stdout",
     "output_type": "stream",
     "text": [
      "0,1,2,3,4,5,6,7,8,9,10,11,12,13,14,15,16,17,18,19,20,21,22,23,24,25,26,27,"
     ]
    }
   ],
   "source": [
    "pages_urls = [\"https://www.bayut.com/for-sale/property/uae/\"]\n",
    "for i in range(2, 1667):\n",
    "\tpages_urls.append(f\"https://www.bayut.com/for-sale/property/uae/page-{i}/\")\n",
    "errors = []\n",
    "all_adds_links = []\n",
    "for e, url in enumerate(pages_urls):\n",
    "\tprint(e, \" | all_links:\", len(all_adds_links), \" | Errors:\", len(errors))\n",
    "\ttry:\n",
    "\t\tsoup = BeautifulSoup(requests.get(url).text, \"lxml\")\n",
    "\t\ta = soup.select(\"article\", {\"class\" : \"ca2f5674\"})\n",
    "\t\tfor i in a:\n",
    "\t\t\ttry:\n",
    "\t\t\t\tall_adds_links.append(i.find(\"a\")['href'])\n",
    "\t\t\texcept:\n",
    "\t\t\t\terrors.append(url)\n",
    "\t\t\t\tpass\n",
    "\texcept:\n",
    "\t\tpass\n",
    "with open(\"all_adds_link.pkl\", \"wb\") as file:\n",
    "\tpickle.dump(all_adds_links, file)"
   ]
  },
  {
   "cell_type": "code",
   "execution_count": 2,
   "metadata": {},
   "outputs": [
    {
     "name": "stdout",
     "output_type": "stream",
     "text": [
      "0, 1, 2, 3, 4, 5, 6, 7, 8, 9, 10, 11, 12, 13, 14, "
     ]
    }
   ],
   "source": [
    "with open(\"all_adds_link.pkl\", \"rb\") as file:\n",
    "    all_adds_links = pickle.load(file)\n",
    "errors = []\n",
    "all_records_list = []\n",
    "    \n",
    "for e, url in enumerate(all_adds_links[:15]):\n",
    "    try:\n",
    "        soup = BeautifulSoup(requests.get(\"https://www.bayut.com/for-sale/property/uae\" + url).text, \"lxml\")\n",
    "        a = [i.text for i in soup.find(\"ul\", {\"class\" : \"_033281ab\"}).select(\"span\", {\"class\" : \"_3af7fa95\"})]\n",
    "        b = []\n",
    "        for i in a:\n",
    "            if not i.isnumeric():\n",
    "                if not i in b:\n",
    "                    b.append(i)\n",
    "            else:\n",
    "                b.append(i)\n",
    "        one_record_dict = dict(zip(b[::2], b[1:][::2]))\n",
    "        one_record_dict[\"url\"] = url\n",
    "        all_records_list.append(one_record_dict)\n",
    "    except:\n",
    "        errors.append(url)\n",
    "        pass\n",
    "    print(e, end=\", \")\n",
    "df = pd.DataFrame(all_records_list)"
   ]
  },
  {
   "cell_type": "code",
   "execution_count": null,
   "metadata": {},
   "outputs": [],
   "source": []
  }
 ],
 "metadata": {
  "kernelspec": {
   "display_name": "Python 3",
   "language": "python",
   "name": "python3"
  },
  "language_info": {
   "codemirror_mode": {
    "name": "ipython",
    "version": 3
   },
   "file_extension": ".py",
   "mimetype": "text/x-python",
   "name": "python",
   "nbconvert_exporter": "python",
   "pygments_lexer": "ipython3",
   "version": "3.6.9"
  }
 },
 "nbformat": 4,
 "nbformat_minor": 4
}
