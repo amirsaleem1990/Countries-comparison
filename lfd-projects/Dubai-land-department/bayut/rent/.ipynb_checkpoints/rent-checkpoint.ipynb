{
 "cells": [
  {
   "cell_type": "code",
   "execution_count": 1,
   "metadata": {},
   "outputs": [],
   "source": [
    "import pandas as pd\n",
    "import requests\n",
    "import pickle\n",
    "from bs4 import BeautifulSoup"
   ]
  },
  {
   "cell_type": "code",
   "execution_count": null,
   "metadata": {},
   "outputs": [],
   "source": [
    "pages_urls = [\"https://www.bayut.com/to-rent/property/uae/\"]\n",
    "for i in range(2, 1934):\n",
    "\tpages_urls.append(f\"https://www.bayut.com/to-rent/property/uae/page-{i}/\")\n",
    "errors = []\n",
    "all_adds_links = []\n",
    "for e, url in enumerate(pages_urls):\n",
    "\tprint(e, \" | all_links:\", len(all_adds_links), \" | Errors:\", len(errors))\n",
    "\ttry:\n",
    "\t\tsoup = BeautifulSoup(requests.get(url).text, \"lxml\")\n",
    "\t\ta = soup.find(\"ul\", {\"class\" : \"_357a9937\"}).select(\"li\", {\"class\" : \"ef447dde\"})\n",
    "\t\tfor i in a:\n",
    "\t\t\ttry:\n",
    "\t\t\t\tall_adds_links.append(i.find(\"div\", {\"class\" : \"_4041eb80\"}).find(\"a\")['href'])\n",
    "\t\t\texcept:\n",
    "\t\t\t\terrors.append(url)\n",
    "\t\t\t\tpass\n",
    "\texcept:\n",
    "\t\tpass\n",
    "with open(\"all_adds_link.pkl\", \"wb\") as file:\n",
    "\tpickle.dump(all_adds_links, file)"
   ]
  },
  {
   "cell_type": "code",
   "execution_count": null,
   "metadata": {},
   "outputs": [],
   "source": []
  }
 ],
 "metadata": {
  "kernelspec": {
   "display_name": "Python 3",
   "language": "python",
   "name": "python3"
  },
  "language_info": {
   "codemirror_mode": {
    "name": "ipython",
    "version": 3
   },
   "file_extension": ".py",
   "mimetype": "text/x-python",
   "name": "python",
   "nbconvert_exporter": "python",
   "pygments_lexer": "ipython3",
   "version": "3.6.9"
  }
 },
 "nbformat": 4,
 "nbformat_minor": 4
}
