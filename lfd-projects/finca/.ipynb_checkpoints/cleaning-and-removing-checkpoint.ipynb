{
 "cells": [
  {
   "cell_type": "code",
   "execution_count": 1,
   "metadata": {},
   "outputs": [],
   "source": [
    "import warnings\n",
    "warnings.filterwarnings(\"ignore\")\n",
    "import pandas as pd\n",
    "import numpy as np"
   ]
  },
  {
   "cell_type": "code",
   "execution_count": 2,
   "metadata": {},
   "outputs": [
    {
     "name": "stdout",
     "output_type": "stream",
     "text": [
      "\n",
      "\n",
      "\n",
      " Old    0.721479\n",
      "New    0.278521\n",
      "Name: DataType, dtype: float64\n"
     ]
    }
   ],
   "source": [
    "data = pd.read_csv(\"Original_data_converted_to_csv_from_rds_file.csv\").drop(\"Unnamed: 0\", axis=1)\n",
    "# data = data[data.DataType == \"New\"]\n",
    "data['DisbursalDate'] = pd.to_datetime(data.DisbursalDate)\n",
    "data['Month_and_Year'] = pd.to_datetime(data['DisbursalDate']).dt.to_period('M')\n",
    "data['PrimaryKey'] = (data.applicationnumber.map(str) + data.loantype.map(str)).str.replace(\"\\.0\", \"\")\n",
    "\n",
    "\n",
    "# keep_new_or_used = input(\"Remove duplicated \\n1-New\\n or \\n2-Old\\n\")\n",
    "# if keep_new_or_used == '1':\n",
    "#     keep = 'last'\n",
    "# elif keep_new_or_used == '2':\n",
    "#     keep = 'first'\n",
    "keep = \"first\"\n",
    "try:\n",
    "    dataa = data.sort_values('DataType').drop_duplicates('PrimaryKey',keep= keep)\n",
    "    del keep\n",
    "    dataa.shape\n",
    "    dataa.PrimaryKey.nunique() / len(dataa)\n",
    "    print('\\n\\n\\n', dataa.DataType.value_counts() / len(dataa))\n",
    "except:\n",
    "    pass\n",
    "\n",
    "\n",
    "\n",
    "to_drop = [\"applicationnumber\", \"30 DPDs Instance\", \"DisbursalDate\", \"DataType\", \"BussinessLegalStatus\",\n",
    "           \"AccomodationType\", \"ResidenceType\", \"PrimaryKey\", \"RentAmount\", \"OtherLoanBank\"]\n",
    "data.LoanTenor = data.LoanTenor.str.lower()\n",
    "data.SectorDescription[data.SectorDescription == \"OTHERS\"] = \"Others\"\n",
    "data = data.drop(to_drop, axis=1)"
   ]
  },
  {
   "cell_type": "code",
   "execution_count": 3,
   "metadata": {},
   "outputs": [
    {
     "data": {
      "text/plain": [
       "5"
      ]
     },
     "execution_count": 3,
     "metadata": {},
     "output_type": "execute_result"
    }
   ],
   "source": [
    "data.isna().sum().sum()"
   ]
  },
  {
   "cell_type": "code",
   "execution_count": 4,
   "metadata": {},
   "outputs": [
    {
     "data": {
      "text/plain": [
       "0"
      ]
     },
     "execution_count": 4,
     "metadata": {},
     "output_type": "execute_result"
    }
   ],
   "source": [
    "data = data.dropna()\n",
    "data.isna().sum().sum()"
   ]
  },
  {
   "cell_type": "code",
   "execution_count": 5,
   "metadata": {},
   "outputs": [
    {
     "data": {
      "text/plain": [
       "Index(['loantype', 'LoanTenor', 'LoanAmount', 'SectorDescription',\n",
       "       'EstablishedSinceMonths', 'CurrentAddressSinceMonths', 'DocumentCharge',\n",
       "       'EMI', 'InterestRate', 'InsuranceRate', 'InsuranceAmount',\n",
       "       'MariatlStatus', 'MailThrough', 'NoOfDependents', 'Qualification',\n",
       "       'NetBusinessIncome', 'NetDisposableIncome', 'ProfessionDesc', 'DPD30',\n",
       "       'Month_and_Year'],\n",
       "      dtype='object')"
      ]
     },
     "execution_count": 5,
     "metadata": {},
     "output_type": "execute_result"
    }
   ],
   "source": [
    "data.columns"
   ]
  },
  {
   "cell_type": "code",
   "execution_count": 6,
   "metadata": {},
   "outputs": [],
   "source": [
    "data = data[(data.EstablishedSinceMonths != 0)  &\n",
    "         (data.EstablishedSinceMonths < 300)  &\n",
    "        (data.CurrentAddressSinceMonths != 0) &\n",
    "        (data.CurrentAddressSinceMonths < 300)]"
   ]
  },
  {
   "cell_type": "code",
   "execution_count": 7,
   "metadata": {},
   "outputs": [
    {
     "data": {
      "text/html": [
       "<div>\n",
       "<style scoped>\n",
       "    .dataframe tbody tr th:only-of-type {\n",
       "        vertical-align: middle;\n",
       "    }\n",
       "\n",
       "    .dataframe tbody tr th {\n",
       "        vertical-align: top;\n",
       "    }\n",
       "\n",
       "    .dataframe thead th {\n",
       "        text-align: right;\n",
       "    }\n",
       "</style>\n",
       "<table border=\"1\" class=\"dataframe\">\n",
       "  <thead>\n",
       "    <tr style=\"text-align: right;\">\n",
       "      <th></th>\n",
       "      <th>loantype</th>\n",
       "      <th>LoanTenor</th>\n",
       "      <th>LoanAmount</th>\n",
       "      <th>SectorDescription</th>\n",
       "      <th>EstablishedSinceMonths</th>\n",
       "      <th>CurrentAddressSinceMonths</th>\n",
       "      <th>DocumentCharge</th>\n",
       "      <th>EMI</th>\n",
       "      <th>InterestRate</th>\n",
       "      <th>InsuranceRate</th>\n",
       "      <th>InsuranceAmount</th>\n",
       "      <th>MariatlStatus</th>\n",
       "      <th>MailThrough</th>\n",
       "      <th>NoOfDependents</th>\n",
       "      <th>Qualification</th>\n",
       "      <th>NetBusinessIncome</th>\n",
       "      <th>NetDisposableIncome</th>\n",
       "      <th>ProfessionDesc</th>\n",
       "      <th>DPD30</th>\n",
       "      <th>Month_and_Year</th>\n",
       "    </tr>\n",
       "  </thead>\n",
       "  <tbody>\n",
       "    <tr>\n",
       "      <th>1929</th>\n",
       "      <td>8</td>\n",
       "      <td>9 months</td>\n",
       "      <td>50000.0</td>\n",
       "      <td>Trading</td>\n",
       "      <td>120</td>\n",
       "      <td>120</td>\n",
       "      <td>1000</td>\n",
       "      <td>6810</td>\n",
       "      <td>30.0</td>\n",
       "      <td>1.1</td>\n",
       "      <td>0</td>\n",
       "      <td>Married</td>\n",
       "      <td>HomeAddress</td>\n",
       "      <td>4</td>\n",
       "      <td>Illiterate</td>\n",
       "      <td>31600.0</td>\n",
       "      <td>19575.0</td>\n",
       "      <td>Business</td>\n",
       "      <td>0</td>\n",
       "      <td>2015-01</td>\n",
       "    </tr>\n",
       "  </tbody>\n",
       "</table>\n",
       "</div>"
      ],
      "text/plain": [
       "      loantype LoanTenor  LoanAmount SectorDescription  \\\n",
       "1929         8  9 months     50000.0           Trading   \n",
       "\n",
       "      EstablishedSinceMonths  CurrentAddressSinceMonths  DocumentCharge   EMI  \\\n",
       "1929                     120                        120            1000  6810   \n",
       "\n",
       "      InterestRate  InsuranceRate  InsuranceAmount MariatlStatus  MailThrough  \\\n",
       "1929          30.0            1.1                0       Married  HomeAddress   \n",
       "\n",
       "      NoOfDependents Qualification  NetBusinessIncome  NetDisposableIncome  \\\n",
       "1929               4    Illiterate            31600.0              19575.0   \n",
       "\n",
       "     ProfessionDesc  DPD30 Month_and_Year  \n",
       "1929       Business      0        2015-01  "
      ]
     },
     "execution_count": 7,
     "metadata": {},
     "output_type": "execute_result"
    }
   ],
   "source": [
    "# here is one record there is insuranceAmount but no InsuranceRate!!\n",
    "data[(data.InsuranceRate != 0) & (data.InsuranceAmount == 0)]"
   ]
  },
  {
   "cell_type": "code",
   "execution_count": 8,
   "metadata": {},
   "outputs": [
    {
     "data": {
      "text/plain": [
       "115611"
      ]
     },
     "execution_count": 8,
     "metadata": {},
     "output_type": "execute_result"
    }
   ],
   "source": [
    "data = data[data.NoOfDependents < 11]\n",
    "len(data)"
   ]
  },
  {
   "cell_type": "code",
   "execution_count": 9,
   "metadata": {},
   "outputs": [
    {
     "data": {
      "text/plain": [
       "115593"
      ]
     },
     "execution_count": 9,
     "metadata": {},
     "output_type": "execute_result"
    }
   ],
   "source": [
    "data = data[data.NetBusinessIncome > 0]\n",
    "len(data)"
   ]
  },
  {
   "cell_type": "code",
   "execution_count": 10,
   "metadata": {},
   "outputs": [
    {
     "data": {
      "text/plain": [
       "113793"
      ]
     },
     "execution_count": 10,
     "metadata": {},
     "output_type": "execute_result"
    }
   ],
   "source": [
    "data = data[data.NetDisposableIncome >= 0]\n",
    "len(data)"
   ]
  },
  {
   "cell_type": "code",
   "execution_count": 11,
   "metadata": {},
   "outputs": [],
   "source": [
    "data.ProfessionDesc = data.ProfessionDesc.str.lower()\n",
    "data.ProfessionDesc = data.ProfessionDesc.astype(\"str\")\n",
    "data.ProfessionDesc[(data.ProfessionDesc == 'electrical') \n",
    "                    | (data.ProfessionDesc == 'electrinics')] = \"electrician\"\n",
    "data.ProfessionDesc[data.ProfessionDesc == 'tailer'] = \"tailor\"\n",
    "data.ProfessionDesc[(data.ProfessionDesc == 'merchant' )\n",
    "                    | (data.ProfessionDesc == 'traders')] = 'business'\n",
    "data.ProfessionDesc[data.ProfessionDesc == 'computer professional'] = 'computer'\n",
    "data.ProfessionDesc[(data.ProfessionDesc == 'dentist' )\n",
    "                    | (data.ProfessionDesc == 'surgical')\n",
    "                    | (data.ProfessionDesc == 'nurse')] = 'doctor'\n",
    "data.ProfessionDesc[data.ProfessionDesc == 'paint'] = \"painter\"\n",
    "data.ProfessionDesc[(data.ProfessionDesc == 'student' )\n",
    "                    | (data.ProfessionDesc == 'teacher')] = \"education\"\n",
    "data.ProfessionDesc[(data.ProfessionDesc == 'shoe trading' )\n",
    "                    | (data.ProfessionDesc == 'shoes Manufacturing / Producti')] = \"shoes\"\n",
    "data.ProfessionDesc[(data.ProfessionDesc == 'stitching accessories (manufac') \n",
    "                    | (data.ProfessionDesc == 'stitching accessories (trading')] = \"stitching accessories\"\n",
    "data.ProfessionDesc[(data.ProfessionDesc == 'baker' )\n",
    "                    |(data.ProfessionDesc == 'food & beverages' )\n",
    "                    |(data.ProfessionDesc == 'cook' )\n",
    "                    | (data.ProfessionDesc == 'dairy Products')] = \"food\"\n",
    "data.ProfessionDesc[data.ProfessionDesc == 'diplomat'] = \"govt.service\"\n",
    "data.ProfessionDesc[data.ProfessionDesc == 'lab.technician'] = \"technician\"\n",
    "data.ProfessionDesc[(data.ProfessionDesc == 'sales/marketing professiona') \n",
    "                    | (data.ProfessionDesc == 'salesman (trading)')] = \"salesman\"\n",
    "data.ProfessionDesc[(data.ProfessionDesc == 'auto denting & painting') \n",
    "                    | (data.ProfessionDesc ==\"auto parts dealers\")] = \"auto denting & painting | auto parts\""
   ]
  },
  {
   "cell_type": "code",
   "execution_count": 12,
   "metadata": {},
   "outputs": [],
   "source": [
    "l = []\n",
    "for i in data.ProfessionDesc.unique():\n",
    "    if list(data.ProfessionDesc).count(i) < 10000:\n",
    "        l.append(i)\n",
    "data.ProfessionDesc = [\"other\" if i in l else i for i in data.ProfessionDesc]"
   ]
  },
  {
   "cell_type": "code",
   "execution_count": 13,
   "metadata": {},
   "outputs": [],
   "source": [
    "data.to_csv(\"small_cleaned_data\")"
   ]
  }
 ],
 "metadata": {
  "kernelspec": {
   "display_name": "Python 3",
   "language": "python",
   "name": "python3"
  },
  "language_info": {
   "codemirror_mode": {
    "name": "ipython",
    "version": 3
   },
   "file_extension": ".py",
   "mimetype": "text/x-python",
   "name": "python",
   "nbconvert_exporter": "python",
   "pygments_lexer": "ipython3",
   "version": "3.6.7"
  }
 },
 "nbformat": 4,
 "nbformat_minor": 2
}
