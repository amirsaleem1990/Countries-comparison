{
 "cells": [
  {
   "cell_type": "code",
   "execution_count": 1,
   "metadata": {},
   "outputs": [],
   "source": [
    "import pandas as pd\n",
    "import os\n",
    "import numpy as np\n",
    "from inspect import signature\n",
    "import matplotlib.pyplot as plt"
   ]
  },
  {
   "cell_type": "code",
   "execution_count": 2,
   "metadata": {},
   "outputs": [],
   "source": [
    "data = pd.read_csv(\"Original_data_converted_to_csv_from_rds_file.csv\").drop(\"Unnamed: 0\", axis=1)"
   ]
  },
  {
   "cell_type": "code",
   "execution_count": 3,
   "metadata": {},
   "outputs": [
    {
     "data": {
      "text/plain": [
       "Index(['applicationnumber', 'loantype', 'DisbursalDate', 'LoanTenor',\n",
       "       'LoanAmount', 'SectorDescription', 'EstablishedSinceMonths',\n",
       "       'CurrentAddressSinceMonths', 'DocumentCharge', 'EMI', 'InterestRate',\n",
       "       'InsuranceRate', 'InsuranceAmount', 'MariatlStatus', 'AccomodationType',\n",
       "       'BussinessLegalStatus', 'ResidenceType', 'RentAmount', 'MailThrough',\n",
       "       'OtherLoanBank', 'NoOfDependents', 'Qualification', 'NetBusinessIncome',\n",
       "       'NetDisposableIncome', 'ProfessionDesc', '30 DPDs Instance', 'DPD30',\n",
       "       'DataType'],\n",
       "      dtype='object')"
      ]
     },
     "execution_count": 3,
     "metadata": {},
     "output_type": "execute_result"
    }
   ],
   "source": [
    "data.columns"
   ]
  },
  {
   "cell_type": "markdown",
   "metadata": {},
   "source": [
    "# applicationnumber"
   ]
  },
  {
   "cell_type": "code",
   "execution_count": 4,
   "metadata": {},
   "outputs": [
    {
     "name": "stdout",
     "output_type": "stream",
     "text": [
      "Proportion of Duplicated values in applicationnumber variable:\n",
      "14.21%\n"
     ]
    }
   ],
   "source": [
    "p = (1- len(data.applicationnumber.unique()) / len(data)) * 100\n",
    "print(\"Proportion of Duplicated values in applicationnumber variable:\\n{}%\".format(round(p, 2)))"
   ]
  },
  {
   "cell_type": "code",
   "execution_count": 5,
   "metadata": {},
   "outputs": [
    {
     "data": {
      "text/plain": [
       "0"
      ]
     },
     "execution_count": 5,
     "metadata": {},
     "output_type": "execute_result"
    }
   ],
   "source": [
    "data.applicationnumber.isna().sum()"
   ]
  },
  {
   "cell_type": "markdown",
   "metadata": {},
   "source": [
    "# loantype and Month_and_Year"
   ]
  },
  {
   "cell_type": "code",
   "execution_count": 6,
   "metadata": {},
   "outputs": [
    {
     "data": {
      "text/plain": [
       "0"
      ]
     },
     "execution_count": 6,
     "metadata": {},
     "output_type": "execute_result"
    }
   ],
   "source": [
    "data.loantype.isna().sum()"
   ]
  },
  {
   "cell_type": "code",
   "execution_count": 7,
   "metadata": {},
   "outputs": [
    {
     "data": {
      "text/plain": [
       "count    336291.000000\n",
       "mean          9.452135\n",
       "std           3.310673\n",
       "min           8.000000\n",
       "25%           8.000000\n",
       "50%           8.000000\n",
       "75%           8.000000\n",
       "max          17.000000\n",
       "Name: loantype, dtype: float64"
      ]
     },
     "execution_count": 7,
     "metadata": {},
     "output_type": "execute_result"
    }
   ],
   "source": [
    "data.loantype.describe()"
   ]
  },
  {
   "cell_type": "code",
   "execution_count": 8,
   "metadata": {},
   "outputs": [
    {
     "name": "stdout",
     "output_type": "stream",
     "text": [
      "Proportion of unique values in the column\n"
     ]
    },
    {
     "data": {
      "text/plain": [
       "8     0.838652\n",
       "17    0.161348\n",
       "Name: loantype, dtype: float64"
      ]
     },
     "execution_count": 8,
     "metadata": {},
     "output_type": "execute_result"
    }
   ],
   "source": [
    "print(\"Proportion of unique values in the column\")\n",
    "data.loantype.value_counts() / len(data)"
   ]
  },
  {
   "cell_type": "code",
   "execution_count": 9,
   "metadata": {},
   "outputs": [],
   "source": [
    "data['DisbursalDate'] = pd.to_datetime(data.DisbursalDate)\n",
    "data['Month_and_Year'] = pd.to_datetime(data['DisbursalDate']).dt.to_period('M')"
   ]
  },
  {
   "cell_type": "code",
   "execution_count": 10,
   "metadata": {},
   "outputs": [
    {
     "name": "stdout",
     "output_type": "stream",
     "text": [
      "1960\n",
      "83\n"
     ]
    }
   ],
   "source": [
    "print(data.DisbursalDate.nunique())\n",
    "print(data.Month_and_Year.nunique())"
   ]
  },
  {
   "cell_type": "code",
   "execution_count": 11,
   "metadata": {},
   "outputs": [
    {
     "name": "stdout",
     "output_type": "stream",
     "text": [
      "2012-01\n",
      "2018-11\n"
     ]
    }
   ],
   "source": [
    "print(data.Month_and_Year.min())\n",
    "print(data.Month_and_Year.max())"
   ]
  },
  {
   "cell_type": "markdown",
   "metadata": {},
   "source": [
    "# LoanTenor"
   ]
  },
  {
   "cell_type": "code",
   "execution_count": 12,
   "metadata": {},
   "outputs": [
    {
     "data": {
      "text/plain": [
       "0"
      ]
     },
     "execution_count": 12,
     "metadata": {},
     "output_type": "execute_result"
    }
   ],
   "source": [
    "data.LoanTenor.isna().sum()"
   ]
  },
  {
   "cell_type": "code",
   "execution_count": 13,
   "metadata": {},
   "outputs": [
    {
     "name": "stdout",
     "output_type": "stream",
     "text": [
      "count        336291\n",
      "unique           12\n",
      "top       12 Months\n",
      "freq         230815\n",
      "Name: LoanTenor, dtype: object\n",
      "['12 Months' '15 Months' '18 Months' '6 Months' '9 Months' '3 Months'\n",
      " '12 months' '15 months' '18 months' '6 months' '9 months' '3 months']\n",
      "['12 months' '15 months' '18 months' '6 months' '9 months' '3 months']\n"
     ]
    }
   ],
   "source": [
    "print(data.LoanTenor.describe())\n",
    "print(data.LoanTenor.unique())\n",
    "\n",
    "# here some of <Months> in capitle, and others in lower, we replace all capitals with lower\n",
    "data.LoanTenor = data.LoanTenor.str.lower()\n",
    "print(data.LoanTenor.unique())"
   ]
  },
  {
   "cell_type": "code",
   "execution_count": 14,
   "metadata": {},
   "outputs": [
    {
     "data": {
      "text/plain": [
       "12 months    0.909602\n",
       "15 months    0.053974\n",
       "18 months    0.031847\n",
       "6 months     0.003048\n",
       "9 months     0.001305\n",
       "3 months     0.000223\n",
       "Name: LoanTenor, dtype: float64"
      ]
     },
     "execution_count": 14,
     "metadata": {},
     "output_type": "execute_result"
    }
   ],
   "source": [
    "data.LoanTenor.value_counts() / len(data)"
   ]
  },
  {
   "cell_type": "code",
   "execution_count": 15,
   "metadata": {},
   "outputs": [
    {
     "data": {
      "text/plain": [
       "<BarContainer object of 6 artists>"
      ]
     },
     "execution_count": 15,
     "metadata": {},
     "output_type": "execute_result"
    },
    {
     "data": {
      "image/png": "[encoded data removed]",
      "text/plain": [
       "<Figure size 432x288 with 1 Axes>"
      ]
     },
     "metadata": {
      "needs_background": "light"
     },
     "output_type": "display_data"
    }
   ],
   "source": [
    "d = pd.DataFrame(data.LoanTenor.value_counts())\n",
    "plt.bar(d.index, d.LoanTenor)"
   ]
  },
  {
   "cell_type": "markdown",
   "metadata": {},
   "source": [
    "# LoanAmount"
   ]
  },
  {
   "cell_type": "code",
   "execution_count": 16,
   "metadata": {},
   "outputs": [
    {
     "data": {
      "text/plain": [
       "0"
      ]
     },
     "execution_count": 16,
     "metadata": {},
     "output_type": "execute_result"
    }
   ],
   "source": [
    "data.LoanAmount.isna().sum()"
   ]
  },
  {
   "cell_type": "code",
   "execution_count": 17,
   "metadata": {},
   "outputs": [
    {
     "data": {
      "text/plain": [
       "count    336291.000000\n",
       "mean      71572.969720\n",
       "std       32223.235891\n",
       "min       25000.000000\n",
       "25%       50000.000000\n",
       "50%       60000.000000\n",
       "75%      100000.000000\n",
       "max      150000.000000\n",
       "Name: LoanAmount, dtype: float64"
      ]
     },
     "execution_count": 17,
     "metadata": {},
     "output_type": "execute_result"
    }
   ],
   "source": [
    "data.LoanAmount.describe()"
   ]
  },
  {
   "cell_type": "code",
   "execution_count": 18,
   "metadata": {},
   "outputs": [
    {
     "data": {
      "text/plain": [
       "<matplotlib.axes._subplots.AxesSubplot at 0x7f3b1b17edd8>"
      ]
     },
     "execution_count": 18,
     "metadata": {},
     "output_type": "execute_result"
    },
    {
     "data": {
      "image/png": "[encoded data removed]",
      "text/plain": [
       "<Figure size 432x288 with 1 Axes>"
      ]
     },
     "metadata": {
      "needs_background": "light"
     },
     "output_type": "display_data"
    }
   ],
   "source": [
    "data.LoanAmount.hist()"
   ]
  },
  {
   "cell_type": "code",
   "execution_count": 19,
   "metadata": {},
   "outputs": [
    {
     "data": {
      "text/html": [
       "<div>\n",
       "<style scoped>\n",
       "    .dataframe tbody tr th:only-of-type {\n",
       "        vertical-align: middle;\n",
       "    }\n",
       "\n",
       "    .dataframe tbody tr th {\n",
       "        vertical-align: top;\n",
       "    }\n",
       "\n",
       "    .dataframe thead th {\n",
       "        text-align: right;\n",
       "    }\n",
       "</style>\n",
       "<table border=\"1\" class=\"dataframe\">\n",
       "  <thead>\n",
       "    <tr style=\"text-align: right;\">\n",
       "      <th></th>\n",
       "      <th>absolute_corr</th>\n",
       "    </tr>\n",
       "  </thead>\n",
       "  <tbody>\n",
       "    <tr>\n",
       "      <th>EMI</th>\n",
       "      <td>0.902821</td>\n",
       "    </tr>\n",
       "    <tr>\n",
       "      <th>DocumentCharge</th>\n",
       "      <td>0.681327</td>\n",
       "    </tr>\n",
       "    <tr>\n",
       "      <th>InterestRate</th>\n",
       "      <td>0.536283</td>\n",
       "    </tr>\n",
       "    <tr>\n",
       "      <th>InsuranceAmount</th>\n",
       "      <td>0.252587</td>\n",
       "    </tr>\n",
       "    <tr>\n",
       "      <th>InsuranceRate</th>\n",
       "      <td>0.141628</td>\n",
       "    </tr>\n",
       "    <tr>\n",
       "      <th>loantype</th>\n",
       "      <td>0.073346</td>\n",
       "    </tr>\n",
       "    <tr>\n",
       "      <th>30 DPDs Instance</th>\n",
       "      <td>0.068375</td>\n",
       "    </tr>\n",
       "    <tr>\n",
       "      <th>DPD30</th>\n",
       "      <td>0.053224</td>\n",
       "    </tr>\n",
       "    <tr>\n",
       "      <th>ResidenceType</th>\n",
       "      <td>0.049849</td>\n",
       "    </tr>\n",
       "    <tr>\n",
       "      <th>applicationnumber</th>\n",
       "      <td>0.040680</td>\n",
       "    </tr>\n",
       "    <tr>\n",
       "      <th>CurrentAddressSinceMonths</th>\n",
       "      <td>0.027853</td>\n",
       "    </tr>\n",
       "    <tr>\n",
       "      <th>OtherLoanBank</th>\n",
       "      <td>0.017944</td>\n",
       "    </tr>\n",
       "    <tr>\n",
       "      <th>NoOfDependents</th>\n",
       "      <td>0.014851</td>\n",
       "    </tr>\n",
       "    <tr>\n",
       "      <th>NetBusinessIncome</th>\n",
       "      <td>0.010307</td>\n",
       "    </tr>\n",
       "    <tr>\n",
       "      <th>EstablishedSinceMonths</th>\n",
       "      <td>0.002915</td>\n",
       "    </tr>\n",
       "    <tr>\n",
       "      <th>AccomodationType</th>\n",
       "      <td>0.002809</td>\n",
       "    </tr>\n",
       "    <tr>\n",
       "      <th>NetDisposableIncome</th>\n",
       "      <td>0.002029</td>\n",
       "    </tr>\n",
       "    <tr>\n",
       "      <th>RentAmount</th>\n",
       "      <td>0.000923</td>\n",
       "    </tr>\n",
       "  </tbody>\n",
       "</table>\n",
       "</div>"
      ],
      "text/plain": [
       "                           absolute_corr\n",
       "EMI                             0.902821\n",
       "DocumentCharge                  0.681327\n",
       "InterestRate                    0.536283\n",
       "InsuranceAmount                 0.252587\n",
       "InsuranceRate                   0.141628\n",
       "loantype                        0.073346\n",
       "30 DPDs Instance                0.068375\n",
       "DPD30                           0.053224\n",
       "ResidenceType                   0.049849\n",
       "applicationnumber               0.040680\n",
       "CurrentAddressSinceMonths       0.027853\n",
       "OtherLoanBank                   0.017944\n",
       "NoOfDependents                  0.014851\n",
       "NetBusinessIncome               0.010307\n",
       "EstablishedSinceMonths          0.002915\n",
       "AccomodationType                0.002809\n",
       "NetDisposableIncome             0.002029\n",
       "RentAmount                      0.000923"
      ]
     },
     "execution_count": 19,
     "metadata": {},
     "output_type": "execute_result"
    }
   ],
   "source": [
    "d = {}\n",
    "for i in data.drop('LoanAmount', axis=1).columns:\n",
    "    if data[i].dtype == \"float64\" or data[i].dtype == \"int64\":\n",
    "        try:\n",
    "            d[i] = data.LoanAmount.corr(data[i])\n",
    "        except:\n",
    "            pass\n",
    "\n",
    "\n",
    "cor_df = pd.DataFrame(pd.Series(d).abs(), columns=['absolute_corr'])\n",
    "cor_df.sort_values(by=['absolute_corr'],ascending=False)"
   ]
  },
  {
   "cell_type": "markdown",
   "metadata": {},
   "source": [
    "# SectorDescription"
   ]
  },
  {
   "cell_type": "code",
   "execution_count": 20,
   "metadata": {},
   "outputs": [
    {
     "data": {
      "text/plain": [
       "2"
      ]
     },
     "execution_count": 20,
     "metadata": {},
     "output_type": "execute_result"
    }
   ],
   "source": [
    "# Na's\n",
    "data.SectorDescription.isna().sum()"
   ]
  },
  {
   "cell_type": "code",
   "execution_count": 21,
   "metadata": {},
   "outputs": [
    {
     "data": {
      "text/plain": [
       "count       336289\n",
       "unique           6\n",
       "top       Services\n",
       "freq        163256\n",
       "Name: SectorDescription, dtype: object"
      ]
     },
     "execution_count": 21,
     "metadata": {},
     "output_type": "execute_result"
    }
   ],
   "source": [
    "data.SectorDescription.describe()"
   ]
  },
  {
   "cell_type": "code",
   "execution_count": 22,
   "metadata": {},
   "outputs": [
    {
     "data": {
      "text/plain": [
       "Services                      0.485461\n",
       "Trading                       0.308810\n",
       "Live Stock                    0.131862\n",
       "Manufacturing / Production    0.073154\n",
       "Others                        0.000568\n",
       "OTHERS                        0.000140\n",
       "Name: SectorDescription, dtype: float64"
      ]
     },
     "execution_count": 22,
     "metadata": {},
     "output_type": "execute_result"
    }
   ],
   "source": [
    "data.SectorDescription.value_counts() / len(data)"
   ]
  },
  {
   "cell_type": "code",
   "execution_count": 23,
   "metadata": {},
   "outputs": [
    {
     "name": "stderr",
     "output_type": "stream",
     "text": [
      "/usr/local/lib/python3.6/dist-packages/ipykernel_launcher.py:1: SettingWithCopyWarning: \n",
      "A value is trying to be set on a copy of a slice from a DataFrame\n",
      "\n",
      "See the caveats in the documentation: http://pandas.pydata.org/pandas-docs/stable/indexing.html#indexing-view-versus-copy\n",
      "  \"\"\"Entry point for launching an IPython kernel.\n"
     ]
    },
    {
     "data": {
      "text/plain": [
       "Services                      0.485461\n",
       "Trading                       0.308810\n",
       "Live Stock                    0.131862\n",
       "Manufacturing / Production    0.073154\n",
       "Others                        0.000708\n",
       "Name: SectorDescription, dtype: float64"
      ]
     },
     "execution_count": 23,
     "metadata": {},
     "output_type": "execute_result"
    }
   ],
   "source": [
    "data.SectorDescription[data.SectorDescription == \"OTHERS\"] = \"Others\"\n",
    "data.SectorDescription.value_counts() / len(data)"
   ]
  },
  {
   "cell_type": "code",
   "execution_count": 24,
   "metadata": {},
   "outputs": [
    {
     "data": {
      "text/plain": [
       "([0, 1, 2, 3, 4], <a list of 5 Text xticklabel objects>)"
      ]
     },
     "execution_count": 24,
     "metadata": {},
     "output_type": "execute_result"
    },
    {
     "data": {
      "image/png": "[encoded data removed]",
      "text/plain": [
       "<Figure size 432x288 with 1 Axes>"
      ]
     },
     "metadata": {
      "needs_background": "light"
     },
     "output_type": "display_data"
    }
   ],
   "source": [
    "d = pd.DataFrame(data.SectorDescription.value_counts())\n",
    "plt.bar(d.index, d.SectorDescription)\n",
    "plt.xticks(rotation=45)"
   ]
  },
  {
   "cell_type": "markdown",
   "metadata": {},
   "source": [
    "# EstablishedSinceMonths"
   ]
  },
  {
   "cell_type": "code",
   "execution_count": 25,
   "metadata": {},
   "outputs": [
    {
     "data": {
      "text/plain": [
       "0"
      ]
     },
     "execution_count": 25,
     "metadata": {},
     "output_type": "execute_result"
    }
   ],
   "source": [
    "data.EstablishedSinceMonths.isna().sum()"
   ]
  },
  {
   "cell_type": "code",
   "execution_count": 26,
   "metadata": {},
   "outputs": [
    {
     "data": {
      "text/plain": [
       "count    336291.000000\n",
       "mean         97.372413\n",
       "std         153.939571\n",
       "min           0.000000\n",
       "25%          24.000000\n",
       "50%          72.000000\n",
       "75%         120.000000\n",
       "max       32696.000000\n",
       "Name: EstablishedSinceMonths, dtype: float64"
      ]
     },
     "execution_count": 26,
     "metadata": {},
     "output_type": "execute_result"
    }
   ],
   "source": [
    "data.EstablishedSinceMonths.describe()"
   ]
  },
  {
   "cell_type": "code",
   "execution_count": 27,
   "metadata": {},
   "outputs": [
    {
     "data": {
      "text/plain": [
       "0.0602662574972271"
      ]
     },
     "execution_count": 27,
     "metadata": {},
     "output_type": "execute_result"
    }
   ],
   "source": [
    "sum(data.EstablishedSinceMonths > 240) / len(data)"
   ]
  },
  {
   "cell_type": "code",
   "execution_count": 28,
   "metadata": {},
   "outputs": [
    {
     "name": "stderr",
     "output_type": "stream",
     "text": [
      "/usr/local/lib/python3.6/dist-packages/ipykernel_launcher.py:3: SettingWithCopyWarning: \n",
      "A value is trying to be set on a copy of a slice from a DataFrame\n",
      "\n",
      "See the caveats in the documentation: http://pandas.pydata.org/pandas-docs/stable/indexing.html#indexing-view-versus-copy\n",
      "  This is separate from the ipykernel package so we can avoid doing imports until\n"
     ]
    }
   ],
   "source": [
    "## this variables contains some large values(not make scence), there is 24% data is > 120, and 6% is > 240,\n",
    "# so i replace >= 240 to 240\n",
    "data.EstablishedSinceMonths[data.EstablishedSinceMonths > 240] = 240"
   ]
  },
  {
   "cell_type": "code",
   "execution_count": 29,
   "metadata": {},
   "outputs": [
    {
     "data": {
      "text/plain": [
       "0.2336726228177382"
      ]
     },
     "execution_count": 29,
     "metadata": {},
     "output_type": "execute_result"
    }
   ],
   "source": [
    "np.mean(data.EstablishedSinceMonths == 0)"
   ]
  },
  {
   "cell_type": "markdown",
   "metadata": {},
   "source": [
    "### also there is 23% data is 0, this is dificult dicision, are we consider these 0's is true value, or consider it NA, if we consider it NA, are we should remove entire variable, or replace it with another statistics from this variable itself, or should we fill these 0's by using values of anohter variables"
   ]
  },
  {
   "cell_type": "markdown",
   "metadata": {},
   "source": [
    "# d = data[data.EstablishedSinceMonths != 0]"
   ]
  },
  {
   "cell_type": "code",
   "execution_count": 30,
   "metadata": {},
   "outputs": [
    {
     "data": {
      "text/html": [
       "<div>\n",
       "<style scoped>\n",
       "    .dataframe tbody tr th:only-of-type {\n",
       "        vertical-align: middle;\n",
       "    }\n",
       "\n",
       "    .dataframe tbody tr th {\n",
       "        vertical-align: top;\n",
       "    }\n",
       "\n",
       "    .dataframe thead th {\n",
       "        text-align: right;\n",
       "    }\n",
       "</style>\n",
       "<table border=\"1\" class=\"dataframe\">\n",
       "  <thead>\n",
       "    <tr style=\"text-align: right;\">\n",
       "      <th></th>\n",
       "      <th>absolute_corr</th>\n",
       "    </tr>\n",
       "  </thead>\n",
       "  <tbody>\n",
       "    <tr>\n",
       "      <th>InsuranceRate</th>\n",
       "      <td>0.345474</td>\n",
       "    </tr>\n",
       "    <tr>\n",
       "      <th>InsuranceAmount</th>\n",
       "      <td>0.297829</td>\n",
       "    </tr>\n",
       "    <tr>\n",
       "      <th>CurrentAddressSinceMonths</th>\n",
       "      <td>0.292593</td>\n",
       "    </tr>\n",
       "    <tr>\n",
       "      <th>applicationnumber</th>\n",
       "      <td>0.235942</td>\n",
       "    </tr>\n",
       "    <tr>\n",
       "      <th>DocumentCharge</th>\n",
       "      <td>0.124388</td>\n",
       "    </tr>\n",
       "    <tr>\n",
       "      <th>ResidenceType</th>\n",
       "      <td>0.082898</td>\n",
       "    </tr>\n",
       "    <tr>\n",
       "      <th>NoOfDependents</th>\n",
       "      <td>0.074026</td>\n",
       "    </tr>\n",
       "    <tr>\n",
       "      <th>DPD30</th>\n",
       "      <td>0.054731</td>\n",
       "    </tr>\n",
       "    <tr>\n",
       "      <th>30 DPDs Instance</th>\n",
       "      <td>0.053337</td>\n",
       "    </tr>\n",
       "    <tr>\n",
       "      <th>InterestRate</th>\n",
       "      <td>0.043824</td>\n",
       "    </tr>\n",
       "    <tr>\n",
       "      <th>OtherLoanBank</th>\n",
       "      <td>0.017576</td>\n",
       "    </tr>\n",
       "    <tr>\n",
       "      <th>RentAmount</th>\n",
       "      <td>0.015554</td>\n",
       "    </tr>\n",
       "    <tr>\n",
       "      <th>EMI</th>\n",
       "      <td>0.012041</td>\n",
       "    </tr>\n",
       "    <tr>\n",
       "      <th>LoanAmount</th>\n",
       "      <td>0.009840</td>\n",
       "    </tr>\n",
       "    <tr>\n",
       "      <th>NetDisposableIncome</th>\n",
       "      <td>0.001318</td>\n",
       "    </tr>\n",
       "    <tr>\n",
       "      <th>loantype</th>\n",
       "      <td>0.001209</td>\n",
       "    </tr>\n",
       "    <tr>\n",
       "      <th>AccomodationType</th>\n",
       "      <td>0.000587</td>\n",
       "    </tr>\n",
       "    <tr>\n",
       "      <th>NetBusinessIncome</th>\n",
       "      <td>0.000092</td>\n",
       "    </tr>\n",
       "  </tbody>\n",
       "</table>\n",
       "</div>"
      ],
      "text/plain": [
       "                           absolute_corr\n",
       "InsuranceRate                   0.345474\n",
       "InsuranceAmount                 0.297829\n",
       "CurrentAddressSinceMonths       0.292593\n",
       "applicationnumber               0.235942\n",
       "DocumentCharge                  0.124388\n",
       "ResidenceType                   0.082898\n",
       "NoOfDependents                  0.074026\n",
       "DPD30                           0.054731\n",
       "30 DPDs Instance                0.053337\n",
       "InterestRate                    0.043824\n",
       "OtherLoanBank                   0.017576\n",
       "RentAmount                      0.015554\n",
       "EMI                             0.012041\n",
       "LoanAmount                      0.009840\n",
       "NetDisposableIncome             0.001318\n",
       "loantype                        0.001209\n",
       "AccomodationType                0.000587\n",
       "NetBusinessIncome               0.000092"
      ]
     },
     "execution_count": 30,
     "metadata": {},
     "output_type": "execute_result"
    }
   ],
   "source": [
    "d = {}\n",
    "for i in data.drop(\"EstablishedSinceMonths\", axis=1).columns:\n",
    "    if data[i].dtype == \"float64\" or data[i].dtype == \"int64\":\n",
    "        try:\n",
    "            d[i] = data.EstablishedSinceMonths.corr(data[i])\n",
    "        except:\n",
    "            pass\n",
    "cor_df = pd.DataFrame(pd.Series(d).abs(), columns=['absolute_corr'])\n",
    "cor_df.sort_values(by=['absolute_corr'],ascending=False)"
   ]
  },
  {
   "cell_type": "code",
   "execution_count": 31,
   "metadata": {},
   "outputs": [
    {
     "data": {
      "text/plain": [
       "<matplotlib.axes._subplots.AxesSubplot at 0x7f3adae5b198>"
      ]
     },
     "execution_count": 31,
     "metadata": {},
     "output_type": "execute_result"
    },
    {
     "data": {
      "image/png": "[encoded data removed]",
      "text/plain": [
       "<Figure size 432x288 with 1 Axes>"
      ]
     },
     "metadata": {
      "needs_background": "light"
     },
     "output_type": "display_data"
    }
   ],
   "source": [
    "data.EstablishedSinceMonths.hist()"
   ]
  },
  {
   "cell_type": "markdown",
   "metadata": {},
   "source": [
    "# CurrentAddressSinceMonths"
   ]
  },
  {
   "cell_type": "code",
   "execution_count": 32,
   "metadata": {},
   "outputs": [
    {
     "data": {
      "text/plain": [
       "0"
      ]
     },
     "execution_count": 32,
     "metadata": {},
     "output_type": "execute_result"
    }
   ],
   "source": [
    "data.CurrentAddressSinceMonths.isna().sum()"
   ]
  },
  {
   "cell_type": "code",
   "execution_count": 33,
   "metadata": {},
   "outputs": [
    {
     "data": {
      "text/plain": [
       "count    336291.000000\n",
       "mean        245.781237\n",
       "std         237.386744\n",
       "min           0.000000\n",
       "25%          60.000000\n",
       "50%         240.000000\n",
       "75%         362.000000\n",
       "max        9800.000000\n",
       "Name: CurrentAddressSinceMonths, dtype: float64"
      ]
     },
     "execution_count": 33,
     "metadata": {},
     "output_type": "execute_result"
    }
   ],
   "source": [
    "data.CurrentAddressSinceMonths.describe()"
   ]
  },
  {
   "cell_type": "code",
   "execution_count": 34,
   "metadata": {},
   "outputs": [
    {
     "name": "stderr",
     "output_type": "stream",
     "text": [
      "/usr/local/lib/python3.6/dist-packages/ipykernel_launcher.py:3: SettingWithCopyWarning: \n",
      "A value is trying to be set on a copy of a slice from a DataFrame\n",
      "\n",
      "See the caveats in the documentation: http://pandas.pydata.org/pandas-docs/stable/indexing.html#indexing-view-versus-copy\n",
      "  This is separate from the ipykernel package so we can avoid doing imports until\n"
     ]
    }
   ],
   "source": [
    "# again we see here the maximum value is 9800, which is no make scence.\n",
    "# so i replace > 480 to 480(40 years)\n",
    "data.CurrentAddressSinceMonths[data.CurrentAddressSinceMonths > 480] = 480"
   ]
  },
  {
   "cell_type": "code",
   "execution_count": 35,
   "metadata": {},
   "outputs": [
    {
     "data": {
      "text/plain": [
       "0.18472394444097523"
      ]
     },
     "execution_count": 35,
     "metadata": {},
     "output_type": "execute_result"
    }
   ],
   "source": [
    "sum(data.CurrentAddressSinceMonths == 0) / len(data)"
   ]
  },
  {
   "cell_type": "markdown",
   "metadata": {},
   "source": [
    "# here our 18% data is 0's, are it is true value?"
   ]
  },
  {
   "cell_type": "code",
   "execution_count": 36,
   "metadata": {
    "scrolled": true
   },
   "outputs": [
    {
     "data": {
      "text/plain": [
       "<matplotlib.axes._subplots.AxesSubplot at 0x7f3adadcdc88>"
      ]
     },
     "execution_count": 36,
     "metadata": {},
     "output_type": "execute_result"
    },
    {
     "data": {
      "image/png": "[encoded data removed]",
      "text/plain": [
       "<Figure size 432x288 with 1 Axes>"
      ]
     },
     "metadata": {
      "needs_background": "light"
     },
     "output_type": "display_data"
    }
   ],
   "source": [
    "data.CurrentAddressSinceMonths.hist()"
   ]
  },
  {
   "cell_type": "code",
   "execution_count": 37,
   "metadata": {},
   "outputs": [
    {
     "data": {
      "text/html": [
       "<div>\n",
       "<style scoped>\n",
       "    .dataframe tbody tr th:only-of-type {\n",
       "        vertical-align: middle;\n",
       "    }\n",
       "\n",
       "    .dataframe tbody tr th {\n",
       "        vertical-align: top;\n",
       "    }\n",
       "\n",
       "    .dataframe thead th {\n",
       "        text-align: right;\n",
       "    }\n",
       "</style>\n",
       "<table border=\"1\" class=\"dataframe\">\n",
       "  <thead>\n",
       "    <tr style=\"text-align: right;\">\n",
       "      <th></th>\n",
       "      <th>absolute_corr</th>\n",
       "    </tr>\n",
       "  </thead>\n",
       "  <tbody>\n",
       "    <tr>\n",
       "      <th>EstablishedSinceMonths</th>\n",
       "      <td>0.356094</td>\n",
       "    </tr>\n",
       "    <tr>\n",
       "      <th>InsuranceRate</th>\n",
       "      <td>0.335463</td>\n",
       "    </tr>\n",
       "    <tr>\n",
       "      <th>InsuranceAmount</th>\n",
       "      <td>0.280739</td>\n",
       "    </tr>\n",
       "    <tr>\n",
       "      <th>DocumentCharge</th>\n",
       "      <td>0.144918</td>\n",
       "    </tr>\n",
       "    <tr>\n",
       "      <th>applicationnumber</th>\n",
       "      <td>0.127249</td>\n",
       "    </tr>\n",
       "    <tr>\n",
       "      <th>ResidenceType</th>\n",
       "      <td>0.123483</td>\n",
       "    </tr>\n",
       "    <tr>\n",
       "      <th>RentAmount</th>\n",
       "      <td>0.102771</td>\n",
       "    </tr>\n",
       "    <tr>\n",
       "      <th>NoOfDependents</th>\n",
       "      <td>0.101095</td>\n",
       "    </tr>\n",
       "    <tr>\n",
       "      <th>loantype</th>\n",
       "      <td>0.079962</td>\n",
       "    </tr>\n",
       "    <tr>\n",
       "      <th>InterestRate</th>\n",
       "      <td>0.051097</td>\n",
       "    </tr>\n",
       "    <tr>\n",
       "      <th>EMI</th>\n",
       "      <td>0.048570</td>\n",
       "    </tr>\n",
       "    <tr>\n",
       "      <th>LoanAmount</th>\n",
       "      <td>0.040774</td>\n",
       "    </tr>\n",
       "    <tr>\n",
       "      <th>DPD30</th>\n",
       "      <td>0.035831</td>\n",
       "    </tr>\n",
       "    <tr>\n",
       "      <th>30 DPDs Instance</th>\n",
       "      <td>0.025318</td>\n",
       "    </tr>\n",
       "    <tr>\n",
       "      <th>OtherLoanBank</th>\n",
       "      <td>0.008426</td>\n",
       "    </tr>\n",
       "    <tr>\n",
       "      <th>AccomodationType</th>\n",
       "      <td>0.002417</td>\n",
       "    </tr>\n",
       "    <tr>\n",
       "      <th>NetBusinessIncome</th>\n",
       "      <td>0.000347</td>\n",
       "    </tr>\n",
       "    <tr>\n",
       "      <th>NetDisposableIncome</th>\n",
       "      <td>0.000091</td>\n",
       "    </tr>\n",
       "  </tbody>\n",
       "</table>\n",
       "</div>"
      ],
      "text/plain": [
       "                        absolute_corr\n",
       "EstablishedSinceMonths       0.356094\n",
       "InsuranceRate                0.335463\n",
       "InsuranceAmount              0.280739\n",
       "DocumentCharge               0.144918\n",
       "applicationnumber            0.127249\n",
       "ResidenceType                0.123483\n",
       "RentAmount                   0.102771\n",
       "NoOfDependents               0.101095\n",
       "loantype                     0.079962\n",
       "InterestRate                 0.051097\n",
       "EMI                          0.048570\n",
       "LoanAmount                   0.040774\n",
       "DPD30                        0.035831\n",
       "30 DPDs Instance             0.025318\n",
       "OtherLoanBank                0.008426\n",
       "AccomodationType             0.002417\n",
       "NetBusinessIncome            0.000347\n",
       "NetDisposableIncome          0.000091"
      ]
     },
     "execution_count": 37,
     "metadata": {},
     "output_type": "execute_result"
    }
   ],
   "source": [
    "d = {}\n",
    "for i in data.drop(\"CurrentAddressSinceMonths\", axis=1).columns:\n",
    "    if data[i].dtype == \"float64\" or data[i].dtype == \"int64\":\n",
    "        try:\n",
    "            d[i] = data.CurrentAddressSinceMonths.corr(data[i])\n",
    "        except:\n",
    "            pass\n",
    "cor_df = pd.DataFrame(pd.Series(d).abs(), columns=['absolute_corr'])\n",
    "cor_df.sort_values(by=['absolute_corr'],ascending=False)"
   ]
  },
  {
   "cell_type": "markdown",
   "metadata": {},
   "source": [
    "# DocumentCharge"
   ]
  },
  {
   "cell_type": "code",
   "execution_count": 38,
   "metadata": {},
   "outputs": [
    {
     "data": {
      "text/plain": [
       "0"
      ]
     },
     "execution_count": 38,
     "metadata": {},
     "output_type": "execute_result"
    }
   ],
   "source": [
    "data.DocumentCharge.isna().sum()"
   ]
  },
  {
   "cell_type": "code",
   "execution_count": 39,
   "metadata": {},
   "outputs": [
    {
     "data": {
      "text/plain": [
       "count    336291.000000\n",
       "mean       1583.415135\n",
       "std         915.684233\n",
       "min         500.000000\n",
       "25%        1000.000000\n",
       "50%        1250.000000\n",
       "75%        2000.000000\n",
       "max        5900.000000\n",
       "Name: DocumentCharge, dtype: float64"
      ]
     },
     "execution_count": 39,
     "metadata": {},
     "output_type": "execute_result"
    }
   ],
   "source": [
    "data.DocumentCharge.describe()"
   ]
  },
  {
   "cell_type": "code",
   "execution_count": 40,
   "metadata": {},
   "outputs": [
    {
     "data": {
      "text/plain": [
       "<matplotlib.axes._subplots.AxesSubplot at 0x7f3adad94c50>"
      ]
     },
     "execution_count": 40,
     "metadata": {},
     "output_type": "execute_result"
    },
    {
     "data": {
      "image/png": "[encoded data removed]",
      "text/plain": [
       "<Figure size 432x288 with 1 Axes>"
      ]
     },
     "metadata": {
      "needs_background": "light"
     },
     "output_type": "display_data"
    }
   ],
   "source": [
    "data.DocumentCharge.hist()"
   ]
  },
  {
   "cell_type": "code",
   "execution_count": 41,
   "metadata": {},
   "outputs": [
    {
     "data": {
      "text/html": [
       "<div>\n",
       "<style scoped>\n",
       "    .dataframe tbody tr th:only-of-type {\n",
       "        vertical-align: middle;\n",
       "    }\n",
       "\n",
       "    .dataframe tbody tr th {\n",
       "        vertical-align: top;\n",
       "    }\n",
       "\n",
       "    .dataframe thead th {\n",
       "        text-align: right;\n",
       "    }\n",
       "</style>\n",
       "<table border=\"1\" class=\"dataframe\">\n",
       "  <thead>\n",
       "    <tr style=\"text-align: right;\">\n",
       "      <th></th>\n",
       "      <th>absolute_corr</th>\n",
       "    </tr>\n",
       "  </thead>\n",
       "  <tbody>\n",
       "    <tr>\n",
       "      <th>LoanAmount</th>\n",
       "      <td>0.681327</td>\n",
       "    </tr>\n",
       "    <tr>\n",
       "      <th>EMI</th>\n",
       "      <td>0.643820</td>\n",
       "    </tr>\n",
       "    <tr>\n",
       "      <th>InsuranceRate</th>\n",
       "      <td>0.395272</td>\n",
       "    </tr>\n",
       "    <tr>\n",
       "      <th>loantype</th>\n",
       "      <td>0.214266</td>\n",
       "    </tr>\n",
       "    <tr>\n",
       "      <th>InsuranceAmount</th>\n",
       "      <td>0.213884</td>\n",
       "    </tr>\n",
       "    <tr>\n",
       "      <th>InterestRate</th>\n",
       "      <td>0.151844</td>\n",
       "    </tr>\n",
       "    <tr>\n",
       "      <th>CurrentAddressSinceMonths</th>\n",
       "      <td>0.144918</td>\n",
       "    </tr>\n",
       "    <tr>\n",
       "      <th>ResidenceType</th>\n",
       "      <td>0.136268</td>\n",
       "    </tr>\n",
       "    <tr>\n",
       "      <th>EstablishedSinceMonths</th>\n",
       "      <td>0.124388</td>\n",
       "    </tr>\n",
       "    <tr>\n",
       "      <th>DPD30</th>\n",
       "      <td>0.070399</td>\n",
       "    </tr>\n",
       "    <tr>\n",
       "      <th>30 DPDs Instance</th>\n",
       "      <td>0.068612</td>\n",
       "    </tr>\n",
       "    <tr>\n",
       "      <th>applicationnumber</th>\n",
       "      <td>0.039004</td>\n",
       "    </tr>\n",
       "    <tr>\n",
       "      <th>NoOfDependents</th>\n",
       "      <td>0.037572</td>\n",
       "    </tr>\n",
       "    <tr>\n",
       "      <th>RentAmount</th>\n",
       "      <td>0.023211</td>\n",
       "    </tr>\n",
       "    <tr>\n",
       "      <th>OtherLoanBank</th>\n",
       "      <td>0.021964</td>\n",
       "    </tr>\n",
       "    <tr>\n",
       "      <th>NetBusinessIncome</th>\n",
       "      <td>0.008750</td>\n",
       "    </tr>\n",
       "    <tr>\n",
       "      <th>NetDisposableIncome</th>\n",
       "      <td>0.002492</td>\n",
       "    </tr>\n",
       "    <tr>\n",
       "      <th>AccomodationType</th>\n",
       "      <td>0.002260</td>\n",
       "    </tr>\n",
       "  </tbody>\n",
       "</table>\n",
       "</div>"
      ],
      "text/plain": [
       "                           absolute_corr\n",
       "LoanAmount                      0.681327\n",
       "EMI                             0.643820\n",
       "InsuranceRate                   0.395272\n",
       "loantype                        0.214266\n",
       "InsuranceAmount                 0.213884\n",
       "InterestRate                    0.151844\n",
       "CurrentAddressSinceMonths       0.144918\n",
       "ResidenceType                   0.136268\n",
       "EstablishedSinceMonths          0.124388\n",
       "DPD30                           0.070399\n",
       "30 DPDs Instance                0.068612\n",
       "applicationnumber               0.039004\n",
       "NoOfDependents                  0.037572\n",
       "RentAmount                      0.023211\n",
       "OtherLoanBank                   0.021964\n",
       "NetBusinessIncome               0.008750\n",
       "NetDisposableIncome             0.002492\n",
       "AccomodationType                0.002260"
      ]
     },
     "execution_count": 41,
     "metadata": {},
     "output_type": "execute_result"
    }
   ],
   "source": [
    "d = {}\n",
    "for i in data.drop(\"DocumentCharge\", axis=1).columns:\n",
    "    if data[i].dtype == \"float64\" or data[i].dtype == \"int64\":\n",
    "        try:\n",
    "            d[i] = data.DocumentCharge.corr(data[i])\n",
    "        except:\n",
    "            pass\n",
    "cor_df = pd.DataFrame(pd.Series(d).abs(), columns=['absolute_corr'])\n",
    "cor_df.sort_values(by=['absolute_corr'],ascending=False)"
   ]
  },
  {
   "cell_type": "markdown",
   "metadata": {},
   "source": [
    "# EMI"
   ]
  },
  {
   "cell_type": "code",
   "execution_count": 42,
   "metadata": {},
   "outputs": [
    {
     "data": {
      "text/plain": [
       "0"
      ]
     },
     "execution_count": 42,
     "metadata": {},
     "output_type": "execute_result"
    }
   ],
   "source": [
    "data.EMI.isna().sum()"
   ]
  },
  {
   "cell_type": "code",
   "execution_count": 43,
   "metadata": {},
   "outputs": [
    {
     "data": {
      "text/plain": [
       "count    336291.000000\n",
       "mean       7460.315890\n",
       "std        3189.780893\n",
       "min        1980.000000\n",
       "25%        5350.000000\n",
       "50%        6178.000000\n",
       "75%       10500.000000\n",
       "max       35670.000000\n",
       "Name: EMI, dtype: float64"
      ]
     },
     "execution_count": 43,
     "metadata": {},
     "output_type": "execute_result"
    }
   ],
   "source": [
    "data.EMI.describe()"
   ]
  },
  {
   "cell_type": "code",
   "execution_count": 44,
   "metadata": {},
   "outputs": [
    {
     "data": {
      "text/plain": [
       "<matplotlib.axes._subplots.AxesSubplot at 0x7f3ad8c6bf98>"
      ]
     },
     "execution_count": 44,
     "metadata": {},
     "output_type": "execute_result"
    },
    {
     "data": {
      "image/png": "[encoded data removed]",
      "text/plain": [
       "<Figure size 432x288 with 1 Axes>"
      ]
     },
     "metadata": {
      "needs_background": "light"
     },
     "output_type": "display_data"
    }
   ],
   "source": [
    "data.EMI.hist()"
   ]
  },
  {
   "cell_type": "code",
   "execution_count": 45,
   "metadata": {},
   "outputs": [
    {
     "data": {
      "text/html": [
       "<div>\n",
       "<style scoped>\n",
       "    .dataframe tbody tr th:only-of-type {\n",
       "        vertical-align: middle;\n",
       "    }\n",
       "\n",
       "    .dataframe tbody tr th {\n",
       "        vertical-align: top;\n",
       "    }\n",
       "\n",
       "    .dataframe thead th {\n",
       "        text-align: right;\n",
       "    }\n",
       "</style>\n",
       "<table border=\"1\" class=\"dataframe\">\n",
       "  <thead>\n",
       "    <tr style=\"text-align: right;\">\n",
       "      <th></th>\n",
       "      <th>absolute_corr</th>\n",
       "    </tr>\n",
       "  </thead>\n",
       "  <tbody>\n",
       "    <tr>\n",
       "      <th>LoanAmount</th>\n",
       "      <td>0.902821</td>\n",
       "    </tr>\n",
       "    <tr>\n",
       "      <th>DocumentCharge</th>\n",
       "      <td>0.643820</td>\n",
       "    </tr>\n",
       "    <tr>\n",
       "      <th>InterestRate</th>\n",
       "      <td>0.461861</td>\n",
       "    </tr>\n",
       "    <tr>\n",
       "      <th>InsuranceAmount</th>\n",
       "      <td>0.182583</td>\n",
       "    </tr>\n",
       "    <tr>\n",
       "      <th>InsuranceRate</th>\n",
       "      <td>0.158051</td>\n",
       "    </tr>\n",
       "    <tr>\n",
       "      <th>loantype</th>\n",
       "      <td>0.089829</td>\n",
       "    </tr>\n",
       "    <tr>\n",
       "      <th>ResidenceType</th>\n",
       "      <td>0.057550</td>\n",
       "    </tr>\n",
       "    <tr>\n",
       "      <th>30 DPDs Instance</th>\n",
       "      <td>0.051661</td>\n",
       "    </tr>\n",
       "    <tr>\n",
       "      <th>CurrentAddressSinceMonths</th>\n",
       "      <td>0.048570</td>\n",
       "    </tr>\n",
       "    <tr>\n",
       "      <th>DPD30</th>\n",
       "      <td>0.042214</td>\n",
       "    </tr>\n",
       "    <tr>\n",
       "      <th>applicationnumber</th>\n",
       "      <td>0.037582</td>\n",
       "    </tr>\n",
       "    <tr>\n",
       "      <th>OtherLoanBank</th>\n",
       "      <td>0.019548</td>\n",
       "    </tr>\n",
       "    <tr>\n",
       "      <th>EstablishedSinceMonths</th>\n",
       "      <td>0.012041</td>\n",
       "    </tr>\n",
       "    <tr>\n",
       "      <th>NetBusinessIncome</th>\n",
       "      <td>0.010312</td>\n",
       "    </tr>\n",
       "    <tr>\n",
       "      <th>RentAmount</th>\n",
       "      <td>0.004273</td>\n",
       "    </tr>\n",
       "    <tr>\n",
       "      <th>NoOfDependents</th>\n",
       "      <td>0.004227</td>\n",
       "    </tr>\n",
       "    <tr>\n",
       "      <th>AccomodationType</th>\n",
       "      <td>0.002644</td>\n",
       "    </tr>\n",
       "    <tr>\n",
       "      <th>NetDisposableIncome</th>\n",
       "      <td>0.002006</td>\n",
       "    </tr>\n",
       "  </tbody>\n",
       "</table>\n",
       "</div>"
      ],
      "text/plain": [
       "                           absolute_corr\n",
       "LoanAmount                      0.902821\n",
       "DocumentCharge                  0.643820\n",
       "InterestRate                    0.461861\n",
       "InsuranceAmount                 0.182583\n",
       "InsuranceRate                   0.158051\n",
       "loantype                        0.089829\n",
       "ResidenceType                   0.057550\n",
       "30 DPDs Instance                0.051661\n",
       "CurrentAddressSinceMonths       0.048570\n",
       "DPD30                           0.042214\n",
       "applicationnumber               0.037582\n",
       "OtherLoanBank                   0.019548\n",
       "EstablishedSinceMonths          0.012041\n",
       "NetBusinessIncome               0.010312\n",
       "RentAmount                      0.004273\n",
       "NoOfDependents                  0.004227\n",
       "AccomodationType                0.002644\n",
       "NetDisposableIncome             0.002006"
      ]
     },
     "execution_count": 45,
     "metadata": {},
     "output_type": "execute_result"
    }
   ],
   "source": [
    "d = {}\n",
    "for i in data.drop('EMI', axis=1).columns:\n",
    "    if data[i].dtype == \"float64\" or data[i].dtype == \"int64\":\n",
    "        try:\n",
    "            d[i] = data.EMI.corr(data[i])\n",
    "        except:\n",
    "            pass\n",
    "\n",
    "cor_df = pd.DataFrame(pd.Series(d).abs(), columns=['absolute_corr'])\n",
    "cor_df.sort_values(by=['absolute_corr'],ascending=False)"
   ]
  },
  {
   "cell_type": "markdown",
   "metadata": {},
   "source": [
    "# InterestRate"
   ]
  },
  {
   "cell_type": "code",
   "execution_count": 46,
   "metadata": {},
   "outputs": [
    {
     "data": {
      "text/plain": [
       "count    336291.000000\n",
       "mean         28.294563\n",
       "std           1.574222\n",
       "min           0.000000\n",
       "25%          27.500000\n",
       "50%          28.000000\n",
       "75%          30.000000\n",
       "max          34.000000\n",
       "Name: InterestRate, dtype: float64"
      ]
     },
     "execution_count": 46,
     "metadata": {},
     "output_type": "execute_result"
    }
   ],
   "source": [
    "data.InterestRate.describe()"
   ]
  },
  {
   "cell_type": "code",
   "execution_count": 47,
   "metadata": {},
   "outputs": [
    {
     "data": {
      "text/plain": [
       "0"
      ]
     },
     "execution_count": 47,
     "metadata": {},
     "output_type": "execute_result"
    }
   ],
   "source": [
    "data.InterestRate.isna().sum()"
   ]
  },
  {
   "cell_type": "code",
   "execution_count": 48,
   "metadata": {},
   "outputs": [
    {
     "data": {
      "text/plain": [
       "<matplotlib.axes._subplots.AxesSubplot at 0x7f3adad1a208>"
      ]
     },
     "execution_count": 48,
     "metadata": {},
     "output_type": "execute_result"
    },
    {
     "data": {
      "image/png": "[encoded data removed]",
      "text/plain": [
       "<Figure size 432x288 with 1 Axes>"
      ]
     },
     "metadata": {
      "needs_background": "light"
     },
     "output_type": "display_data"
    }
   ],
   "source": [
    "data.InterestRate.hist()"
   ]
  },
  {
   "cell_type": "code",
   "execution_count": 49,
   "metadata": {},
   "outputs": [
    {
     "data": {
      "text/html": [
       "<div>\n",
       "<style scoped>\n",
       "    .dataframe tbody tr th:only-of-type {\n",
       "        vertical-align: middle;\n",
       "    }\n",
       "\n",
       "    .dataframe tbody tr th {\n",
       "        vertical-align: top;\n",
       "    }\n",
       "\n",
       "    .dataframe thead th {\n",
       "        text-align: right;\n",
       "    }\n",
       "</style>\n",
       "<table border=\"1\" class=\"dataframe\">\n",
       "  <thead>\n",
       "    <tr style=\"text-align: right;\">\n",
       "      <th></th>\n",
       "      <th>absolute_corr</th>\n",
       "    </tr>\n",
       "  </thead>\n",
       "  <tbody>\n",
       "    <tr>\n",
       "      <th>LoanAmount</th>\n",
       "      <td>0.536283</td>\n",
       "    </tr>\n",
       "    <tr>\n",
       "      <th>EMI</th>\n",
       "      <td>0.461861</td>\n",
       "    </tr>\n",
       "    <tr>\n",
       "      <th>InsuranceAmount</th>\n",
       "      <td>0.209077</td>\n",
       "    </tr>\n",
       "    <tr>\n",
       "      <th>applicationnumber</th>\n",
       "      <td>0.201017</td>\n",
       "    </tr>\n",
       "    <tr>\n",
       "      <th>DocumentCharge</th>\n",
       "      <td>0.151844</td>\n",
       "    </tr>\n",
       "    <tr>\n",
       "      <th>InsuranceRate</th>\n",
       "      <td>0.150154</td>\n",
       "    </tr>\n",
       "    <tr>\n",
       "      <th>loantype</th>\n",
       "      <td>0.087609</td>\n",
       "    </tr>\n",
       "    <tr>\n",
       "      <th>CurrentAddressSinceMonths</th>\n",
       "      <td>0.051097</td>\n",
       "    </tr>\n",
       "    <tr>\n",
       "      <th>EstablishedSinceMonths</th>\n",
       "      <td>0.043824</td>\n",
       "    </tr>\n",
       "    <tr>\n",
       "      <th>ResidenceType</th>\n",
       "      <td>0.041072</td>\n",
       "    </tr>\n",
       "    <tr>\n",
       "      <th>NoOfDependents</th>\n",
       "      <td>0.019224</td>\n",
       "    </tr>\n",
       "    <tr>\n",
       "      <th>OtherLoanBank</th>\n",
       "      <td>0.013916</td>\n",
       "    </tr>\n",
       "    <tr>\n",
       "      <th>30 DPDs Instance</th>\n",
       "      <td>0.012368</td>\n",
       "    </tr>\n",
       "    <tr>\n",
       "      <th>NetBusinessIncome</th>\n",
       "      <td>0.007673</td>\n",
       "    </tr>\n",
       "    <tr>\n",
       "      <th>RentAmount</th>\n",
       "      <td>0.003736</td>\n",
       "    </tr>\n",
       "    <tr>\n",
       "      <th>DPD30</th>\n",
       "      <td>0.002379</td>\n",
       "    </tr>\n",
       "    <tr>\n",
       "      <th>AccomodationType</th>\n",
       "      <td>0.001529</td>\n",
       "    </tr>\n",
       "    <tr>\n",
       "      <th>NetDisposableIncome</th>\n",
       "      <td>0.000004</td>\n",
       "    </tr>\n",
       "  </tbody>\n",
       "</table>\n",
       "</div>"
      ],
      "text/plain": [
       "                           absolute_corr\n",
       "LoanAmount                      0.536283\n",
       "EMI                             0.461861\n",
       "InsuranceAmount                 0.209077\n",
       "applicationnumber               0.201017\n",
       "DocumentCharge                  0.151844\n",
       "InsuranceRate                   0.150154\n",
       "loantype                        0.087609\n",
       "CurrentAddressSinceMonths       0.051097\n",
       "EstablishedSinceMonths          0.043824\n",
       "ResidenceType                   0.041072\n",
       "NoOfDependents                  0.019224\n",
       "OtherLoanBank                   0.013916\n",
       "30 DPDs Instance                0.012368\n",
       "NetBusinessIncome               0.007673\n",
       "RentAmount                      0.003736\n",
       "DPD30                           0.002379\n",
       "AccomodationType                0.001529\n",
       "NetDisposableIncome             0.000004"
      ]
     },
     "execution_count": 49,
     "metadata": {},
     "output_type": "execute_result"
    }
   ],
   "source": [
    "d = {}\n",
    "for i in data.drop('InterestRate', axis=1).columns:\n",
    "    if data[i].dtype == \"float64\" or data[i].dtype == \"int64\":\n",
    "        try:\n",
    "            d[i] = data.InterestRate.corr(data[i])\n",
    "        except:\n",
    "            pass\n",
    "\n",
    "cor_df = pd.DataFrame(pd.Series(d).abs(), columns=['absolute_corr'])\n",
    "cor_df.sort_values(by=['absolute_corr'],ascending=False)"
   ]
  },
  {
   "cell_type": "markdown",
   "metadata": {},
   "source": [
    "# InsuranceRate"
   ]
  },
  {
   "cell_type": "code",
   "execution_count": 50,
   "metadata": {},
   "outputs": [
    {
     "data": {
      "text/plain": [
       "0"
      ]
     },
     "execution_count": 50,
     "metadata": {},
     "output_type": "execute_result"
    }
   ],
   "source": [
    "data.InsuranceRate.isna().sum()"
   ]
  },
  {
   "cell_type": "code",
   "execution_count": 51,
   "metadata": {},
   "outputs": [
    {
     "data": {
      "text/plain": [
       "count    336291.000000\n",
       "mean          0.629364\n",
       "std           0.665082\n",
       "min           0.000000\n",
       "25%           0.000000\n",
       "50%           0.000000\n",
       "75%           1.350000\n",
       "max           2.000000\n",
       "Name: InsuranceRate, dtype: float64"
      ]
     },
     "execution_count": 51,
     "metadata": {},
     "output_type": "execute_result"
    }
   ],
   "source": [
    "data.InsuranceRate.describe()"
   ]
  },
  {
   "cell_type": "code",
   "execution_count": 52,
   "metadata": {},
   "outputs": [
    {
     "data": {
      "text/plain": [
       "array([0.  , 1.1 , 1.35, 1.7 , 2.  , 1.  ])"
      ]
     },
     "execution_count": 52,
     "metadata": {},
     "output_type": "execute_result"
    }
   ],
   "source": [
    "data.InsuranceRate.unique()"
   ]
  },
  {
   "cell_type": "code",
   "execution_count": 53,
   "metadata": {},
   "outputs": [
    {
     "data": {
      "text/plain": [
       "0.00    0.517132\n",
       "1.35    0.239233\n",
       "1.10    0.179785\n",
       "1.70    0.063424\n",
       "2.00    0.000390\n",
       "1.00    0.000036\n",
       "Name: InsuranceRate, dtype: float64"
      ]
     },
     "execution_count": 53,
     "metadata": {},
     "output_type": "execute_result"
    }
   ],
   "source": [
    "data.InsuranceRate.value_counts() / len(data)"
   ]
  },
  {
   "cell_type": "code",
   "execution_count": 54,
   "metadata": {},
   "outputs": [
    {
     "data": {
      "text/plain": [
       "<matplotlib.axes._subplots.AxesSubplot at 0x7f3ad8b6f4e0>"
      ]
     },
     "execution_count": 54,
     "metadata": {},
     "output_type": "execute_result"
    },
    {
     "data": {
      "image/png": "[encoded data removed]",
      "text/plain": [
       "<Figure size 432x288 with 1 Axes>"
      ]
     },
     "metadata": {
      "needs_background": "light"
     },
     "output_type": "display_data"
    }
   ],
   "source": [
    "data.InsuranceRate.hist()"
   ]
  },
  {
   "cell_type": "code",
   "execution_count": 55,
   "metadata": {},
   "outputs": [
    {
     "data": {
      "text/html": [
       "<div>\n",
       "<style scoped>\n",
       "    .dataframe tbody tr th:only-of-type {\n",
       "        vertical-align: middle;\n",
       "    }\n",
       "\n",
       "    .dataframe tbody tr th {\n",
       "        vertical-align: top;\n",
       "    }\n",
       "\n",
       "    .dataframe thead th {\n",
       "        text-align: right;\n",
       "    }\n",
       "</style>\n",
       "<table border=\"1\" class=\"dataframe\">\n",
       "  <thead>\n",
       "    <tr style=\"text-align: right;\">\n",
       "      <th></th>\n",
       "      <th>absolute_corr</th>\n",
       "    </tr>\n",
       "  </thead>\n",
       "  <tbody>\n",
       "    <tr>\n",
       "      <th>InsuranceAmount</th>\n",
       "      <td>0.783692</td>\n",
       "    </tr>\n",
       "    <tr>\n",
       "      <th>DocumentCharge</th>\n",
       "      <td>0.395272</td>\n",
       "    </tr>\n",
       "    <tr>\n",
       "      <th>applicationnumber</th>\n",
       "      <td>0.369883</td>\n",
       "    </tr>\n",
       "    <tr>\n",
       "      <th>EstablishedSinceMonths</th>\n",
       "      <td>0.345474</td>\n",
       "    </tr>\n",
       "    <tr>\n",
       "      <th>ResidenceType</th>\n",
       "      <td>0.344941</td>\n",
       "    </tr>\n",
       "    <tr>\n",
       "      <th>CurrentAddressSinceMonths</th>\n",
       "      <td>0.335463</td>\n",
       "    </tr>\n",
       "    <tr>\n",
       "      <th>loantype</th>\n",
       "      <td>0.334954</td>\n",
       "    </tr>\n",
       "    <tr>\n",
       "      <th>NoOfDependents</th>\n",
       "      <td>0.159628</td>\n",
       "    </tr>\n",
       "    <tr>\n",
       "      <th>EMI</th>\n",
       "      <td>0.158051</td>\n",
       "    </tr>\n",
       "    <tr>\n",
       "      <th>InterestRate</th>\n",
       "      <td>0.150154</td>\n",
       "    </tr>\n",
       "    <tr>\n",
       "      <th>LoanAmount</th>\n",
       "      <td>0.141628</td>\n",
       "    </tr>\n",
       "    <tr>\n",
       "      <th>RentAmount</th>\n",
       "      <td>0.103677</td>\n",
       "    </tr>\n",
       "    <tr>\n",
       "      <th>OtherLoanBank</th>\n",
       "      <td>0.038632</td>\n",
       "    </tr>\n",
       "    <tr>\n",
       "      <th>DPD30</th>\n",
       "      <td>0.024679</td>\n",
       "    </tr>\n",
       "    <tr>\n",
       "      <th>30 DPDs Instance</th>\n",
       "      <td>0.010379</td>\n",
       "    </tr>\n",
       "    <tr>\n",
       "      <th>NetBusinessIncome</th>\n",
       "      <td>0.008345</td>\n",
       "    </tr>\n",
       "    <tr>\n",
       "      <th>AccomodationType</th>\n",
       "      <td>0.005231</td>\n",
       "    </tr>\n",
       "    <tr>\n",
       "      <th>NetDisposableIncome</th>\n",
       "      <td>0.001664</td>\n",
       "    </tr>\n",
       "  </tbody>\n",
       "</table>\n",
       "</div>"
      ],
      "text/plain": [
       "                           absolute_corr\n",
       "InsuranceAmount                 0.783692\n",
       "DocumentCharge                  0.395272\n",
       "applicationnumber               0.369883\n",
       "EstablishedSinceMonths          0.345474\n",
       "ResidenceType                   0.344941\n",
       "CurrentAddressSinceMonths       0.335463\n",
       "loantype                        0.334954\n",
       "NoOfDependents                  0.159628\n",
       "EMI                             0.158051\n",
       "InterestRate                    0.150154\n",
       "LoanAmount                      0.141628\n",
       "RentAmount                      0.103677\n",
       "OtherLoanBank                   0.038632\n",
       "DPD30                           0.024679\n",
       "30 DPDs Instance                0.010379\n",
       "NetBusinessIncome               0.008345\n",
       "AccomodationType                0.005231\n",
       "NetDisposableIncome             0.001664"
      ]
     },
     "execution_count": 55,
     "metadata": {},
     "output_type": "execute_result"
    }
   ],
   "source": [
    "d = {}\n",
    "for i in data.drop('InsuranceRate', axis=1).columns:\n",
    "    if data[i].dtype == \"float64\" or data[i].dtype == \"int64\":\n",
    "        try:\n",
    "            d[i] = data.InsuranceRate.corr(data[i])\n",
    "        except:\n",
    "            pass\n",
    "\n",
    "\n",
    "cor_df = pd.DataFrame(pd.Series(d).abs(), columns=['absolute_corr'])\n",
    "cor_df.sort_values(by=['absolute_corr'],ascending=False)"
   ]
  },
  {
   "cell_type": "markdown",
   "metadata": {},
   "source": [
    "# InsuranceAmount"
   ]
  },
  {
   "cell_type": "code",
   "execution_count": 56,
   "metadata": {},
   "outputs": [
    {
     "data": {
      "text/plain": [
       "0"
      ]
     },
     "execution_count": 56,
     "metadata": {},
     "output_type": "execute_result"
    }
   ],
   "source": [
    "data.InsuranceAmount.isna().sum()"
   ]
  },
  {
   "cell_type": "code",
   "execution_count": 57,
   "metadata": {},
   "outputs": [
    {
     "data": {
      "text/plain": [
       "count    336291.000000\n",
       "mean        486.330262\n",
       "std         626.961695\n",
       "min           0.000000\n",
       "25%           0.000000\n",
       "50%           0.000000\n",
       "75%         810.000000\n",
       "max        3825.000000\n",
       "Name: InsuranceAmount, dtype: float64"
      ]
     },
     "execution_count": 57,
     "metadata": {},
     "output_type": "execute_result"
    }
   ],
   "source": [
    "data.InsuranceAmount.describe()"
   ]
  },
  {
   "cell_type": "code",
   "execution_count": 58,
   "metadata": {},
   "outputs": [
    {
     "data": {
      "text/plain": [
       "<matplotlib.axes._subplots.AxesSubplot at 0x7f3ad8b3c588>"
      ]
     },
     "execution_count": 58,
     "metadata": {},
     "output_type": "execute_result"
    },
    {
     "data": {
      "image/png": "[encoded data removed]",
      "text/plain": [
       "<Figure size 432x288 with 1 Axes>"
      ]
     },
     "metadata": {
      "needs_background": "light"
     },
     "output_type": "display_data"
    }
   ],
   "source": [
    "data.InsuranceAmount.hist()"
   ]
  },
  {
   "cell_type": "code",
   "execution_count": 59,
   "metadata": {},
   "outputs": [
    {
     "data": {
      "text/html": [
       "<div>\n",
       "<style scoped>\n",
       "    .dataframe tbody tr th:only-of-type {\n",
       "        vertical-align: middle;\n",
       "    }\n",
       "\n",
       "    .dataframe tbody tr th {\n",
       "        vertical-align: top;\n",
       "    }\n",
       "\n",
       "    .dataframe thead th {\n",
       "        text-align: right;\n",
       "    }\n",
       "</style>\n",
       "<table border=\"1\" class=\"dataframe\">\n",
       "  <thead>\n",
       "    <tr style=\"text-align: right;\">\n",
       "      <th></th>\n",
       "      <th>absolute_corr</th>\n",
       "    </tr>\n",
       "  </thead>\n",
       "  <tbody>\n",
       "    <tr>\n",
       "      <th>InsuranceRate</th>\n",
       "      <td>0.783692</td>\n",
       "    </tr>\n",
       "    <tr>\n",
       "      <th>EstablishedSinceMonths</th>\n",
       "      <td>0.297829</td>\n",
       "    </tr>\n",
       "    <tr>\n",
       "      <th>CurrentAddressSinceMonths</th>\n",
       "      <td>0.280739</td>\n",
       "    </tr>\n",
       "    <tr>\n",
       "      <th>loantype</th>\n",
       "      <td>0.264318</td>\n",
       "    </tr>\n",
       "    <tr>\n",
       "      <th>LoanAmount</th>\n",
       "      <td>0.252587</td>\n",
       "    </tr>\n",
       "    <tr>\n",
       "      <th>applicationnumber</th>\n",
       "      <td>0.245549</td>\n",
       "    </tr>\n",
       "    <tr>\n",
       "      <th>ResidenceType</th>\n",
       "      <td>0.242996</td>\n",
       "    </tr>\n",
       "    <tr>\n",
       "      <th>DocumentCharge</th>\n",
       "      <td>0.213884</td>\n",
       "    </tr>\n",
       "    <tr>\n",
       "      <th>InterestRate</th>\n",
       "      <td>0.209077</td>\n",
       "    </tr>\n",
       "    <tr>\n",
       "      <th>EMI</th>\n",
       "      <td>0.182583</td>\n",
       "    </tr>\n",
       "    <tr>\n",
       "      <th>NoOfDependents</th>\n",
       "      <td>0.143203</td>\n",
       "    </tr>\n",
       "    <tr>\n",
       "      <th>RentAmount</th>\n",
       "      <td>0.086870</td>\n",
       "    </tr>\n",
       "    <tr>\n",
       "      <th>30 DPDs Instance</th>\n",
       "      <td>0.052505</td>\n",
       "    </tr>\n",
       "    <tr>\n",
       "      <th>OtherLoanBank</th>\n",
       "      <td>0.024901</td>\n",
       "    </tr>\n",
       "    <tr>\n",
       "      <th>DPD30</th>\n",
       "      <td>0.011940</td>\n",
       "    </tr>\n",
       "    <tr>\n",
       "      <th>AccomodationType</th>\n",
       "      <td>0.006130</td>\n",
       "    </tr>\n",
       "    <tr>\n",
       "      <th>NetBusinessIncome</th>\n",
       "      <td>0.002503</td>\n",
       "    </tr>\n",
       "    <tr>\n",
       "      <th>NetDisposableIncome</th>\n",
       "      <td>0.000602</td>\n",
       "    </tr>\n",
       "  </tbody>\n",
       "</table>\n",
       "</div>"
      ],
      "text/plain": [
       "                           absolute_corr\n",
       "InsuranceRate                   0.783692\n",
       "EstablishedSinceMonths          0.297829\n",
       "CurrentAddressSinceMonths       0.280739\n",
       "loantype                        0.264318\n",
       "LoanAmount                      0.252587\n",
       "applicationnumber               0.245549\n",
       "ResidenceType                   0.242996\n",
       "DocumentCharge                  0.213884\n",
       "InterestRate                    0.209077\n",
       "EMI                             0.182583\n",
       "NoOfDependents                  0.143203\n",
       "RentAmount                      0.086870\n",
       "30 DPDs Instance                0.052505\n",
       "OtherLoanBank                   0.024901\n",
       "DPD30                           0.011940\n",
       "AccomodationType                0.006130\n",
       "NetBusinessIncome               0.002503\n",
       "NetDisposableIncome             0.000602"
      ]
     },
     "execution_count": 59,
     "metadata": {},
     "output_type": "execute_result"
    }
   ],
   "source": [
    "d = {}\n",
    "for i in data.drop('InsuranceAmount', axis=1).columns:\n",
    "    if data[i].dtype == \"float64\" or data[i].dtype == \"int64\":\n",
    "        try:\n",
    "            d[i] = data.InsuranceAmount.corr(data[i])\n",
    "        except:\n",
    "            pass\n",
    "\n",
    "\n",
    "cor_df = pd.DataFrame(pd.Series(d).abs(), columns=['absolute_corr'])\n",
    "cor_df.sort_values(by=['absolute_corr'],ascending=False)"
   ]
  },
  {
   "cell_type": "markdown",
   "metadata": {},
   "source": [
    "# MariatlStatus"
   ]
  },
  {
   "cell_type": "code",
   "execution_count": 60,
   "metadata": {},
   "outputs": [
    {
     "data": {
      "text/plain": [
       "0"
      ]
     },
     "execution_count": 60,
     "metadata": {},
     "output_type": "execute_result"
    }
   ],
   "source": [
    "data.MariatlStatus.isna().sum()"
   ]
  },
  {
   "cell_type": "code",
   "execution_count": 61,
   "metadata": {},
   "outputs": [
    {
     "data": {
      "text/plain": [
       "count     336291\n",
       "unique         4\n",
       "top       Single\n",
       "freq      175468\n",
       "Name: MariatlStatus, dtype: object"
      ]
     },
     "execution_count": 61,
     "metadata": {},
     "output_type": "execute_result"
    }
   ],
   "source": [
    "data.MariatlStatus.describe()"
   ]
  },
  {
   "cell_type": "code",
   "execution_count": 62,
   "metadata": {},
   "outputs": [
    {
     "data": {
      "text/plain": [
       "Single      0.521774\n",
       "Married     0.475930\n",
       "Widow       0.001734\n",
       "Widow-er    0.000562\n",
       "Name: MariatlStatus, dtype: float64"
      ]
     },
     "execution_count": 62,
     "metadata": {},
     "output_type": "execute_result"
    }
   ],
   "source": [
    "data.MariatlStatus.value_counts() / len(data)"
   ]
  },
  {
   "cell_type": "code",
   "execution_count": 63,
   "metadata": {},
   "outputs": [
    {
     "data": {
      "text/plain": [
       "([0, 1, 2, 3], <a list of 4 Text xticklabel objects>)"
      ]
     },
     "execution_count": 63,
     "metadata": {},
     "output_type": "execute_result"
    },
    {
     "data": {
      "image/png": "[encoded data removed]",
      "text/plain": [
       "<Figure size 432x288 with 1 Axes>"
      ]
     },
     "metadata": {
      "needs_background": "light"
     },
     "output_type": "display_data"
    }
   ],
   "source": [
    "d = pd.DataFrame(data.MariatlStatus.value_counts())\n",
    "plt.bar(d.index, d.MariatlStatus)\n",
    "plt.xticks(rotation=45)"
   ]
  },
  {
   "cell_type": "markdown",
   "metadata": {},
   "source": [
    "# AccomodationType"
   ]
  },
  {
   "cell_type": "code",
   "execution_count": 64,
   "metadata": {},
   "outputs": [
    {
     "data": {
      "text/plain": [
       "0.23896565771905878"
      ]
     },
     "execution_count": 64,
     "metadata": {},
     "output_type": "execute_result"
    }
   ],
   "source": [
    "data.AccomodationType.isna().sum() / len(data)"
   ]
  },
  {
   "cell_type": "code",
   "execution_count": 65,
   "metadata": {},
   "outputs": [
    {
     "data": {
      "text/plain": [
       "0.0    0.999652\n",
       "1.0    0.000223\n",
       "2.0    0.000055\n",
       "5.0    0.000039\n",
       "3.0    0.000023\n",
       "4.0    0.000008\n",
       "Name: AccomodationType, dtype: float64"
      ]
     },
     "execution_count": 65,
     "metadata": {},
     "output_type": "execute_result"
    }
   ],
   "source": [
    "# hmmm.. there is lot of missing data\n",
    "data.AccomodationType.value_counts() / data.AccomodationType.value_counts().sum()"
   ]
  },
  {
   "cell_type": "code",
   "execution_count": 66,
   "metadata": {},
   "outputs": [],
   "source": [
    "# there is 23% data is missing, and from remaining 73% there is 99.96% data is 0, what can i do? ;p"
   ]
  },
  {
   "cell_type": "code",
   "execution_count": 67,
   "metadata": {},
   "outputs": [
    {
     "data": {
      "text/plain": [
       "<matplotlib.axes._subplots.AxesSubplot at 0x7f3ad89d20f0>"
      ]
     },
     "execution_count": 67,
     "metadata": {},
     "output_type": "execute_result"
    },
    {
     "data": {
      "image/png": "[encoded data removed]",
      "text/plain": [
       "<Figure size 432x288 with 1 Axes>"
      ]
     },
     "metadata": {
      "needs_background": "light"
     },
     "output_type": "display_data"
    }
   ],
   "source": [
    "data.AccomodationType.hist()"
   ]
  },
  {
   "cell_type": "code",
   "execution_count": 68,
   "metadata": {},
   "outputs": [],
   "source": [
    "# we should drop this variable, since there is no variance.\n",
    "data = data.drop(\"AccomodationType\", axis=1)"
   ]
  },
  {
   "cell_type": "markdown",
   "metadata": {},
   "source": [
    "# BussinessLegalStatus"
   ]
  },
  {
   "cell_type": "code",
   "execution_count": 69,
   "metadata": {},
   "outputs": [
    {
     "data": {
      "text/plain": [
       "0.5325358097599995"
      ]
     },
     "execution_count": 69,
     "metadata": {},
     "output_type": "execute_result"
    }
   ],
   "source": [
    "data.BussinessLegalStatus.isna().sum() / len(data)"
   ]
  },
  {
   "cell_type": "code",
   "execution_count": 70,
   "metadata": {},
   "outputs": [
    {
     "data": {
      "text/plain": [
       "Sole Proprietor     0.941783\n",
       "Others              0.058084\n",
       "OWNER               0.000045\n",
       "Partnership         0.000032\n",
       "PARTNERSHIP         0.000013\n",
       "SOLE PROPRITOR      0.000013\n",
       "KAT                 0.000006\n",
       "Xole Proprietor     0.000006\n",
       "SOLE TRADER SHIP    0.000006\n",
       "BUSINESS            0.000006\n",
       "SERVICES            0.000006\n",
       "Name: BussinessLegalStatus, dtype: float64"
      ]
     },
     "execution_count": 70,
     "metadata": {},
     "output_type": "execute_result"
    }
   ],
   "source": [
    "# 53% data is missing, now we describe it\n",
    "data.BussinessLegalStatus.value_counts() / data.BussinessLegalStatus.value_counts().sum()"
   ]
  },
  {
   "cell_type": "code",
   "execution_count": 71,
   "metadata": {},
   "outputs": [
    {
     "name": "stderr",
     "output_type": "stream",
     "text": [
      "/usr/local/lib/python3.6/dist-packages/ipykernel_launcher.py:2: SettingWithCopyWarning: \n",
      "A value is trying to be set on a copy of a slice from a DataFrame\n",
      "\n",
      "See the caveats in the documentation: http://pandas.pydata.org/pandas-docs/stable/indexing.html#indexing-view-versus-copy\n",
      "  \n",
      "/usr/local/lib/python3.6/dist-packages/ipykernel_launcher.py:3: SettingWithCopyWarning: \n",
      "A value is trying to be set on a copy of a slice from a DataFrame\n",
      "\n",
      "See the caveats in the documentation: http://pandas.pydata.org/pandas-docs/stable/indexing.html#indexing-view-versus-copy\n",
      "  This is separate from the ipykernel package so we can avoid doing imports until\n",
      "/usr/local/lib/python3.6/dist-packages/ipykernel_launcher.py:9: SettingWithCopyWarning: \n",
      "A value is trying to be set on a copy of a slice from a DataFrame\n",
      "\n",
      "See the caveats in the documentation: http://pandas.pydata.org/pandas-docs/stable/indexing.html#indexing-view-versus-copy\n",
      "  if __name__ == '__main__':\n"
     ]
    }
   ],
   "source": [
    "data.BussinessLegalStatus = data.BussinessLegalStatus.str.lower()\n",
    "data.BussinessLegalStatus[data.BussinessLegalStatus == \"sole propritor\"] = \"sole proprietor\"\n",
    "data.BussinessLegalStatus[data.BussinessLegalStatus == \"xole proprietor\"] = \"sole proprietor\"\n",
    "data.BussinessLegalStatus[(data.BussinessLegalStatus == 'partnership') | \n",
    "                          (data.BussinessLegalStatus == 'business')| \n",
    "                          (data.BussinessLegalStatus == 'owner')| \n",
    "                          (data.BussinessLegalStatus == 'sole trader ship')| \n",
    "                          (data.BussinessLegalStatus == 'services')| \n",
    "                          (data.BussinessLegalStatus == 'kat')] = \"others\""
   ]
  },
  {
   "cell_type": "code",
   "execution_count": 72,
   "metadata": {},
   "outputs": [
    {
     "data": {
      "text/plain": [
       "sole proprietor    0.941802\n",
       "others             0.058198\n",
       "Name: BussinessLegalStatus, dtype: float64"
      ]
     },
     "execution_count": 72,
     "metadata": {},
     "output_type": "execute_result"
    }
   ],
   "source": [
    "data.BussinessLegalStatus.value_counts() / data.BussinessLegalStatus.value_counts().sum()"
   ]
  },
  {
   "cell_type": "code",
   "execution_count": 73,
   "metadata": {},
   "outputs": [
    {
     "data": {
      "text/plain": [
       "<BarContainer object of 2 artists>"
      ]
     },
     "execution_count": 73,
     "metadata": {},
     "output_type": "execute_result"
    },
    {
     "data": {
      "image/png": "[encoded data removed]",
      "text/plain": [
       "<Figure size 432x288 with 1 Axes>"
      ]
     },
     "metadata": {
      "needs_background": "light"
     },
     "output_type": "display_data"
    }
   ],
   "source": [
    "d = pd.DataFrame(data.BussinessLegalStatus.value_counts())\n",
    "plt.bar(d.index, d.BussinessLegalStatus)"
   ]
  },
  {
   "cell_type": "code",
   "execution_count": 74,
   "metadata": {
    "scrolled": true
   },
   "outputs": [
    {
     "name": "stderr",
     "output_type": "stream",
     "text": [
      "/usr/local/lib/python3.6/dist-packages/ipykernel_launcher.py:1: SettingWithCopyWarning: \n",
      "A value is trying to be set on a copy of a slice from a DataFrame\n",
      "\n",
      "See the caveats in the documentation: http://pandas.pydata.org/pandas-docs/stable/indexing.html#indexing-view-versus-copy\n",
      "  \"\"\"Entry point for launching an IPython kernel.\n"
     ]
    },
    {
     "data": {
      "text/plain": [
       "NA                 0.532536\n",
       "sole proprietor    0.440259\n",
       "others             0.027206\n",
       "Name: BussinessLegalStatus, dtype: float64"
      ]
     },
     "execution_count": 74,
     "metadata": {},
     "output_type": "execute_result"
    }
   ],
   "source": [
    "data.BussinessLegalStatus[data.BussinessLegalStatus.isna()] = \"NA\"\n",
    "data.BussinessLegalStatus.value_counts() / len(data)"
   ]
  },
  {
   "cell_type": "markdown",
   "metadata": {},
   "source": [
    "# ResidenceType"
   ]
  },
  {
   "cell_type": "code",
   "execution_count": 75,
   "metadata": {
    "scrolled": false
   },
   "outputs": [
    {
     "data": {
      "text/plain": [
       "0.23896565771905878"
      ]
     },
     "execution_count": 75,
     "metadata": {},
     "output_type": "execute_result"
    }
   ],
   "source": [
    "data.ResidenceType.isna().sum() / len(data)"
   ]
  },
  {
   "cell_type": "code",
   "execution_count": 76,
   "metadata": {},
   "outputs": [
    {
     "data": {
      "text/plain": [
       "0.0    0.715671\n",
       "2.0    0.241841\n",
       "1.0    0.040324\n",
       "5.0    0.001203\n",
       "3.0    0.000899\n",
       "4.0    0.000063\n",
       "Name: ResidenceType, dtype: float64"
      ]
     },
     "execution_count": 76,
     "metadata": {},
     "output_type": "execute_result"
    }
   ],
   "source": [
    "# 24% of data is missing\n",
    "data.ResidenceType.value_counts() / data.ResidenceType.value_counts().sum()"
   ]
  },
  {
   "cell_type": "code",
   "execution_count": 77,
   "metadata": {},
   "outputs": [
    {
     "name": "stderr",
     "output_type": "stream",
     "text": [
      "/usr/local/lib/python3.6/dist-packages/ipykernel_launcher.py:1: SettingWithCopyWarning: \n",
      "A value is trying to be set on a copy of a slice from a DataFrame\n",
      "\n",
      "See the caveats in the documentation: http://pandas.pydata.org/pandas-docs/stable/indexing.html#indexing-view-versus-copy\n",
      "  \"\"\"Entry point for launching an IPython kernel.\n"
     ]
    },
    {
     "data": {
      "text/plain": [
       "([0, 1], <a list of 2 Text xticklabel objects>)"
      ]
     },
     "execution_count": 77,
     "metadata": {},
     "output_type": "execute_result"
    },
    {
     "data": {
      "image/png": "[encoded data removed]",
      "text/plain": [
       "<Figure size 432x288 with 1 Axes>"
      ]
     },
     "metadata": {
      "needs_background": "light"
     },
     "output_type": "display_data"
    }
   ],
   "source": [
    "data.ResidenceType[data.ResidenceType.isna()] = \"NA\"\n",
    "data.ResidenceType.value_counts() / len(data)\n",
    "plt.bar(d.index, d[d.columns[0]])\n",
    "plt.xticks(rotation = 45)"
   ]
  },
  {
   "cell_type": "markdown",
   "metadata": {},
   "source": [
    "# RentAmount"
   ]
  },
  {
   "cell_type": "code",
   "execution_count": 78,
   "metadata": {},
   "outputs": [
    {
     "data": {
      "text/plain": [
       "0"
      ]
     },
     "execution_count": 78,
     "metadata": {},
     "output_type": "execute_result"
    }
   ],
   "source": [
    "data.RentAmount.isna().sum()"
   ]
  },
  {
   "cell_type": "code",
   "execution_count": 79,
   "metadata": {},
   "outputs": [
    {
     "data": {
      "text/plain": [
       "count    336291.000000\n",
       "mean        144.000015\n",
       "std        1084.988162\n",
       "min           0.000000\n",
       "25%           0.000000\n",
       "50%           0.000000\n",
       "75%           0.000000\n",
       "max      120000.000000\n",
       "Name: RentAmount, dtype: float64"
      ]
     },
     "execution_count": 79,
     "metadata": {},
     "output_type": "execute_result"
    }
   ],
   "source": [
    "data.RentAmount.describe()"
   ]
  },
  {
   "cell_type": "code",
   "execution_count": 80,
   "metadata": {},
   "outputs": [
    {
     "data": {
      "text/plain": [
       "<matplotlib.axes._subplots.AxesSubplot at 0x7f3ad74950b8>"
      ]
     },
     "execution_count": 80,
     "metadata": {},
     "output_type": "execute_result"
    },
    {
     "data": {
      "image/png": "[encoded data removed]",
      "text/plain": [
       "<Figure size 432x288 with 1 Axes>"
      ]
     },
     "metadata": {
      "needs_background": "light"
     },
     "output_type": "display_data"
    }
   ],
   "source": [
    "data.RentAmount.hist()"
   ]
  },
  {
   "cell_type": "code",
   "execution_count": 81,
   "metadata": {},
   "outputs": [
    {
     "data": {
      "text/plain": [
       "0.9684945478766901"
      ]
     },
     "execution_count": 81,
     "metadata": {},
     "output_type": "execute_result"
    }
   ],
   "source": [
    "sum(data.RentAmount == 0) / len(data)"
   ]
  },
  {
   "cell_type": "code",
   "execution_count": 82,
   "metadata": {},
   "outputs": [
    {
     "data": {
      "text/html": [
       "<div>\n",
       "<style scoped>\n",
       "    .dataframe tbody tr th:only-of-type {\n",
       "        vertical-align: middle;\n",
       "    }\n",
       "\n",
       "    .dataframe tbody tr th {\n",
       "        vertical-align: top;\n",
       "    }\n",
       "\n",
       "    .dataframe thead th {\n",
       "        text-align: right;\n",
       "    }\n",
       "</style>\n",
       "<table border=\"1\" class=\"dataframe\">\n",
       "  <thead>\n",
       "    <tr style=\"text-align: right;\">\n",
       "      <th></th>\n",
       "      <th>absolute_corr</th>\n",
       "    </tr>\n",
       "  </thead>\n",
       "  <tbody>\n",
       "    <tr>\n",
       "      <th>InsuranceRate</th>\n",
       "      <td>0.103677</td>\n",
       "    </tr>\n",
       "    <tr>\n",
       "      <th>CurrentAddressSinceMonths</th>\n",
       "      <td>0.102771</td>\n",
       "    </tr>\n",
       "    <tr>\n",
       "      <th>InsuranceAmount</th>\n",
       "      <td>0.086870</td>\n",
       "    </tr>\n",
       "    <tr>\n",
       "      <th>loantype</th>\n",
       "      <td>0.054867</td>\n",
       "    </tr>\n",
       "    <tr>\n",
       "      <th>30 DPDs Instance</th>\n",
       "      <td>0.041035</td>\n",
       "    </tr>\n",
       "    <tr>\n",
       "      <th>applicationnumber</th>\n",
       "      <td>0.032935</td>\n",
       "    </tr>\n",
       "    <tr>\n",
       "      <th>DPD30</th>\n",
       "      <td>0.028688</td>\n",
       "    </tr>\n",
       "    <tr>\n",
       "      <th>DocumentCharge</th>\n",
       "      <td>0.023211</td>\n",
       "    </tr>\n",
       "    <tr>\n",
       "      <th>EstablishedSinceMonths</th>\n",
       "      <td>0.015554</td>\n",
       "    </tr>\n",
       "    <tr>\n",
       "      <th>EMI</th>\n",
       "      <td>0.004273</td>\n",
       "    </tr>\n",
       "    <tr>\n",
       "      <th>InterestRate</th>\n",
       "      <td>0.003736</td>\n",
       "    </tr>\n",
       "    <tr>\n",
       "      <th>NoOfDependents</th>\n",
       "      <td>0.003490</td>\n",
       "    </tr>\n",
       "    <tr>\n",
       "      <th>OtherLoanBank</th>\n",
       "      <td>0.003170</td>\n",
       "    </tr>\n",
       "    <tr>\n",
       "      <th>LoanAmount</th>\n",
       "      <td>0.000923</td>\n",
       "    </tr>\n",
       "    <tr>\n",
       "      <th>NetBusinessIncome</th>\n",
       "      <td>0.000313</td>\n",
       "    </tr>\n",
       "    <tr>\n",
       "      <th>NetDisposableIncome</th>\n",
       "      <td>0.000127</td>\n",
       "    </tr>\n",
       "  </tbody>\n",
       "</table>\n",
       "</div>"
      ],
      "text/plain": [
       "                           absolute_corr\n",
       "InsuranceRate                   0.103677\n",
       "CurrentAddressSinceMonths       0.102771\n",
       "InsuranceAmount                 0.086870\n",
       "loantype                        0.054867\n",
       "30 DPDs Instance                0.041035\n",
       "applicationnumber               0.032935\n",
       "DPD30                           0.028688\n",
       "DocumentCharge                  0.023211\n",
       "EstablishedSinceMonths          0.015554\n",
       "EMI                             0.004273\n",
       "InterestRate                    0.003736\n",
       "NoOfDependents                  0.003490\n",
       "OtherLoanBank                   0.003170\n",
       "LoanAmount                      0.000923\n",
       "NetBusinessIncome               0.000313\n",
       "NetDisposableIncome             0.000127"
      ]
     },
     "execution_count": 82,
     "metadata": {},
     "output_type": "execute_result"
    }
   ],
   "source": [
    "d = {}\n",
    "for i in data.drop('RentAmount', axis=1).columns:\n",
    "    if data[i].dtype == \"float64\" or data[i].dtype == \"int64\":\n",
    "        try:\n",
    "            d[i] = data.RentAmount.corr(data[i])\n",
    "        except:\n",
    "            pass\n",
    "\n",
    "\n",
    "cor_df = pd.DataFrame(pd.Series(d).abs(), columns=['absolute_corr'])\n",
    "cor_df.sort_values(by=['absolute_corr'],ascending=False)"
   ]
  },
  {
   "cell_type": "code",
   "execution_count": 83,
   "metadata": {},
   "outputs": [],
   "source": [
    "# hmmm... 97% of data is 0, we have to drop this variable\n",
    "data = data.drop('RentAmount', axis=1)"
   ]
  },
  {
   "cell_type": "markdown",
   "metadata": {},
   "source": [
    "# MailThrough"
   ]
  },
  {
   "cell_type": "code",
   "execution_count": 84,
   "metadata": {
    "scrolled": true
   },
   "outputs": [
    {
     "data": {
      "text/plain": [
       "0"
      ]
     },
     "execution_count": 84,
     "metadata": {},
     "output_type": "execute_result"
    }
   ],
   "source": [
    "data.MailThrough.isna().sum()"
   ]
  },
  {
   "cell_type": "code",
   "execution_count": 85,
   "metadata": {},
   "outputs": [
    {
     "data": {
      "text/plain": [
       "HomeAddress        0.945036\n",
       "BusinessAddress    0.054964\n",
       "Name: MailThrough, dtype: float64"
      ]
     },
     "execution_count": 85,
     "metadata": {},
     "output_type": "execute_result"
    }
   ],
   "source": [
    "data.MailThrough.value_counts() / len(data)"
   ]
  },
  {
   "cell_type": "code",
   "execution_count": 86,
   "metadata": {},
   "outputs": [
    {
     "data": {
      "text/plain": [
       "<BarContainer object of 2 artists>"
      ]
     },
     "execution_count": 86,
     "metadata": {},
     "output_type": "execute_result"
    },
    {
     "data": {
      "image/png": "[encoded data removed]",
      "text/plain": [
       "<Figure size 432x288 with 1 Axes>"
      ]
     },
     "metadata": {
      "needs_background": "light"
     },
     "output_type": "display_data"
    }
   ],
   "source": [
    "d = pd.DataFrame(data.MailThrough.value_counts())\n",
    "plt.bar(d.index, d.MailThrough)"
   ]
  },
  {
   "cell_type": "markdown",
   "metadata": {},
   "source": [
    "# OtherLoanBank"
   ]
  },
  {
   "cell_type": "code",
   "execution_count": 87,
   "metadata": {},
   "outputs": [
    {
     "data": {
      "text/plain": [
       "0"
      ]
     },
     "execution_count": 87,
     "metadata": {},
     "output_type": "execute_result"
    }
   ],
   "source": [
    "data.OtherLoanBank.isna().sum()"
   ]
  },
  {
   "cell_type": "code",
   "execution_count": 88,
   "metadata": {},
   "outputs": [
    {
     "data": {
      "text/plain": [
       "2852"
      ]
     },
     "execution_count": 88,
     "metadata": {},
     "output_type": "execute_result"
    }
   ],
   "source": [
    "data.OtherLoanBank.value_counts() / len(data)\n",
    "data.OtherLoanBank.max()"
   ]
  },
  {
   "cell_type": "code",
   "execution_count": 89,
   "metadata": {},
   "outputs": [
    {
     "data": {
      "text/plain": [
       "<matplotlib.axes._subplots.AxesSubplot at 0x7f3ad8af3cf8>"
      ]
     },
     "execution_count": 89,
     "metadata": {},
     "output_type": "execute_result"
    },
    {
     "data": {
      "image/png": "[encoded data removed]",
      "text/plain": [
       "<Figure size 432x288 with 1 Axes>"
      ]
     },
     "metadata": {
      "needs_background": "light"
     },
     "output_type": "display_data"
    }
   ],
   "source": [
    "data.OtherLoanBank.hist()"
   ]
  },
  {
   "cell_type": "markdown",
   "metadata": {},
   "source": [
    "# NoOfDependents"
   ]
  },
  {
   "cell_type": "code",
   "execution_count": 90,
   "metadata": {},
   "outputs": [
    {
     "data": {
      "text/plain": [
       "0"
      ]
     },
     "execution_count": 90,
     "metadata": {},
     "output_type": "execute_result"
    }
   ],
   "source": [
    "data.NoOfDependents.isna().sum()"
   ]
  },
  {
   "cell_type": "code",
   "execution_count": 91,
   "metadata": {},
   "outputs": [
    {
     "data": {
      "text/plain": [
       "5     0.262793\n",
       "4     0.187475\n",
       "6     0.177769\n",
       "3     0.096030\n",
       "7     0.083214\n",
       "0     0.072393\n",
       "8     0.043388\n",
       "2     0.039210\n",
       "9     0.017072\n",
       "10    0.008558\n",
       "1     0.005915\n",
       "11    0.002563\n",
       "12    0.001380\n",
       "13    0.000517\n",
       "14    0.000253\n",
       "51    0.000211\n",
       "15    0.000155\n",
       "61    0.000119\n",
       "20    0.000113\n",
       "41    0.000101\n",
       "16    0.000062\n",
       "31    0.000059\n",
       "40    0.000059\n",
       "21    0.000051\n",
       "17    0.000048\n",
       "72    0.000036\n",
       "60    0.000030\n",
       "53    0.000027\n",
       "71    0.000027\n",
       "36    0.000021\n",
       "        ...   \n",
       "50    0.000012\n",
       "80    0.000012\n",
       "81    0.000012\n",
       "70    0.000009\n",
       "32    0.000009\n",
       "84    0.000009\n",
       "92    0.000009\n",
       "76    0.000009\n",
       "23    0.000006\n",
       "34    0.000006\n",
       "65    0.000006\n",
       "19    0.000006\n",
       "35    0.000006\n",
       "62    0.000006\n",
       "43    0.000006\n",
       "91    0.000006\n",
       "45    0.000006\n",
       "93    0.000006\n",
       "82    0.000003\n",
       "77    0.000003\n",
       "56    0.000003\n",
       "74    0.000003\n",
       "29    0.000003\n",
       "63    0.000003\n",
       "37    0.000003\n",
       "96    0.000003\n",
       "44    0.000003\n",
       "47    0.000003\n",
       "52    0.000003\n",
       "97    0.000003\n",
       "Name: NoOfDependents, Length: 72, dtype: float64"
      ]
     },
     "execution_count": 91,
     "metadata": {},
     "output_type": "execute_result"
    }
   ],
   "source": [
    "data.NoOfDependents.value_counts() / len(data)"
   ]
  },
  {
   "cell_type": "code",
   "execution_count": 92,
   "metadata": {},
   "outputs": [
    {
     "data": {
      "text/plain": [
       "<matplotlib.axes._subplots.AxesSubplot at 0x7f3ad73c6048>"
      ]
     },
     "execution_count": 92,
     "metadata": {},
     "output_type": "execute_result"
    },
    {
     "data": {
      "image/png": "[encoded data removed]",
      "text/plain": [
       "<Figure size 432x288 with 1 Axes>"
      ]
     },
     "metadata": {
      "needs_background": "light"
     },
     "output_type": "display_data"
    }
   ],
   "source": [
    "data.NoOfDependents.hist()"
   ]
  },
  {
   "cell_type": "code",
   "execution_count": 93,
   "metadata": {},
   "outputs": [
    {
     "data": {
      "text/plain": [
       "97"
      ]
     },
     "execution_count": 93,
     "metadata": {},
     "output_type": "execute_result"
    }
   ],
   "source": [
    "data.NoOfDependents.max()"
   ]
  },
  {
   "cell_type": "markdown",
   "metadata": {},
   "source": [
    "# ?????????????????????????? ye kya h ?"
   ]
  },
  {
   "cell_type": "code",
   "execution_count": 94,
   "metadata": {
    "scrolled": true
   },
   "outputs": [
    {
     "data": {
      "text/plain": [
       "0.03181470809507242"
      ]
     },
     "execution_count": 94,
     "metadata": {},
     "output_type": "execute_result"
    }
   ],
   "source": [
    "sum(data.NoOfDependents > 8) / len(data)"
   ]
  },
  {
   "cell_type": "code",
   "execution_count": 95,
   "metadata": {},
   "outputs": [
    {
     "name": "stderr",
     "output_type": "stream",
     "text": [
      "/usr/local/lib/python3.6/dist-packages/ipykernel_launcher.py:2: SettingWithCopyWarning: \n",
      "A value is trying to be set on a copy of a slice from a DataFrame\n",
      "\n",
      "See the caveats in the documentation: http://pandas.pydata.org/pandas-docs/stable/indexing.html#indexing-view-versus-copy\n",
      "  \n"
     ]
    },
    {
     "data": {
      "text/plain": [
       "array([7, 5, 6, 2, 3, 4, 0, 8, 1])"
      ]
     },
     "execution_count": 95,
     "metadata": {},
     "output_type": "execute_result"
    }
   ],
   "source": [
    "# 3.2% of the data is above 8, all that above 8 we replace it with 8\n",
    "data.NoOfDependents[data.NoOfDependents > 8] = 8\n",
    "data.NoOfDependents.unique()"
   ]
  },
  {
   "cell_type": "code",
   "execution_count": 96,
   "metadata": {},
   "outputs": [
    {
     "data": {
      "text/plain": [
       "<matplotlib.axes._subplots.AxesSubplot at 0x7f3adae47828>"
      ]
     },
     "execution_count": 96,
     "metadata": {},
     "output_type": "execute_result"
    },
    {
     "data": {
      "image/png": "[encoded data removed]",
      "text/plain": [
       "<Figure size 432x288 with 1 Axes>"
      ]
     },
     "metadata": {
      "needs_background": "light"
     },
     "output_type": "display_data"
    }
   ],
   "source": [
    "data.NoOfDependents.hist()"
   ]
  },
  {
   "cell_type": "code",
   "execution_count": 97,
   "metadata": {},
   "outputs": [
    {
     "data": {
      "text/html": [
       "<div>\n",
       "<style scoped>\n",
       "    .dataframe tbody tr th:only-of-type {\n",
       "        vertical-align: middle;\n",
       "    }\n",
       "\n",
       "    .dataframe tbody tr th {\n",
       "        vertical-align: top;\n",
       "    }\n",
       "\n",
       "    .dataframe thead th {\n",
       "        text-align: right;\n",
       "    }\n",
       "</style>\n",
       "<table border=\"1\" class=\"dataframe\">\n",
       "  <thead>\n",
       "    <tr style=\"text-align: right;\">\n",
       "      <th></th>\n",
       "      <th>absolute_corr</th>\n",
       "    </tr>\n",
       "  </thead>\n",
       "  <tbody>\n",
       "    <tr>\n",
       "      <th>InsuranceRate</th>\n",
       "      <td>0.194889</td>\n",
       "    </tr>\n",
       "    <tr>\n",
       "      <th>InsuranceAmount</th>\n",
       "      <td>0.174111</td>\n",
       "    </tr>\n",
       "    <tr>\n",
       "      <th>CurrentAddressSinceMonths</th>\n",
       "      <td>0.125782</td>\n",
       "    </tr>\n",
       "    <tr>\n",
       "      <th>EstablishedSinceMonths</th>\n",
       "      <td>0.088198</td>\n",
       "    </tr>\n",
       "    <tr>\n",
       "      <th>applicationnumber</th>\n",
       "      <td>0.075717</td>\n",
       "    </tr>\n",
       "    <tr>\n",
       "      <th>loantype</th>\n",
       "      <td>0.072464</td>\n",
       "    </tr>\n",
       "    <tr>\n",
       "      <th>DocumentCharge</th>\n",
       "      <td>0.048517</td>\n",
       "    </tr>\n",
       "    <tr>\n",
       "      <th>30 DPDs Instance</th>\n",
       "      <td>0.029079</td>\n",
       "    </tr>\n",
       "    <tr>\n",
       "      <th>DPD30</th>\n",
       "      <td>0.027904</td>\n",
       "    </tr>\n",
       "    <tr>\n",
       "      <th>InterestRate</th>\n",
       "      <td>0.024913</td>\n",
       "    </tr>\n",
       "    <tr>\n",
       "      <th>LoanAmount</th>\n",
       "      <td>0.017142</td>\n",
       "    </tr>\n",
       "    <tr>\n",
       "      <th>OtherLoanBank</th>\n",
       "      <td>0.011538</td>\n",
       "    </tr>\n",
       "    <tr>\n",
       "      <th>EMI</th>\n",
       "      <td>0.002707</td>\n",
       "    </tr>\n",
       "    <tr>\n",
       "      <th>NetDisposableIncome</th>\n",
       "      <td>0.000901</td>\n",
       "    </tr>\n",
       "    <tr>\n",
       "      <th>NetBusinessIncome</th>\n",
       "      <td>0.000289</td>\n",
       "    </tr>\n",
       "  </tbody>\n",
       "</table>\n",
       "</div>"
      ],
      "text/plain": [
       "                           absolute_corr\n",
       "InsuranceRate                   0.194889\n",
       "InsuranceAmount                 0.174111\n",
       "CurrentAddressSinceMonths       0.125782\n",
       "EstablishedSinceMonths          0.088198\n",
       "applicationnumber               0.075717\n",
       "loantype                        0.072464\n",
       "DocumentCharge                  0.048517\n",
       "30 DPDs Instance                0.029079\n",
       "DPD30                           0.027904\n",
       "InterestRate                    0.024913\n",
       "LoanAmount                      0.017142\n",
       "OtherLoanBank                   0.011538\n",
       "EMI                             0.002707\n",
       "NetDisposableIncome             0.000901\n",
       "NetBusinessIncome               0.000289"
      ]
     },
     "execution_count": 97,
     "metadata": {},
     "output_type": "execute_result"
    }
   ],
   "source": [
    "d = {}\n",
    "for i in data.drop('NoOfDependents', axis=1).columns:\n",
    "    if data[i].dtype == \"float64\" or data[i].dtype == \"int64\":\n",
    "        try:\n",
    "            d[i] = data.NoOfDependents.corr(data[i])\n",
    "        except:\n",
    "            pass\n",
    "\n",
    "\n",
    "cor_df = pd.DataFrame(pd.Series(d).abs(), columns=['absolute_corr'])\n",
    "cor_df.sort_values(by=['absolute_corr'],ascending=False)"
   ]
  },
  {
   "cell_type": "markdown",
   "metadata": {},
   "source": [
    "# Qualification"
   ]
  },
  {
   "cell_type": "code",
   "execution_count": 98,
   "metadata": {},
   "outputs": [
    {
     "data": {
      "text/plain": [
       "1"
      ]
     },
     "execution_count": 98,
     "metadata": {},
     "output_type": "execute_result"
    }
   ],
   "source": [
    "data.Qualification.isna().sum()"
   ]
  },
  {
   "cell_type": "code",
   "execution_count": 99,
   "metadata": {},
   "outputs": [
    {
     "data": {
      "text/plain": [
       "count     336290\n",
       "unique         7\n",
       "top       Middle\n",
       "freq      144064\n",
       "Name: Qualification, dtype: object"
      ]
     },
     "execution_count": 99,
     "metadata": {},
     "output_type": "execute_result"
    }
   ],
   "source": [
    "data.Qualification.describe()"
   ]
  },
  {
   "cell_type": "code",
   "execution_count": 100,
   "metadata": {},
   "outputs": [
    {
     "data": {
      "text/plain": [
       "Middle           144064\n",
       "Illiterate        96480\n",
       "Matriculation     62710\n",
       "Intermediate      16199\n",
       "Graduate           8233\n",
       "Not Defined        7867\n",
       "Post Graduate       737\n",
       "Name: Qualification, dtype: int64"
      ]
     },
     "execution_count": 100,
     "metadata": {},
     "output_type": "execute_result"
    }
   ],
   "source": [
    "data.Qualification.value_counts()"
   ]
  },
  {
   "cell_type": "code",
   "execution_count": 101,
   "metadata": {},
   "outputs": [
    {
     "data": {
      "text/plain": [
       "([0, 1, 2, 3, 4, 5, 6], <a list of 7 Text xticklabel objects>)"
      ]
     },
     "execution_count": 101,
     "metadata": {},
     "output_type": "execute_result"
    },
    {
     "data": {
      "image/png": "[encoded data removed]",
      "text/plain": [
       "<Figure size 432x288 with 1 Axes>"
      ]
     },
     "metadata": {
      "needs_background": "light"
     },
     "output_type": "display_data"
    }
   ],
   "source": [
    "d = pd.DataFrame(data.Qualification.value_counts())\n",
    "plt.bar(d.index, d.Qualification)\n",
    "plt.xticks(rotation=45)"
   ]
  },
  {
   "cell_type": "markdown",
   "metadata": {},
   "source": [
    "# NetBusinessIncome"
   ]
  },
  {
   "cell_type": "code",
   "execution_count": 102,
   "metadata": {},
   "outputs": [
    {
     "data": {
      "text/plain": [
       "0"
      ]
     },
     "execution_count": 102,
     "metadata": {},
     "output_type": "execute_result"
    }
   ],
   "source": [
    "data.NetBusinessIncome.isna().sum()"
   ]
  },
  {
   "cell_type": "code",
   "execution_count": 103,
   "metadata": {},
   "outputs": [
    {
     "data": {
      "text/plain": [
       "count    3.362910e+05\n",
       "mean     2.848679e+04\n",
       "std      5.044614e+05\n",
       "min     -2.924590e+08\n",
       "25%      2.316150e+04\n",
       "50%      2.977500e+04\n",
       "75%      3.670000e+04\n",
       "max      9.136000e+05\n",
       "Name: NetBusinessIncome, dtype: float64"
      ]
     },
     "execution_count": 103,
     "metadata": {},
     "output_type": "execute_result"
    }
   ],
   "source": [
    "data.NetBusinessIncome.describe()"
   ]
  },
  {
   "cell_type": "code",
   "execution_count": 104,
   "metadata": {},
   "outputs": [
    {
     "data": {
      "text/plain": [
       "<matplotlib.axes._subplots.AxesSubplot at 0x7f3ad72142b0>"
      ]
     },
     "execution_count": 104,
     "metadata": {},
     "output_type": "execute_result"
    },
    {
     "data": {
      "image/png": "[encoded data removed]",
      "text/plain": [
       "<Figure size 432x288 with 1 Axes>"
      ]
     },
     "metadata": {
      "needs_background": "light"
     },
     "output_type": "display_data"
    }
   ],
   "source": [
    "data.NetBusinessIncome.hist()"
   ]
  },
  {
   "cell_type": "code",
   "execution_count": 105,
   "metadata": {},
   "outputs": [
    {
     "name": "stdout",
     "output_type": "stream",
     "text": [
      "Max:\t 913600.0\n",
      "Min:\t -292458950.0\n"
     ]
    }
   ],
   "source": [
    "print(\"Max:\\t\", data.NetBusinessIncome.max())\n",
    "print(\"Min:\\t\", data.NetBusinessIncome.min())"
   ]
  },
  {
   "cell_type": "code",
   "execution_count": 106,
   "metadata": {},
   "outputs": [
    {
     "data": {
      "text/plain": [
       "0.0001071"
      ]
     },
     "execution_count": 106,
     "metadata": {},
     "output_type": "execute_result"
    }
   ],
   "source": [
    "# Min value is not make scence\n",
    "round(sum(data.NetBusinessIncome < 0) / len(data), 7)"
   ]
  },
  {
   "cell_type": "code",
   "execution_count": 107,
   "metadata": {},
   "outputs": [
    {
     "name": "stderr",
     "output_type": "stream",
     "text": [
      "/usr/local/lib/python3.6/dist-packages/ipykernel_launcher.py:1: SettingWithCopyWarning: \n",
      "A value is trying to be set on a copy of a slice from a DataFrame\n",
      "\n",
      "See the caveats in the documentation: http://pandas.pydata.org/pandas-docs/stable/indexing.html#indexing-view-versus-copy\n",
      "  \"\"\"Entry point for launching an IPython kernel.\n"
     ]
    },
    {
     "data": {
      "text/plain": [
       "<matplotlib.axes._subplots.AxesSubplot at 0x7f3ad71d08d0>"
      ]
     },
     "execution_count": 107,
     "metadata": {},
     "output_type": "execute_result"
    },
    {
     "data": {
      "image/png": "[encoded data removed]",
      "text/plain": [
       "<Figure size 432x288 with 1 Axes>"
      ]
     },
     "metadata": {
      "needs_background": "light"
     },
     "output_type": "display_data"
    }
   ],
   "source": [
    "data.NetBusinessIncome[data.NetBusinessIncome < 0 ] = 0\n",
    "data.NetBusinessIncome.hist()"
   ]
  },
  {
   "cell_type": "code",
   "execution_count": 108,
   "metadata": {},
   "outputs": [
    {
     "data": {
      "text/html": [
       "<div>\n",
       "<style scoped>\n",
       "    .dataframe tbody tr th:only-of-type {\n",
       "        vertical-align: middle;\n",
       "    }\n",
       "\n",
       "    .dataframe tbody tr th {\n",
       "        vertical-align: top;\n",
       "    }\n",
       "\n",
       "    .dataframe thead th {\n",
       "        text-align: right;\n",
       "    }\n",
       "</style>\n",
       "<table border=\"1\" class=\"dataframe\">\n",
       "  <thead>\n",
       "    <tr style=\"text-align: right;\">\n",
       "      <th></th>\n",
       "      <th>absolute_corr</th>\n",
       "    </tr>\n",
       "  </thead>\n",
       "  <tbody>\n",
       "    <tr>\n",
       "      <th>LoanAmount</th>\n",
       "      <td>0.491512</td>\n",
       "    </tr>\n",
       "    <tr>\n",
       "      <th>EMI</th>\n",
       "      <td>0.470188</td>\n",
       "    </tr>\n",
       "    <tr>\n",
       "      <th>DocumentCharge</th>\n",
       "      <td>0.410556</td>\n",
       "    </tr>\n",
       "    <tr>\n",
       "      <th>InsuranceRate</th>\n",
       "      <td>0.381437</td>\n",
       "    </tr>\n",
       "    <tr>\n",
       "      <th>InterestRate</th>\n",
       "      <td>0.311871</td>\n",
       "    </tr>\n",
       "    <tr>\n",
       "      <th>applicationnumber</th>\n",
       "      <td>0.228606</td>\n",
       "    </tr>\n",
       "    <tr>\n",
       "      <th>CurrentAddressSinceMonths</th>\n",
       "      <td>0.117670</td>\n",
       "    </tr>\n",
       "    <tr>\n",
       "      <th>EstablishedSinceMonths</th>\n",
       "      <td>0.111858</td>\n",
       "    </tr>\n",
       "    <tr>\n",
       "      <th>loantype</th>\n",
       "      <td>0.106737</td>\n",
       "    </tr>\n",
       "    <tr>\n",
       "      <th>InsuranceAmount</th>\n",
       "      <td>0.065794</td>\n",
       "    </tr>\n",
       "    <tr>\n",
       "      <th>DPD30</th>\n",
       "      <td>0.046516</td>\n",
       "    </tr>\n",
       "    <tr>\n",
       "      <th>30 DPDs Instance</th>\n",
       "      <td>0.043104</td>\n",
       "    </tr>\n",
       "    <tr>\n",
       "      <th>OtherLoanBank</th>\n",
       "      <td>0.009162</td>\n",
       "    </tr>\n",
       "    <tr>\n",
       "      <th>NetDisposableIncome</th>\n",
       "      <td>0.004009</td>\n",
       "    </tr>\n",
       "    <tr>\n",
       "      <th>NoOfDependents</th>\n",
       "      <td>0.000422</td>\n",
       "    </tr>\n",
       "  </tbody>\n",
       "</table>\n",
       "</div>"
      ],
      "text/plain": [
       "                           absolute_corr\n",
       "LoanAmount                      0.491512\n",
       "EMI                             0.470188\n",
       "DocumentCharge                  0.410556\n",
       "InsuranceRate                   0.381437\n",
       "InterestRate                    0.311871\n",
       "applicationnumber               0.228606\n",
       "CurrentAddressSinceMonths       0.117670\n",
       "EstablishedSinceMonths          0.111858\n",
       "loantype                        0.106737\n",
       "InsuranceAmount                 0.065794\n",
       "DPD30                           0.046516\n",
       "30 DPDs Instance                0.043104\n",
       "OtherLoanBank                   0.009162\n",
       "NetDisposableIncome             0.004009\n",
       "NoOfDependents                  0.000422"
      ]
     },
     "execution_count": 108,
     "metadata": {},
     "output_type": "execute_result"
    }
   ],
   "source": [
    "d = {}\n",
    "for i in data.drop('NetBusinessIncome', axis=1).columns:\n",
    "    if data[i].dtype == \"float64\" or data[i].dtype == \"int64\":\n",
    "        try:\n",
    "            d[i] = data.NetBusinessIncome.corr(data[i])\n",
    "        except:\n",
    "            pass\n",
    "\n",
    "\n",
    "cor_df = pd.DataFrame(pd.Series(d).abs(), columns=['absolute_corr'])\n",
    "cor_df.sort_values(by=['absolute_corr'],ascending=False)"
   ]
  },
  {
   "cell_type": "markdown",
   "metadata": {},
   "source": [
    "# NetDisposableIncome"
   ]
  },
  {
   "cell_type": "code",
   "execution_count": 109,
   "metadata": {},
   "outputs": [
    {
     "data": {
      "text/plain": [
       "0"
      ]
     },
     "execution_count": 109,
     "metadata": {},
     "output_type": "execute_result"
    }
   ],
   "source": [
    "data.NetDisposableIncome.isna().sum()"
   ]
  },
  {
   "cell_type": "code",
   "execution_count": 110,
   "metadata": {},
   "outputs": [
    {
     "data": {
      "text/plain": [
       "count    3.362910e+05\n",
       "mean     9.605231e+03\n",
       "std      2.230554e+06\n",
       "min     -1.259980e+09\n",
       "25%      0.000000e+00\n",
       "50%      1.595000e+04\n",
       "75%      2.225000e+04\n",
       "max      8.892000e+05\n",
       "Name: NetDisposableIncome, dtype: float64"
      ]
     },
     "execution_count": 110,
     "metadata": {},
     "output_type": "execute_result"
    }
   ],
   "source": [
    "data.NetDisposableIncome.describe()"
   ]
  },
  {
   "cell_type": "code",
   "execution_count": 111,
   "metadata": {},
   "outputs": [
    {
     "name": "stdout",
     "output_type": "stream",
     "text": [
      "Min:\t -1259979850.0\n",
      "Max:\t 889200.0\n"
     ]
    }
   ],
   "source": [
    "print(\"Min:\\t\", data.NetDisposableIncome.min())\n",
    "print(\"Max:\\t\", data.NetDisposableIncome.max())"
   ]
  },
  {
   "cell_type": "code",
   "execution_count": 112,
   "metadata": {},
   "outputs": [
    {
     "data": {
      "text/plain": [
       "<matplotlib.axes._subplots.AxesSubplot at 0x7f3ad7185ef0>"
      ]
     },
     "execution_count": 112,
     "metadata": {},
     "output_type": "execute_result"
    },
    {
     "data": {
      "image/png": "[encoded data removed]",
      "text/plain": [
       "<Figure size 432x288 with 1 Axes>"
      ]
     },
     "metadata": {
      "needs_background": "light"
     },
     "output_type": "display_data"
    }
   ],
   "source": [
    "data.NetDisposableIncome.hist()"
   ]
  },
  {
   "cell_type": "code",
   "execution_count": 113,
   "metadata": {},
   "outputs": [
    {
     "data": {
      "text/plain": [
       "0.012007457826703658"
      ]
     },
     "execution_count": 113,
     "metadata": {},
     "output_type": "execute_result"
    }
   ],
   "source": [
    "sum(data.NetDisposableIncome < 0) / len(data)"
   ]
  },
  {
   "cell_type": "code",
   "execution_count": 114,
   "metadata": {},
   "outputs": [
    {
     "data": {
      "text/plain": [
       "231"
      ]
     },
     "execution_count": 114,
     "metadata": {},
     "output_type": "execute_result"
    }
   ],
   "source": [
    "sum(data.NetDisposableIncome < -20000)"
   ]
  },
  {
   "cell_type": "code",
   "execution_count": 115,
   "metadata": {},
   "outputs": [
    {
     "name": "stderr",
     "output_type": "stream",
     "text": [
      "/usr/local/lib/python3.6/dist-packages/ipykernel_launcher.py:1: SettingWithCopyWarning: \n",
      "A value is trying to be set on a copy of a slice from a DataFrame\n",
      "\n",
      "See the caveats in the documentation: http://pandas.pydata.org/pandas-docs/stable/indexing.html#indexing-view-versus-copy\n",
      "  \"\"\"Entry point for launching an IPython kernel.\n"
     ]
    },
    {
     "data": {
      "text/plain": [
       "<matplotlib.axes._subplots.AxesSubplot at 0x7f3ad7101748>"
      ]
     },
     "execution_count": 115,
     "metadata": {},
     "output_type": "execute_result"
    },
    {
     "data": {
      "image/png": "[encoded data removed]",
      "text/plain": [
       "<Figure size 432x288 with 1 Axes>"
      ]
     },
     "metadata": {
      "needs_background": "light"
     },
     "output_type": "display_data"
    }
   ],
   "source": [
    "data.NetDisposableIncome[data.NetDisposableIncome < -20000] = 20000\n",
    "data.NetDisposableIncome.hist()"
   ]
  },
  {
   "cell_type": "code",
   "execution_count": 116,
   "metadata": {},
   "outputs": [
    {
     "data": {
      "text/plain": [
       "0.25079767225408944"
      ]
     },
     "execution_count": 116,
     "metadata": {},
     "output_type": "execute_result"
    }
   ],
   "source": [
    "sum(data.NetDisposableIncome == 0) / len(data)"
   ]
  },
  {
   "cell_type": "markdown",
   "metadata": {},
   "source": [
    "### here 25% of the data is <0>, is it correct?"
   ]
  },
  {
   "cell_type": "markdown",
   "metadata": {},
   "source": [
    "# ProfessionDesc"
   ]
  },
  {
   "cell_type": "code",
   "execution_count": 117,
   "metadata": {},
   "outputs": [
    {
     "data": {
      "text/plain": [
       "2"
      ]
     },
     "execution_count": 117,
     "metadata": {},
     "output_type": "execute_result"
    }
   ],
   "source": [
    "data.ProfessionDesc.isna().sum()"
   ]
  },
  {
   "cell_type": "code",
   "execution_count": 118,
   "metadata": {
    "scrolled": true
   },
   "outputs": [
    {
     "data": {
      "text/plain": [
       "count            336289\n",
       "unique              116\n",
       "top       Self Employed\n",
       "freq             164841\n",
       "Name: ProfessionDesc, dtype: object"
      ]
     },
     "execution_count": 118,
     "metadata": {},
     "output_type": "execute_result"
    }
   ],
   "source": [
    "data.ProfessionDesc.describe()"
   ]
  },
  {
   "cell_type": "code",
   "execution_count": 119,
   "metadata": {},
   "outputs": [
    {
     "name": "stderr",
     "output_type": "stream",
     "text": [
      "/usr/local/lib/python3.6/dist-packages/ipykernel_launcher.py:3: SettingWithCopyWarning: \n",
      "A value is trying to be set on a copy of a slice from a DataFrame\n",
      "\n",
      "See the caveats in the documentation: http://pandas.pydata.org/pandas-docs/stable/indexing.html#indexing-view-versus-copy\n",
      "  This is separate from the ipykernel package so we can avoid doing imports until\n",
      "/usr/local/lib/python3.6/dist-packages/ipykernel_launcher.py:4: SettingWithCopyWarning: \n",
      "A value is trying to be set on a copy of a slice from a DataFrame\n",
      "\n",
      "See the caveats in the documentation: http://pandas.pydata.org/pandas-docs/stable/indexing.html#indexing-view-versus-copy\n",
      "  after removing the cwd from sys.path.\n",
      "/usr/local/lib/python3.6/dist-packages/ipykernel_launcher.py:5: SettingWithCopyWarning: \n",
      "A value is trying to be set on a copy of a slice from a DataFrame\n",
      "\n",
      "See the caveats in the documentation: http://pandas.pydata.org/pandas-docs/stable/indexing.html#indexing-view-versus-copy\n",
      "  \"\"\"\n",
      "/usr/local/lib/python3.6/dist-packages/ipykernel_launcher.py:6: SettingWithCopyWarning: \n",
      "A value is trying to be set on a copy of a slice from a DataFrame\n",
      "\n",
      "See the caveats in the documentation: http://pandas.pydata.org/pandas-docs/stable/indexing.html#indexing-view-versus-copy\n",
      "  \n",
      "/usr/local/lib/python3.6/dist-packages/ipykernel_launcher.py:7: SettingWithCopyWarning: \n",
      "A value is trying to be set on a copy of a slice from a DataFrame\n",
      "\n",
      "See the caveats in the documentation: http://pandas.pydata.org/pandas-docs/stable/indexing.html#indexing-view-versus-copy\n",
      "  import sys\n",
      "/usr/local/lib/python3.6/dist-packages/ipykernel_launcher.py:8: SettingWithCopyWarning: \n",
      "A value is trying to be set on a copy of a slice from a DataFrame\n",
      "\n",
      "See the caveats in the documentation: http://pandas.pydata.org/pandas-docs/stable/indexing.html#indexing-view-versus-copy\n",
      "  \n",
      "/usr/local/lib/python3.6/dist-packages/ipykernel_launcher.py:9: SettingWithCopyWarning: \n",
      "A value is trying to be set on a copy of a slice from a DataFrame\n",
      "\n",
      "See the caveats in the documentation: http://pandas.pydata.org/pandas-docs/stable/indexing.html#indexing-view-versus-copy\n",
      "  if __name__ == '__main__':\n",
      "/usr/local/lib/python3.6/dist-packages/ipykernel_launcher.py:10: SettingWithCopyWarning: \n",
      "A value is trying to be set on a copy of a slice from a DataFrame\n",
      "\n",
      "See the caveats in the documentation: http://pandas.pydata.org/pandas-docs/stable/indexing.html#indexing-view-versus-copy\n",
      "  # Remove the CWD from sys.path while we load stuff.\n",
      "/usr/local/lib/python3.6/dist-packages/ipykernel_launcher.py:11: SettingWithCopyWarning: \n",
      "A value is trying to be set on a copy of a slice from a DataFrame\n",
      "\n",
      "See the caveats in the documentation: http://pandas.pydata.org/pandas-docs/stable/indexing.html#indexing-view-versus-copy\n",
      "  # This is added back by InteractiveShellApp.init_path()\n",
      "/usr/local/lib/python3.6/dist-packages/ipykernel_launcher.py:12: SettingWithCopyWarning: \n",
      "A value is trying to be set on a copy of a slice from a DataFrame\n",
      "\n",
      "See the caveats in the documentation: http://pandas.pydata.org/pandas-docs/stable/indexing.html#indexing-view-versus-copy\n",
      "  if sys.path[0] == '':\n",
      "/usr/local/lib/python3.6/dist-packages/ipykernel_launcher.py:13: SettingWithCopyWarning: \n",
      "A value is trying to be set on a copy of a slice from a DataFrame\n",
      "\n",
      "See the caveats in the documentation: http://pandas.pydata.org/pandas-docs/stable/indexing.html#indexing-view-versus-copy\n",
      "  del sys.path[0]\n",
      "/usr/local/lib/python3.6/dist-packages/ipykernel_launcher.py:14: SettingWithCopyWarning: \n",
      "A value is trying to be set on a copy of a slice from a DataFrame\n",
      "\n",
      "See the caveats in the documentation: http://pandas.pydata.org/pandas-docs/stable/indexing.html#indexing-view-versus-copy\n",
      "  \n",
      "/usr/local/lib/python3.6/dist-packages/ipykernel_launcher.py:15: SettingWithCopyWarning: \n",
      "A value is trying to be set on a copy of a slice from a DataFrame\n",
      "\n",
      "See the caveats in the documentation: http://pandas.pydata.org/pandas-docs/stable/indexing.html#indexing-view-versus-copy\n",
      "  from ipykernel import kernelapp as app\n",
      "/usr/local/lib/python3.6/dist-packages/ipykernel_launcher.py:16: SettingWithCopyWarning: \n",
      "A value is trying to be set on a copy of a slice from a DataFrame\n",
      "\n",
      "See the caveats in the documentation: http://pandas.pydata.org/pandas-docs/stable/indexing.html#indexing-view-versus-copy\n",
      "  app.launch_new_instance()\n"
     ]
    }
   ],
   "source": [
    "data.ProfessionDesc = data.ProfessionDesc.str.lower()\n",
    "data.ProfessionDesc = data.ProfessionDesc.astype(\"str\")\n",
    "data.ProfessionDesc[(data.ProfessionDesc == 'electrical') | (data.ProfessionDesc == 'electrinics')] = \"electrician\"\n",
    "data.ProfessionDesc[data.ProfessionDesc == 'tailer'] = \"tailor\"\n",
    "data.ProfessionDesc[(data.ProfessionDesc == 'merchant' )| (data.ProfessionDesc == 'traders')] = 'business'\n",
    "data.ProfessionDesc[data.ProfessionDesc == 'computer professional'] = 'computer'\n",
    "data.ProfessionDesc[(data.ProfessionDesc == 'dentist' )| (data.ProfessionDesc == 'surgical')| (data.ProfessionDesc == 'nurse')] = 'doctor'\n",
    "data.ProfessionDesc[data.ProfessionDesc == 'paint'] = \"painter\"\n",
    "data.ProfessionDesc[(data.ProfessionDesc == 'student' )| (data.ProfessionDesc == 'teacher')] = \"education\"\n",
    "data.ProfessionDesc[(data.ProfessionDesc == 'shoe trading' )| (data.ProfessionDesc == 'shoes Manufacturing / Producti')] = \"shoes\"\n",
    "data.ProfessionDesc[(data.ProfessionDesc == 'stitching accessories (manufac') | (data.ProfessionDesc == 'stitching accessories (trading')] = \"stitching accessories\"\n",
    "data.ProfessionDesc[(data.ProfessionDesc == 'baker' )|(data.ProfessionDesc == 'food & beverages' )|(data.ProfessionDesc == 'cook' )| (data.ProfessionDesc == 'dairy Products')] = \"food\"\n",
    "data.ProfessionDesc[data.ProfessionDesc == 'diplomat'] = \"govt.service\"\n",
    "data.ProfessionDesc[data.ProfessionDesc == 'lab.technician'] = \"technician\"\n",
    "data.ProfessionDesc[(data.ProfessionDesc == 'sales/marketing professiona') | (data.ProfessionDesc == 'salesman (trading)')] = \"salesman\"\n",
    "data.ProfessionDesc[(data.ProfessionDesc == 'auto denting & painting') | (data.ProfessionDesc ==\"auto parts dealers\")] = \"auto denting & painting | auto parts\""
   ]
  },
  {
   "cell_type": "code",
   "execution_count": 120,
   "metadata": {},
   "outputs": [],
   "source": [
    "l = []\n",
    "for i in data.ProfessionDesc.unique():\n",
    "    if list(data.ProfessionDesc).count(i) < 10000:\n",
    "        l.append(i)\n",
    "data.ProfessionDesc = [\"other\" if i in l else i for i in data.ProfessionDesc]"
   ]
  },
  {
   "cell_type": "code",
   "execution_count": 121,
   "metadata": {},
   "outputs": [
    {
     "data": {
      "text/plain": [
       "self employed         164841\n",
       "business               72069\n",
       "other                  42118\n",
       "live stock             23663\n",
       "utilities services     12779\n",
       "maal mawaishi          10536\n",
       "dairy products         10285\n",
       "Name: ProfessionDesc, dtype: int64"
      ]
     },
     "execution_count": 121,
     "metadata": {},
     "output_type": "execute_result"
    }
   ],
   "source": [
    "data.ProfessionDesc.value_counts()"
   ]
  },
  {
   "cell_type": "code",
   "execution_count": 122,
   "metadata": {},
   "outputs": [
    {
     "data": {
      "text/plain": [
       "([0, 1, 2, 3, 4, 5, 6], <a list of 7 Text xticklabel objects>)"
      ]
     },
     "execution_count": 122,
     "metadata": {},
     "output_type": "execute_result"
    },
    {
     "data": {
      "image/png": "[encoded data removed]",
      "text/plain": [
       "<Figure size 432x288 with 1 Axes>"
      ]
     },
     "metadata": {
      "needs_background": "light"
     },
     "output_type": "display_data"
    }
   ],
   "source": [
    "d = pd.DataFrame(data.ProfessionDesc.value_counts())\n",
    "plt.bar(d.index, d.ProfessionDesc)\n",
    "plt.xticks(rotation=45)"
   ]
  },
  {
   "cell_type": "markdown",
   "metadata": {},
   "source": [
    "# DPD30"
   ]
  },
  {
   "cell_type": "code",
   "execution_count": 123,
   "metadata": {},
   "outputs": [
    {
     "data": {
      "text/plain": [
       "0"
      ]
     },
     "execution_count": 123,
     "metadata": {},
     "output_type": "execute_result"
    }
   ],
   "source": [
    "# Our target variable\n",
    "data.DPD30.isna().sum()"
   ]
  },
  {
   "cell_type": "code",
   "execution_count": 124,
   "metadata": {},
   "outputs": [
    {
     "data": {
      "text/plain": [
       "0    300686\n",
       "1     35605\n",
       "Name: DPD30, dtype: int64"
      ]
     },
     "execution_count": 124,
     "metadata": {},
     "output_type": "execute_result"
    }
   ],
   "source": [
    "data.DPD30.value_counts()"
   ]
  },
  {
   "cell_type": "code",
   "execution_count": 125,
   "metadata": {
    "scrolled": true
   },
   "outputs": [
    {
     "data": {
      "text/plain": [
       "<matplotlib.axes._subplots.AxesSubplot at 0x7f3ad6f64ba8>"
      ]
     },
     "execution_count": 125,
     "metadata": {},
     "output_type": "execute_result"
    },
    {
     "data": {
      "image/png": "[encoded data removed]",
      "text/plain": [
       "<Figure size 432x288 with 1 Axes>"
      ]
     },
     "metadata": {
      "needs_background": "light"
     },
     "output_type": "display_data"
    }
   ],
   "source": [
    "data.DPD30.hist()"
   ]
  },
  {
   "cell_type": "code",
   "execution_count": null,
   "metadata": {},
   "outputs": [],
   "source": []
  },
  {
   "cell_type": "code",
   "execution_count": null,
   "metadata": {},
   "outputs": [],
   "source": []
  },
  {
   "cell_type": "code",
   "execution_count": null,
   "metadata": {},
   "outputs": [],
   "source": []
  },
  {
   "cell_type": "code",
   "execution_count": null,
   "metadata": {},
   "outputs": [],
   "source": []
  },
  {
   "cell_type": "code",
   "execution_count": null,
   "metadata": {},
   "outputs": [],
   "source": []
  },
  {
   "cell_type": "markdown",
   "metadata": {},
   "source": [
    "# Data"
   ]
  },
  {
   "cell_type": "code",
   "execution_count": 126,
   "metadata": {},
   "outputs": [
    {
     "name": "stdout",
     "output_type": "stream",
     "text": [
      "336291\n",
      "336288\n"
     ]
    }
   ],
   "source": [
    "# remove entires rows that contain null values, (which is under 5 rows)\n",
    "print(len(data))\n",
    "data = data.dropna()\n",
    "print(len(data))"
   ]
  },
  {
   "cell_type": "code",
   "execution_count": 127,
   "metadata": {
    "scrolled": false
   },
   "outputs": [
    {
     "data": {
      "image/png": "[encoded data removed]",
      "text/plain": [
       "<Figure size 432x288 with 1 Axes>"
      ]
     },
     "metadata": {
      "needs_background": "light"
     },
     "output_type": "display_data"
    },
    {
     "data": {
      "image/png": "[encoded data removed]",
      "text/plain": [
       "<Figure size 432x288 with 1 Axes>"
      ]
     },
     "metadata": {
      "needs_background": "light"
     },
     "output_type": "display_data"
    },
    {
     "data": {
      "image/png": "[encoded data removed]",
      "text/plain": [
       "<Figure size 432x288 with 1 Axes>"
      ]
     },
     "metadata": {
      "needs_background": "light"
     },
     "output_type": "display_data"
    },
    {
     "data": {
      "image/png": "[encoded data removed]",
      "text/plain": [
       "<Figure size 432x288 with 1 Axes>"
      ]
     },
     "metadata": {
      "needs_background": "light"
     },
     "output_type": "display_data"
    },
    {
     "data": {
      "image/png": "[encoded data removed]",
      "text/plain": [
       "<Figure size 432x288 with 1 Axes>"
      ]
     },
     "metadata": {
      "needs_background": "light"
     },
     "output_type": "display_data"
    },
    {
     "data": {
      "image/png": "[encoded data removed]",
      "text/plain": [
       "<Figure size 432x288 with 1 Axes>"
      ]
     },
     "metadata": {
      "needs_background": "light"
     },
     "output_type": "display_data"
    },
    {
     "data": {
      "image/png": "[encoded data removed]",
      "text/plain": [
       "<Figure size 432x288 with 1 Axes>"
      ]
     },
     "metadata": {
      "needs_background": "light"
     },
     "output_type": "display_data"
    },
    {
     "data": {
      "image/png": "[encoded data removed]",
      "text/plain": [
       "<Figure size 432x288 with 1 Axes>"
      ]
     },
     "metadata": {
      "needs_background": "light"
     },
     "output_type": "display_data"
    },
    {
     "data": {
      "image/png": "[encoded data removed]",
      "text/plain": [
       "<Figure size 432x288 with 1 Axes>"
      ]
     },
     "metadata": {
      "needs_background": "light"
     },
     "output_type": "display_data"
    },
    {
     "data": {
      "image/png": "[encoded data removed]",
      "text/plain": [
       "<Figure size 432x288 with 1 Axes>"
      ]
     },
     "metadata": {
      "needs_background": "light"
     },
     "output_type": "display_data"
    },
    {
     "data": {
      "image/png": "[encoded data removed]",
      "text/plain": [
       "<Figure size 432x288 with 1 Axes>"
      ]
     },
     "metadata": {
      "needs_background": "light"
     },
     "output_type": "display_data"
    },
    {
     "data": {
      "image/png": "[encoded data removed]",
      "text/plain": [
       "<Figure size 432x288 with 1 Axes>"
      ]
     },
     "metadata": {
      "needs_background": "light"
     },
     "output_type": "display_data"
    },
    {
     "data": {
      "image/png": "[encoded data removed]",
      "text/plain": [
       "<Figure size 432x288 with 1 Axes>"
      ]
     },
     "metadata": {
      "needs_background": "light"
     },
     "output_type": "display_data"
    },
    {
     "data": {
      "image/png": "[encoded data removed]",
      "text/plain": [
       "<Figure size 432x288 with 1 Axes>"
      ]
     },
     "metadata": {
      "needs_background": "light"
     },
     "output_type": "display_data"
    },
    {
     "data": {
      "image/png": "[encoded data removed]",
      "text/plain": [
       "<Figure size 432x288 with 1 Axes>"
      ]
     },
     "metadata": {
      "needs_background": "light"
     },
     "output_type": "display_data"
    },
    {
     "data": {
      "image/png": "[encoded data removed]",
      "text/plain": [
       "<Figure size 432x288 with 1 Axes>"
      ]
     },
     "metadata": {
      "needs_background": "light"
     },
     "output_type": "display_data"
    },
    {
     "data": {
      "image/png": "[encoded data removed]",
      "text/plain": [
       "<Figure size 432x288 with 1 Axes>"
      ]
     },
     "metadata": {
      "needs_background": "light"
     },
     "output_type": "display_data"
    },
    {
     "data": {
      "image/png": "[encoded data removed]",
      "text/plain": [
       "<Figure size 432x288 with 1 Axes>"
      ]
     },
     "metadata": {
      "needs_background": "light"
     },
     "output_type": "display_data"
    },
    {
     "data": {
      "image/png": "[encoded data removed]",
      "text/plain": [
       "<Figure size 432x288 with 1 Axes>"
      ]
     },
     "metadata": {
      "needs_background": "light"
     },
     "output_type": "display_data"
    },
    {
     "data": {
      "image/png": "[encoded data removed]",
      "text/plain": [
       "<Figure size 432x288 with 1 Axes>"
      ]
     },
     "metadata": {
      "needs_background": "light"
     },
     "output_type": "display_data"
    },
    {
     "data": {
      "image/png": "[encoded data removed]",
      "text/plain": [
       "<Figure size 432x288 with 1 Axes>"
      ]
     },
     "metadata": {
      "needs_background": "light"
     },
     "output_type": "display_data"
    },
    {
     "data": {
      "image/png": "[encoded data removed]",
      "text/plain": [
       "<Figure size 432x288 with 1 Axes>"
      ]
     },
     "metadata": {
      "needs_background": "light"
     },
     "output_type": "display_data"
    },
    {
     "data": {
      "image/png": "[encoded data removed]",
      "text/plain": [
       "<Figure size 432x288 with 1 Axes>"
      ]
     },
     "metadata": {
      "needs_background": "light"
     },
     "output_type": "display_data"
    },
    {
     "data": {
      "image/png": "[encoded data removed]",
      "text/plain": [
       "<Figure size 432x288 with 1 Axes>"
      ]
     },
     "metadata": {
      "needs_background": "light"
     },
     "output_type": "display_data"
    },
    {
     "data": {
      "image/png": "[encoded data removed]",
      "text/plain": [
       "<Figure size 432x288 with 1 Axes>"
      ]
     },
     "metadata": {
      "needs_background": "light"
     },
     "output_type": "display_data"
    }
   ],
   "source": [
    "for i in data.columns:\n",
    "    if i == \"ResidenceType\":\n",
    "        d.plot.bar()\n",
    "        plt.show()\n",
    "    else:\n",
    "        if (data[i].dtype == 'float64') or (data[i].dtype == \"int64\") :\n",
    "            plt.hist(data[i])\n",
    "            plt.title(i)\n",
    "            plt.show()\n",
    "        elif data[i].dtype == 'object':\n",
    "            d = pd.DataFrame(data[i].value_counts())\n",
    "            plt.bar(d.index, d[i])\n",
    "            plt.xticks(rotation=45)\n",
    "            plt.title(i)\n",
    "            plt.show()"
   ]
  },
  {
   "cell_type": "code",
   "execution_count": null,
   "metadata": {},
   "outputs": [],
   "source": []
  },
  {
   "cell_type": "code",
   "execution_count": null,
   "metadata": {},
   "outputs": [],
   "source": []
  },
  {
   "cell_type": "code",
   "execution_count": null,
   "metadata": {},
   "outputs": [],
   "source": []
  },
  {
   "cell_type": "code",
   "execution_count": 128,
   "metadata": {},
   "outputs": [
    {
     "data": {
      "text/html": [
       "<div>\n",
       "<style scoped>\n",
       "    .dataframe tbody tr th:only-of-type {\n",
       "        vertical-align: middle;\n",
       "    }\n",
       "\n",
       "    .dataframe tbody tr th {\n",
       "        vertical-align: top;\n",
       "    }\n",
       "\n",
       "    .dataframe thead th {\n",
       "        text-align: right;\n",
       "    }\n",
       "</style>\n",
       "<table border=\"1\" class=\"dataframe\">\n",
       "  <thead>\n",
       "    <tr style=\"text-align: right;\">\n",
       "      <th></th>\n",
       "      <th>count</th>\n",
       "      <th>Ratio</th>\n",
       "      <th>Ratio of 0</th>\n",
       "      <th>Ratio of 1</th>\n",
       "    </tr>\n",
       "  </thead>\n",
       "  <tbody>\n",
       "    <tr>\n",
       "      <th>Old</th>\n",
       "      <td>255926.0</td>\n",
       "      <td>0.761032</td>\n",
       "      <td>0.889687</td>\n",
       "      <td>0.110313</td>\n",
       "    </tr>\n",
       "    <tr>\n",
       "      <th>New</th>\n",
       "      <td>80362.0</td>\n",
       "      <td>0.238968</td>\n",
       "      <td>0.908253</td>\n",
       "      <td>0.091747</td>\n",
       "    </tr>\n",
       "  </tbody>\n",
       "</table>\n",
       "</div>"
      ],
      "text/plain": [
       "        count     Ratio  Ratio of 0  Ratio of 1\n",
       "Old  255926.0  0.761032    0.889687    0.110313\n",
       "New   80362.0  0.238968    0.908253    0.091747"
      ]
     },
     "execution_count": 128,
     "metadata": {},
     "output_type": "execute_result"
    }
   ],
   "source": [
    "df = pd.DataFrame(columns=['count', 'Ratio', 'Ratio of 0', 'Ratio of 1'])\n",
    "old = data[data.DataType == 'Old']\n",
    "new = data[data.DataType == 'New']\n",
    "df = df.append(pd.Series({'count' : len(old),\n",
    "                    'Ratio' : len(old)/len(data), \n",
    "                    'Ratio of 0' : len(old[old.DPD30 == 0])/len(old),\n",
    "                    'Ratio of 1' : len(old[old.DPD30 == 1])/len(old)}, name=\"Old\"))\n",
    "df = df.append(pd.Series({'count' : len(new),\n",
    "                    'Ratio' : len(new)/len(data), \n",
    "                    'Ratio of 0' : len(new[new.DPD30 == 0])/len(new),\n",
    "                    'Ratio of 1' : len(new[new.DPD30 == 1])/len(new)}, name=\"New\"))\n",
    "df"
   ]
  },
  {
   "cell_type": "code",
   "execution_count": 129,
   "metadata": {},
   "outputs": [],
   "source": [
    "data['PrimaryKey'] = (data.applicationnumber.map(str) + data.loantype.map(str)).str.replace(\"\\.0\", \"\")\n",
    "d_keys = list(data.PrimaryKey[data.duplicated(['PrimaryKey'])])\n",
    "duplicated = data[data['PrimaryKey'].isin(d_keys)]"
   ]
  },
  {
   "cell_type": "code",
   "execution_count": 130,
   "metadata": {},
   "outputs": [],
   "source": [
    "# every duplicated rows has one row but 2 column \n",
    "# d = data[data.duplicated(['PrimaryKey'])]\n",
    "# df5 = data.merge(d, on=\"PrimaryKey\")\n",
    "# df5 = df5[sorted(list(df5.columns))]"
   ]
  },
  {
   "cell_type": "code",
   "execution_count": 163,
   "metadata": {},
   "outputs": [
    {
     "data": {
      "text/plain": [
       "applicationnumber            0\n",
       "loantype                     0\n",
       "DisbursalDate                0\n",
       "LoanTenor                    0\n",
       "LoanAmount                   0\n",
       "SectorDescription            0\n",
       "EstablishedSinceMonths       0\n",
       "CurrentAddressSinceMonths    0\n",
       "DocumentCharge               0\n",
       "EMI                          0\n",
       "InterestRate                 0\n",
       "InsuranceRate                0\n",
       "InsuranceAmount              0\n",
       "MariatlStatus                0\n",
       "BussinessLegalStatus         0\n",
       "ResidenceType                0\n",
       "MailThrough                  0\n",
       "OtherLoanBank                0\n",
       "NoOfDependents               0\n",
       "Qualification                0\n",
       "NetBusinessIncome            0\n",
       "NetDisposableIncome          0\n",
       "ProfessionDesc               0\n",
       "30 DPDs Instance             0\n",
       "DPD30                        0\n",
       "DataType                     0\n",
       "Month_and_Year               0\n",
       "PrimaryKey                   0\n",
       "dtype: int64"
      ]
     },
     "execution_count": 163,
     "metadata": {},
     "output_type": "execute_result"
    }
   ],
   "source": [
    "duplicated.isna().sum()"
   ]
  },
  {
   "cell_type": "code",
   "execution_count": 131,
   "metadata": {},
   "outputs": [
    {
     "data": {
      "text/plain": [
       "Index(['applicationnumber', 'loantype', 'DisbursalDate', 'LoanTenor',\n",
       "       'LoanAmount', 'SectorDescription', 'EstablishedSinceMonths',\n",
       "       'CurrentAddressSinceMonths', 'DocumentCharge', 'EMI', 'InterestRate',\n",
       "       'InsuranceRate', 'InsuranceAmount', 'MariatlStatus',\n",
       "       'BussinessLegalStatus', 'ResidenceType', 'MailThrough', 'OtherLoanBank',\n",
       "       'NoOfDependents', 'Qualification', 'NetBusinessIncome',\n",
       "       'NetDisposableIncome', 'ProfessionDesc', '30 DPDs Instance', 'DPD30',\n",
       "       'DataType', 'Month_and_Year', 'PrimaryKey'],\n",
       "      dtype='object')"
      ]
     },
     "execution_count": 131,
     "metadata": {},
     "output_type": "execute_result"
    }
   ],
   "source": [
    "duplicated.columns"
   ]
  },
  {
   "cell_type": "code",
   "execution_count": 132,
   "metadata": {},
   "outputs": [
    {
     "name": "stdout",
     "output_type": "stream",
     "text": [
      "Duplicated old:\t 47762\n",
      "Duplicated new:\t 47764\n"
     ]
    }
   ],
   "source": [
    "d_old = duplicated[duplicated.DataType == 'Old']\n",
    "d_new = duplicated[duplicated.DataType == 'New']\n",
    "print('Duplicated old:\\t', len(d_old))\n",
    "print(\"Duplicated new:\\t\", len(d_new))"
   ]
  },
  {
   "cell_type": "code",
   "execution_count": 304,
   "metadata": {},
   "outputs": [],
   "source": [
    "vars_for_cor = duplicated.dtypes[(duplicated.dtypes == 'int64') |\n",
    "                                 (duplicated.dtypes == 'float64')].index\n",
    "names = []\n",
    "c = []\n",
    "for i in vars_for_cor:\n",
    "    a = list(vars_for_cor)\n",
    "    a.remove(i)\n",
    "    for z in a:\n",
    "        names.append((z, i))\n",
    "        c.append(d_old[i].corr(d_old[z]))\n",
    "n = names.copy()\n",
    "d = {}\n",
    "for i in range(len(n)):\n",
    "    d[tuple(sorted(n[i]))] = c[i]\n",
    "df_cor_old = pd.DataFrame(pd.Series(d))\n",
    "df_cor_old.columns = ['Correlation']\n",
    "\n",
    "names = []\n",
    "c = []\n",
    "for i in vars_for_cor:\n",
    "    a = list(vars_for_cor)\n",
    "    a.remove(i)\n",
    "    for z in a:\n",
    "        names.append((z, i))\n",
    "        c.append(d_new[i].corr(d_new[z]))\n",
    "\n",
    "d = {}\n",
    "for i in range(len(names)):\n",
    "    d[tuple(sorted(names[i]))] = c[i]\n",
    "df_cor_new = pd.DataFrame(pd.Series(d))\n",
    "df_cor_new.columns = ['Correlation']\n",
    "\n",
    "\n",
    "\n",
    "df4 = df_cor_new.merge(df_cor_old, left_index=True, right_index=True)\n",
    "df4 = df4.reset_index()\n",
    "df4.columns = ['Var_1', 'Var_2', 'Correlation_in_old', 'Correlation_in_new']\n",
    "df4['difference'] = (df4.Correlation_in_old - df4.Correlation_in_new).abs()\n",
    "df4.sort_values(by=\"difference\",ascending=False)\n",
    "df4.to_csv(\"correlation_in_old_and_new.csv\")"
   ]
  }
 ],
 "metadata": {
  "kernelspec": {
   "display_name": "Python 3",
   "language": "python",
   "name": "python3"
  },
  "language_info": {
   "codemirror_mode": {
    "name": "ipython",
    "version": 3
   },
   "file_extension": ".py",
   "mimetype": "text/x-python",
   "name": "python",
   "nbconvert_exporter": "python",
   "pygments_lexer": "ipython3",
   "version": "3.6.7"
  }
 },
 "nbformat": 4,
 "nbformat_minor": 2
}
