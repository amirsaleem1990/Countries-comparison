{
 "cells": [
  {
   "cell_type": "markdown",
   "metadata": {},
   "source": [
    "[FILES download link](http://www.pbs.gov.pk/cpi)"
   ]
  },
  {
   "cell_type": "code",
   "execution_count": 5,
   "metadata": {},
   "outputs": [],
   "source": [
    "for_download = [\"http://www.pbs.gov.pk/sites/default/files//price_statistics/monthly_price_indices/2016/monthly_spi_oct_2016_0.pdf\",\n",
    "\"http://www.pbs.gov.pk/sites/default/files//price_statistics/monthly_price_indices/2016/Annexure.pdf\",\n",
    "\"http://www.pbs.gov.pk/sites/default/files//price_statistics/monthly_price_indices/2017/cpi_annexure_december_2016.pdf\",\n",
    "\"http://www.pbs.gov.pk/sites/default/files//price_statistics/monthly_price_indices/2017/spi_annex_january17.pdf\",\n",
    "\"http://www.pbs.gov.pk/sites/default/files//price_statistics/monthly_price_indices/2017/monthly_spi_feb_17.pdf\",\n",
    "\"http://www.pbs.gov.pk/sites/default/files//price_statistics/monthly_price_indices/2017/annex_cpi_march_2017.pdf\",\n",
    "\"http://www.pbs.gov.pk/sites/default/files//price_statistics/monthly_price_indices/2017/SPI_April_2017_0.pdf\",\n",
    "\"http://www.pbs.gov.pk/sites/default/files//price_statistics/monthly_price_indices/2017/SPI_April_2017_0.pdf\",\n",
    "\"http://www.pbs.gov.pk/sites/default/files//price_statistics/monthly_price_indices/2017/SPI_May_2017.pdf\",\n",
    "\"http://www.pbs.gov.pk/sites/default/files//price_statistics/monthly_price_indices/2017/Monthly%20avg%20SPI_June_2017.pdf\",\n",
    "\"http://www.pbs.gov.pk/sites/default/files//price_statistics/monthly_price_indices/2018/cpi_annex_may18.pdf\",\n",
    "\"http://www.pbs.gov.pk/sites/default/files//price_statistics/monthly_price_indices/2018/cpi_annexure_april_2018.pdf\",\n",
    "\"http://www.pbs.gov.pk/sites/default/files//price_statistics/monthly_price_indices/2018/cpi_annexure_february_2018.pdf\",\n",
    "\"http://www.pbs.gov.pk/sites/default/files//price_statistics/monthly_price_indices/2018/SPI%20monthly%20Avg%20January.pdf\",\n",
    "\"http://www.pbs.gov.pk/sites/default/files//price_statistics/monthly_price_indices/2018/SPI_monthly_vg_december.pdf\",\n",
    "\"http://www.pbs.gov.pk/sites/default/files//price_statistics/monthly_price_indices/2017/SPI%20Monthly%20Avg%2C%20November%202017.pdf\",\n",
    "\"http://www.pbs.gov.pk/sites/default/files//price_statistics/monthly_price_indices/2018/cpi_annexure_june_2018.pdf\",\n",
    "\"http://www.pbs.gov.pk/sites/default/files//price_statistics/monthly_price_indices/2019/cpi_annexure_june_2019.pdf\",\n",
    "\"http://www.pbs.gov.pk/sites/default/files//price_statistics/monthly_price_indices/2019/SPI%20monthly%20Avg%20April%2C%202019.pdf\",\n",
    "\"http://www.pbs.gov.pk/sites/default/files//price_statistics/monthly_price_indices/2017/SPI%20Prices.pdf\",\n",
    "\"http://www.pbs.gov.pk/sites/default/files//price_statistics/monthly_price_indices/2017/Annexture_CPI_July_2017.pdf\",\n",
    "\"http://www.pbs.gov.pk/sites/default/files//price_statistics/monthly_price_indices/2018/Monthly%20Avg%20SPI%20October%2C%202018.pdf\",\n",
    "\"http://www.pbs.gov.pk/sites/default/files//price_statistics/monthly_price_indices/2019/cpi_annex_january_2019.pdf\",\n",
    "\"http://www.pbs.gov.pk/sites/default/files//price_statistics/monthly_price_indices/2019/Monthly%20Avg%20SPi%20for%20Feb..pdf\",\n",
    "\"http://www.pbs.gov.pk/sites/default/files//price_statistics/monthly_price_indices/2019/Monthly%20SPI%20Avg.pdf\",\n",
    "\"http://www.pbs.gov.pk/sites/default/files//price_statistics/monthly_price_indices/2019/SPI%20monthly%20Avg.pdf\",\n",
    "\"http://www.pbs.gov.pk/sites/default/files//price_statistics/monthly_price_indices/2019/annexure_december_2018.pdf\",\n",
    "\"http://www.pbs.gov.pk/sites/default/files//price_statistics/monthly_price_indices/2018/Avg%20SPI%20September%202018.pdf\",\n",
    "\"http://www.pbs.gov.pk/sites/default/files//price_statistics/monthly_price_indices/2017/SPI%20Prices%20August.pdf\",\n",
    "\"http://www.pbs.gov.pk/sites/default/files//price_statistics/monthly_price_indices/2018/Avg_August_2018_SPI_0.pdf\",\n",
    "\"http://www.pbs.gov.pk/sites/default/files//price_statistics/monthly_price_indices/2018/SPI%20Monthly%20Avg%20Prices.pdf\",\n",
    "\"http://www.pbs.gov.pk/sites/default/files//price_statistics/monthly_price_indices/2018/cpi_annexure_march_2018.pdf\",\n",
    "\"http://www.pbs.gov.pk/sites/default/files//price_statistics/monthly_price_indices/2018/Avg.%20SPI_July%2C%202018.pdf\",\n",
    "\"http://www.pbs.gov.pk/sites/default/files//price_statistics/monthly_price_indices/2017/Avg%20prices%20october%202017..pdf\"]"
   ]
  },
  {
   "cell_type": "code",
   "execution_count": 3,
   "metadata": {},
   "outputs": [],
   "source": [
    "import os\n",
    "os.mkdir(\"Downloads\")\n",
    "for url in for_download:\n",
    "    os.system(f\"wget {url}\")"
   ]
  },
  {
   "cell_type": "code",
   "execution_count": 38,
   "metadata": {},
   "outputs": [],
   "source": [
    "from PyPDF2 import PdfFileReader\n",
    "import camelot\n",
    "import os\n",
    "import pandas as pd\n",
    "\n",
    "pdf_files = [i for i in os.listdir() if i.endswith(\".pdf\")]\n",
    "\n",
    "all_pdfs_in_dfs = []\n",
    "errors = []\n",
    "files = []\n",
    "pdf = !ls *.pdf\n",
    "csv = !ls *.csv\n",
    "for i in pdf:\n",
    "    if not i.replace(\".pdf\", \".csv\") in csv:\n",
    "        files.append(i)\n",
    "        \n",
    "for file_name in files:\n",
    "    try:\n",
    "        with open(file_name, 'rb') as f:\n",
    "            pages_qty = PdfFileReader(f).getNumPages()\n",
    "\n",
    "\n",
    "        lst = []    \n",
    "        for i in range(1, pages_qty+1):\n",
    "            try:\n",
    "                local_df = camelot.read_pdf(file_name,flavor=\"stream\", pages=str(i))[0].df\n",
    "                lst.append(local_df)\n",
    "            except:\n",
    "                pass\n",
    "        if len(lst) == 1:\n",
    "            local_df.to_csv(file_name.replace(\".pdf\", \".csv\"))\n",
    "            del local_df\n",
    "            print(\"M\")\n",
    "        else:\n",
    "            all_pdfs_in_dfs.append(lst)\n",
    "    except:\n",
    "        errors.append(file_name)\n",
    "        pass"
   ]
  },
  {
   "cell_type": "code",
   "execution_count": 59,
   "metadata": {},
   "outputs": [],
   "source": [
    "c = -1\n",
    "dfs = []\n",
    "for file_name, df_list in zip(files, all_pdfs_in_dfs):\n",
    "    c = -1\n",
    "    dir_name = file_name.replace(\".pdf\", \"\").replace(\" \", \"_\")\n",
    "    os.mkdir(dir_name)\n",
    "    for df in df_list:\n",
    "        c += 1\n",
    "        df.to_csv(dir_name + \"/\" + file_name.replace(\".pdf\", \"\") + \"_\" + str(c) + \".csv\")"
   ]
  },
  {
   "cell_type": "code",
   "execution_count": null,
   "metadata": {},
   "outputs": [],
   "source": []
  }
 ],
 "metadata": {
  "kernelspec": {
   "display_name": "Python 3",
   "language": "python",
   "name": "python3"
  },
  "language_info": {
   "codemirror_mode": {
    "name": "ipython",
    "version": 3
   },
   "file_extension": ".py",
   "mimetype": "text/x-python",
   "name": "python",
   "nbconvert_exporter": "python",
   "pygments_lexer": "ipython3",
   "version": "3.6.8"
  }
 },
 "nbformat": 4,
 "nbformat_minor": 4
}
