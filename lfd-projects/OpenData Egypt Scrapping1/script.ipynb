{
 "cells": [
  {
   "cell_type": "code",
   "execution_count": 2,
   "metadata": {},
   "outputs": [],
   "source": [
    "# extract pages from PDF and make another PDF that contain only these pages\n",
    "import PyPDF2\n",
    "pfr = PyPDF2.PdfFileReader(open(\"a.pdf\", \"rb\"))\n",
    "\n",
    "writer = PyPDF2.PdfFileWriter()\n",
    "\n",
    "d = {}\n",
    "for page_num in list(range(18, 33, 2)):\n",
    "    d[\"extracted_page_\" + str(page_num)] = pfr.getPage(page_num)\n",
    "\n",
    "# we specified 2 pages, now we create an another pdf with only these 2 pages\n",
    "for page in d.keys():\n",
    "    writer.addPage(d[page])\n",
    "\n",
    "with open(\"allTables.pdf\", \"wb\") as outputStream:\n",
    "    writer.write(outputStream)"
   ]
  },
  {
   "cell_type": "code",
   "execution_count": 50,
   "metadata": {},
   "outputs": [],
   "source": []
  },
  {
   "cell_type": "code",
   "execution_count": null,
   "metadata": {},
   "outputs": [],
   "source": [
    "from PyPDF2 import PdfFileReader\n",
    "with open(\"a.pdf\", 'rb') as f:\n",
    "    pages_qty = PdfFileReader(f).getNumPages()\n",
    "    \n",
    "    \n",
    "lst = []\n",
    "import camelot\n",
    "for i in range(1, pages_qty+1):\n",
    "    try:\n",
    "        lst.append(camelot.read_pdf('a.pdf',flavor=\"stream\", pages=str(i))[0].df)\n",
    "    except:\n",
    "        pass\n",
    "    \n",
    "import pandas as pd\n",
    "writer = pd.ExcelWriter('pandas_multiple.xlsx')\n",
    "for e, df in enumerate(lst):\n",
    "    df.to_excel(writer, sheet_name='Sheet' + str(e+1))\n",
    "\n",
    "\n",
    "writer.save()"
   ]
  },
  {
   "cell_type": "code",
   "execution_count": null,
   "metadata": {},
   "outputs": [],
   "source": []
  },
  {
   "cell_type": "code",
   "execution_count": 58,
   "metadata": {},
   "outputs": [],
   "source": [
    "from tabula import wrapper\n",
    "tables = wrapper.read_pdf(\"a.pdf\",multiple_tables=True,pages='all')\n",
    "\n",
    "writer = pd.ExcelWriter('pandas_multiple_tabula.xlsx')\n",
    "for e, df in enumerate(tables):\n",
    "    df.to_excel(writer, sheet_name='Sheet' + str(e+1))\n",
    "writer.save()"
   ]
  }
 ],
 "metadata": {
  "kernelspec": {
   "display_name": "Python 3",
   "language": "python",
   "name": "python3"
  },
  "language_info": {
   "codemirror_mode": {
    "name": "ipython",
    "version": 3
   },
   "file_extension": ".py",
   "mimetype": "text/x-python",
   "name": "python",
   "nbconvert_exporter": "python",
   "pygments_lexer": "ipython3",
   "version": "3.6.8"
  }
 },
 "nbformat": 4,
 "nbformat_minor": 2
}
