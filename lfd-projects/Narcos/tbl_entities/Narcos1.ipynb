{
 "cells": [
  {
   "cell_type": "code",
   "execution_count": 1,
   "metadata": {},
   "outputs": [],
   "source": [
    "# import pymssql\n",
    "# import pickle\n",
    "\n",
    "# host = \"209.97.147.137:1432\"\n",
    "# database = \"hblUqaab2\"\n",
    "# username = \"sa\"\n",
    "# password = \"LFD%^*prodSV321\"\n",
    "\n",
    "# conn = pymssql.connect(host, username, password, database)\n",
    "# cursor = conn.cursor()\n",
    "# cursor.execute(\n",
    "#     \"select * from tbl_entities\"\n",
    "# )\n",
    "\n",
    "# lst = []\n",
    "# row = cursor.fetchone()\n",
    "# lst.append(row)\n",
    "# while row:\n",
    "#     lst.append(row)\n",
    "#     row = cursor.fetchone()    \n",
    "\n",
    "# with open(\"../../../list_of_lists_scraped.pkl\", \"wb\") as file:\n",
    "#     pickle.dump(lst, file)    \n",
    "    \n",
    "# # !zip ../../../list_of_lists_scraped.zip ../../../list_of_lists_scraped.pkl\n",
    "\n",
    "# columns = ['EID', 'EDateTime', 'SubListID', 'ECategory', 'OrigName', 'Address', 'DOB', 'Nationality', 'Designation', 'Organization', 'Title', 'DO_Inclusion', 'DO_Exclusion', 'Aliases', \n",
    "#            'Matching', 'ListType', 'Remarks', 'Status', 'Gender', 'Last_Occupation', 'Documents', 'Initials', 'Name', 'Image']\n",
    "\n",
    "\n",
    "# df = pd.DataFrame(lst, columns = columns)"
   ]
  },
  {
   "cell_type": "code",
   "execution_count": 93,
   "metadata": {},
   "outputs": [],
   "source": [
    "# #old\n",
    "# import pickle\n",
    "# import pandas as pd\n",
    "# columns = ['EID', 'EDateTime', 'SubListID', 'ECategory', 'OrigName', 'Address', 'DOB', 'Nationality', 'Designation', 'Organization', 'Title', 'DO_Inclusion', 'DO_Exclusion', 'Aliases', \n",
    "#            'Matching', 'ListType', 'Remarks', 'Status', 'Gender', 'Last_Occupation', 'Documents', 'Initials', 'Name', 'Image']\n",
    "           \n",
    "# with open(\"../../../list_of_lists_scraped.pkl\", \"rb\") as file:\n",
    "#     lst = pickle.load(file)    \n",
    "\n",
    "# for i in range(len(lst)):\n",
    "#     lst[i] = list(lst[i]) # the <lst> is list of tuples, and tuple is immutable, so we have to change it to list to modify it\n",
    "#     for j in range(len(lst[i])):\n",
    "#         if isinstance(lst[i][j], str):\n",
    "#             lst[i][j] = lst[i][j].replace(\"\\\\\", \"|\")\n",
    "\n",
    "\n",
    "# df = pd.DataFrame(lst, columns = columns)\n",
    "\n",
    "# for i in df:\n",
    "#     if df[i].dtype == \"object\":\n",
    "#         df[i] = list(df[i].str.lower())"
   ]
  },
  {
   "cell_type": "code",
   "execution_count": null,
   "metadata": {},
   "outputs": [],
   "source": []
  },
  {
   "cell_type": "code",
   "execution_count": 224,
   "metadata": {},
   "outputs": [
    {
     "name": "stdin",
     "output_type": "stream",
     "text": [
      "Enter your Qery[eg: drug]:  narcotico\n"
     ]
    }
   ],
   "source": [
    "query = input(\"Enter your Qery[eg: drug]: \")\n",
    "columns_contains_query = []\n",
    "index_numbers = []\n",
    "for i in df.dtypes[df.dtypes == 'O'].index:\n",
    "        if any(df[i].str.contains(query).unique()):\n",
    "            columns_contains_query.append(i)\n",
    "            index_numbers += np.array(np.where(df[i].str.contains(query))).tolist()\n",
    "\n",
    "lst = []\n",
    "for i in index_numbers:\n",
    "    lst += i\n",
    "lst = sorted(list(set(lst)))"
   ]
  },
  {
   "cell_type": "code",
   "execution_count": null,
   "metadata": {},
   "outputs": [],
   "source": []
  },
  {
   "cell_type": "code",
   "execution_count": null,
   "metadata": {},
   "outputs": [],
   "source": []
  },
  {
   "cell_type": "code",
   "execution_count": null,
   "metadata": {},
   "outputs": [],
   "source": []
  },
  {
   "cell_type": "code",
   "execution_count": null,
   "metadata": {},
   "outputs": [],
   "source": []
  },
  {
   "cell_type": "code",
   "execution_count": null,
   "metadata": {},
   "outputs": [],
   "source": []
  },
  {
   "cell_type": "code",
   "execution_count": null,
   "metadata": {},
   "outputs": [],
   "source": []
  },
  {
   "cell_type": "code",
   "execution_count": null,
   "metadata": {},
   "outputs": [],
   "source": []
  },
  {
   "cell_type": "code",
   "execution_count": null,
   "metadata": {},
   "outputs": [],
   "source": []
  },
  {
   "cell_type": "code",
   "execution_count": null,
   "metadata": {},
   "outputs": [],
   "source": []
  },
  {
   "cell_type": "code",
   "execution_count": 5,
   "metadata": {},
   "outputs": [],
   "source": [
    "# #old\n",
    "# import pickle\n",
    "# import numpy as np\n",
    "# import pandas as pd\n",
    "# import matplotlib\n",
    "\n",
    "# with open(\"../../../list_of_lists_scraped.pkl\", \"rb\") as file:\n",
    "#     lst = pickle.load(file)    \n",
    "\n",
    "# for i in range(len(lst)):\n",
    "#     lst[i] = list(lst[i]) # the <lst> is list of tuples, and tuple is immutable, so we have to change it to list to modify it later\n",
    "#     if \"\\r\\n\" in lst[i][4]:\n",
    "#         lst[i][4] = lst[i][4].replace(\"\\r\\n\", \"\").strip()\n",
    "\n",
    "# columns = ['EID', 'EDateTime', 'SubListID', 'ECategory', 'OrigName', 'Address', 'DOB', 'Nationality', 'Designation', 'Organization', 'Title', 'DO_Inclusion', 'DO_Exclusion', 'Aliases', \n",
    "#            'Matching', 'ListType', 'Remarks', 'Status', 'Gender', 'Last_Occupation', 'Documents', 'Initials', 'Name', 'Image']\n",
    "\n",
    "# df = pd.DataFrame(lst, columns = columns)\n",
    "# df = df.replace({r'\\n': '||new_line||', \n",
    "#                  r'\\r': '||r||',\n",
    "#                  r';' :  ' ',\n",
    "#                  r'\\t':  '||tab||'}, regex=True)\n",
    "\n",
    "# for i in df:\n",
    "#     if df[i].dtype == \"object\":\n",
    "#         df[i] = df[i].str.lower()"
   ]
  },
  {
   "cell_type": "code",
   "execution_count": 6,
   "metadata": {},
   "outputs": [],
   "source": [
    "old_list = [\"Drug\", \n",
    "\"Drugs\", \n",
    "\"Drug dealing\", \n",
    "\"Narco\", \n",
    "\"Narco Trafficking\", \n",
    "\"Drug trafficking\", \n",
    "\"Narcotics\", \n",
    "\"narcotics traffickers\", \n",
    "\"Narco-traffickers\", \n",
    "\"Opium\", \n",
    "\"poppy\", \n",
    "\"narco\", \n",
    "\"PWID\", \n",
    "\"opiate\", \n",
    "\"alcohol\", \n",
    "\"ecstasy\", \n",
    "\"MDMA\", \n",
    "\"Mephedrone\", \n",
    "\"meow meow\", \n",
    "\"Bath Salts\", \n",
    "\"Drone\", \n",
    "\"M-CAT\", \n",
    "\"White Magic\", \n",
    "\"4-methyl methcathinone\", \n",
    "\"4-MMC\", \n",
    "\"amphetamines\", \n",
    "\"Methylamphetamine\", \n",
    "\"crystal meth\", \n",
    "\"GHB\", \n",
    "\"Nicotine\", \n",
    "\"tobacco\", \n",
    "\"anabolic steroids\", \n",
    "\"heroin\", \n",
    "\"phencyclidine\", \n",
    "\"PCP\", \n",
    "\"benzodiazepines\", \n",
    "\"ketamine\", \n",
    "\"pregabalin\", \n",
    "\"buprenorphine\", \n",
    "\"khat\", \n",
    "\"kat\", \n",
    "\"psilocybin\", \n",
    "\"psilocyn\", \n",
    "\"magic mushrooms\", \n",
    "\"cannabis\", \n",
    "\"LSD\", \n",
    "\"solvents\", \n",
    "\"Cocaine\", \n",
    "\"Substance abuse\", \n",
    "\"Oxycodone\", \n",
    "\"intoxicated\", \n",
    "\"Drug abuse\"]\n",
    "new_list = [\"el sporífero\", \n",
    "\"drogas\", \n",
    "\"metanfetamina\", \n",
    "\"narcóticos\", \n",
    "\"narca\", \n",
    "\"cocaína\", \n",
    "\"el tráfico de drogas\", \n",
    "\"traficar drogas\", \n",
    "\"drug dealing\", \n",
    "\"dealing drugs\", \n",
    "\"morphine\", \n",
    "\"Drug\", \n",
    "\"Drugs\", \n",
    "\"Drug dealing \", \n",
    "\"Narco\", \n",
    "\"Narco Trafficking \", \n",
    "\"Drug trafficking \",\n",
    "\"Narcotics\",\n",
    "\"narcotics traffickers\",\n",
    "\"Narco-traffickers \",\n",
    "\"Opium\",\n",
    "\"poppy\",\n",
    "\"narco\",\n",
    "\"PWID\",\n",
    "\"opiate\",\n",
    "\"alcohol    \",\n",
    "\"ecstasy\",\n",
    "\"MDMA\",\n",
    "\"Mephedrone\",\n",
    "\"meow meow\",\n",
    "\"Bath Salts\",\n",
    "\"Drone\",\n",
    "\"M-CAT\",\n",
    "\"White Magic\",\n",
    "\"4-methyl methcathinone \",\n",
    "\"4-MMC\",\n",
    "\"amphetamines\",\n",
    "\"Methylamphetamine\",\n",
    "\"crystal meth\",\n",
    "\"GHB    \",\n",
    "\"Nicotine\",\n",
    "\"tobacco\",\n",
    "\"anabolic steroids\",\n",
    "\"heroin    \",\n",
    "\"phencyclidine\",\n",
    "\"PCP\",\n",
    "\"benzodiazepines    \",\n",
    "\"ketamine    \",\n",
    "\"pregabalin\",\n",
    "\"buprenorphine    \",\n",
    "\"psilocybin\",\n",
    "\"psilocyn\",\n",
    "\"magic mushrooms\", \n",
    "\"cannabis\", \n",
    "\"LSD\", \n",
    "\"solvents\", \n",
    "\"Cocaine\", \n",
    "\"Substance abuse\", \n",
    "\"Oxycodone\", \n",
    "\"intoxicated\", \n",
    "\"Drug abuse\"]\n",
    "words_list = list(set([i.strip().lower() for i in old_list + new_list]))"
   ]
  },
  {
   "cell_type": "code",
   "execution_count": 17,
   "metadata": {},
   "outputs": [],
   "source": [
    "# ok\n",
    "# columns_contains_query = []\n",
    "# index_numbers = []\n",
    "# QUERY = []\n",
    "# for query in words_list:\n",
    "#     query_only_word = f\" {query} \" # 1508 results\n",
    "#     for i in df.dtypes[df.dtypes == 'O'].index:\n",
    "#             if any(df[i].str.contains(query_only_word).unique()):\n",
    "#                 columns_contains_query.append(i)\n",
    "#                 m = np.where(df[i].str.contains(query_only_word))\n",
    "#                 index_numbers += m[0].tolist()\n",
    "#                 QUERY += [query] * len(m[0].tolist())"
   ]
  },
  {
   "cell_type": "code",
   "execution_count": 7,
   "metadata": {},
   "outputs": [],
   "source": [
    "columns_contains_query = []\n",
    "index_numbers = []\n",
    "QUERY = []\n",
    "for query in words_list: # \n",
    "#     query_only_word = f\" {query} \" # 1518 results\n",
    "    for i in df.dtypes[df.dtypes == 'O'].index:\n",
    "        a = df[i].str.contains(r's*{}[^s]'.format(query))\n",
    "        if any(a.unique()):\n",
    "            columns_contains_query.append(i)\n",
    "            m = np.where(df[i].str.contains(r's*{}[^s]'.format(query)) == True) # a\n",
    "            index_numbers += m[0].tolist()\n",
    "            QUERY += [query] * len(m[0].tolist())"
   ]
  },
  {
   "cell_type": "code",
   "execution_count": 8,
   "metadata": {},
   "outputs": [
    {
     "data": {
      "text/plain": [
       "(14220, 14220)"
      ]
     },
     "execution_count": 8,
     "metadata": {},
     "output_type": "execute_result"
    }
   ],
   "source": [
    "len(QUERY), len(index_numbers)"
   ]
  },
  {
   "cell_type": "code",
   "execution_count": 9,
   "metadata": {},
   "outputs": [],
   "source": [
    "aa = df.loc[index_numbers][list(set(columns_contains_query))]\n",
    "aa[\"Query\"] = QUERY"
   ]
  },
  {
   "cell_type": "code",
   "execution_count": 10,
   "metadata": {},
   "outputs": [],
   "source": [
    "aa.sort_index(inplace=True)\n",
    "aa.to_csv(\"aaa.csv\")"
   ]
  },
  {
   "cell_type": "code",
   "execution_count": 92,
   "metadata": {},
   "outputs": [],
   "source": []
  },
  {
   "cell_type": "code",
   "execution_count": null,
   "metadata": {},
   "outputs": [],
   "source": []
  },
  {
   "cell_type": "code",
   "execution_count": null,
   "metadata": {},
   "outputs": [],
   "source": []
  },
  {
   "cell_type": "code",
   "execution_count": null,
   "metadata": {},
   "outputs": [],
   "source": []
  },
  {
   "cell_type": "code",
   "execution_count": null,
   "metadata": {},
   "outputs": [],
   "source": []
  },
  {
   "cell_type": "code",
   "execution_count": null,
   "metadata": {},
   "outputs": [],
   "source": []
  },
  {
   "cell_type": "code",
   "execution_count": 156,
   "metadata": {},
   "outputs": [
    {
     "name": "stdout",
     "output_type": "stream",
     "text": [
      "\u001b[1;32;40m                     Words not occurred:                     \n",
      "\u001b[1;32;0m\n",
      "khat\n",
      "anabolic steroids\n",
      "metanfetamina\n",
      "drone\n",
      "amphetamines\n",
      "cocaína\n",
      "narco trafficking\n",
      "ketamine\n",
      "traficar drogas\n",
      "meow meow\n",
      "crystal meth\n",
      "pregabalin\n",
      "4-mmc\n",
      "4-methyl methcathinone\n",
      "ecstasy\n",
      "methylamphetamine\n",
      "narca\n",
      "el tráfico de drogas\n",
      "psilocybin\n",
      "lsd\n",
      "pwid\n",
      "narcotics traffickers\n",
      "el sporífero\n",
      "drug dealing\n",
      "mephedrone\n",
      "dealing drugs\n",
      "phencyclidine\n",
      "ghb\n",
      "m-cat\n",
      "drug abuse\n",
      "benzodiazepines\n",
      "bath salts\n",
      "psilocyn\n",
      "nicotine\n",
      "narco\n",
      "white magic\n",
      "narcóticos\n",
      "buprenorphine\n",
      "magic mushrooms\n",
      "substance abuse\n",
      "opiate\n",
      "mdma\n"
     ]
    }
   ],
   "source": [
    "print(\"\\033[1;32;40m {}\".format(str.center('Words not occurred: ', 60)))\n",
    "print(\"\\033[1;32;0m\") # we changed our print style in previous line, so withoud changing it to normal we can not print normally in the same cell\n",
    "for i in words_list:\n",
    "    if not i in set(QUERY):\n",
    "        print(i)"
   ]
  },
  {
   "cell_type": "code",
   "execution_count": 194,
   "metadata": {},
   "outputs": [
    {
     "data": {
      "image/png": "[encoded data removed]",
      "text/plain": [
       "<Figure size 2520x1080 with 1 Axes>"
      ]
     },
     "metadata": {},
     "output_type": "display_data"
    }
   ],
   "source": [
    "a = pd.Series(QUERY).value_counts().sort_values(ascending=False)\n",
    "a = a[a>1]\n",
    "plot = a.plot(kind='bar', figsize=(35,15), title = \"Each word Occurrence [if more then One]\", fontsize=35)\n",
    "plot.title.set_size(35)\n",
    "plot.get_figure().savefig(\"a2.png\")"
   ]
  },
  {
   "cell_type": "code",
   "execution_count": 202,
   "metadata": {},
   "outputs": [
    {
     "name": "stderr",
     "output_type": "stream",
     "text": [
      "/usr/lib/python3/dist-packages/ipykernel_launcher.py:6: SettingWithCopyWarning: \n",
      "A value is trying to be set on a copy of a slice from a DataFrame.\n",
      "Try using .loc[row_indexer,col_indexer] = value instead\n",
      "\n",
      "See the caveats in the documentation: http://pandas.pydata.org/pandas-docs/stable/indexing.html#indexing-view-versus-copy\n",
      "  \n"
     ]
    }
   ],
   "source": [
    "adf = pd.DataFrame([QUERY, index_numbers]).T\n",
    "adf.columns = [\"QUERY\", \"index_number\"]\n",
    "grouped_unique = adf.groupby('index_number')['QUERY'].apply(lambda x: \"{%s}\" % ', '.join(x))\n",
    "\n",
    "bdf = df.iloc[grouped_unique.index]\n",
    "bdf[\"QUERY\"] = grouped_unique.values\n",
    "\n",
    "\n",
    "\n",
    "a = bdf.QUERY.str.replace(\"}\", \"\").str.replace(\"{\", \"\").str.strip().str.split(\",\")\n",
    "lst2 = []\n",
    "for i in a:\n",
    "    am = set(list(map(str.strip, i)))\n",
    "    if len(am) > 1:\n",
    "        lst2.append(am)\n",
    "    else:\n",
    "        lst2.append(list(am)[0])\n",
    "\n",
    "bdf.QUERY = lst2\n",
    "\n",
    "bdf.QUERY = [str(i) if (type(i) == set) else i for i in bdf.QUERY.values]\n",
    "bdf.QUERY = bdf.QUERY.astype(\"category\")\n",
    "\n",
    "\n",
    "with open(\"bdf.pkl\", \"wb\") as file:\n",
    "    pickle.dump(bdf, file)"
   ]
  },
  {
   "cell_type": "code",
   "execution_count": 1,
   "metadata": {},
   "outputs": [],
   "source": [
    "# with open(\"bdf.pkl\", \"rb\") as file:\n",
    "#     bdf = pickle.load(file)\n",
    "    \n",
    "# a = bdf.QUERY.value_counts().sort_values(ascending=False)\n",
    "# a = a[a>1]\n",
    "# plot = a.plot(kind='bar', figsize=(35,15), title = \"Each word Occurrence [if more then One] after remove duplicated rows\", fontsize=35)\n",
    "# plot.title.set_size(35)\n",
    "# plot.get_figure().savefig(\"a3.png\")"
   ]
  },
  {
   "cell_type": "code",
   "execution_count": 2,
   "metadata": {},
   "outputs": [],
   "source": [
    "# bdf.to_csv(\"Matched_records.csv\", index=False)\n",
    "# with open(\"Matched_records.pkl\", \"wb\") as file:\n",
    "#     pickle.dump(bdf, file)"
   ]
  },
  {
   "cell_type": "code",
   "execution_count": 261,
   "metadata": {},
   "outputs": [],
   "source": [
    "# percentage of NA's in each variable, 0 means there is no NULL value in the column, and 1 means there is no value in the entire column\n",
    "# pd.DataFrame(bdf.isna().sum().sort_values(ascending=False) / len(bdf))"
   ]
  },
  {
   "cell_type": "code",
   "execution_count": 260,
   "metadata": {},
   "outputs": [],
   "source": [
    "# column order by number of non NA's in the column\n",
    "# bdf[(bdf.isna().sum().sort_values(ascending=True) / len(bdf)).index]"
   ]
  },
  {
   "cell_type": "code",
   "execution_count": null,
   "metadata": {},
   "outputs": [],
   "source": []
  },
  {
   "cell_type": "code",
   "execution_count": null,
   "metadata": {},
   "outputs": [],
   "source": []
  },
  {
   "cell_type": "code",
   "execution_count": null,
   "metadata": {},
   "outputs": [],
   "source": []
  },
  {
   "cell_type": "code",
   "execution_count": 329,
   "metadata": {},
   "outputs": [],
   "source": [
    "pd.set_option('display.max_colwidth', -1)\n",
    "def check():\n",
    "#     word = input(\"Enter you word: \")\n",
    "    word = \"drugs\"\n",
    "    for i in bdf.columns:\n",
    "        try:\n",
    "            a = np.where(bdf[i].str.contains(word))\n",
    "            b = np.where(bdf[i].str.contains(\" \" + word + \" \"))\n",
    "            m = [i for i in a[0] if not i in b[0]]\n",
    "            if m:\n",
    "                print(\"\\033[1;32;40m {}\".format(str.center(\"*\"*10 +i+ \"*\"*10,  60)))\n",
    "                print(\"\\033[1;32;0m\") # we changed our print style in previous line, so withoud changing it to normal we can not print normally in the same cell\n",
    "                print(bdf.iloc[m][i])\n",
    "        except:\n",
    "            pass"
   ]
  }
 ],
 "metadata": {
  "kernelspec": {
   "display_name": "Python 3",
   "language": "python",
   "name": "python3"
  },
  "language_info": {
   "codemirror_mode": {
    "name": "ipython",
    "version": 3
   },
   "file_extension": ".py",
   "mimetype": "text/x-python",
   "name": "python",
   "nbconvert_exporter": "python",
   "pygments_lexer": "ipython3",
   "version": "3.6.8"
  }
 },
 "nbformat": 4,
 "nbformat_minor": 2
}
