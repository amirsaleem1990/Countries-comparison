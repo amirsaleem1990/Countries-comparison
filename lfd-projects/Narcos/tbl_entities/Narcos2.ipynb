{
 "cells": [
  {
   "cell_type": "markdown",
   "metadata": {},
   "source": [
    "# Qeuery_cell_column_index with duplacte observations"
   ]
  },
  {
   "cell_type": "code",
   "execution_count": 2,
   "metadata": {},
   "outputs": [],
   "source": [
    "import pickle\n",
    "import pandas as pd\n",
    "import numpy as np\n",
    "columns = ['EID', 'EDateTime', 'SubListID', 'ECategory', 'OrigName', 'Address', 'DOB', 'Nationality', 'Designation', 'Organization', 'Title', 'DO_Inclusion', 'DO_Exclusion', 'Aliases', \n",
    "           'Matching', 'ListType', 'Remarks', 'Status', 'Gender', 'Last_Occupation', 'Documents', 'Initials', 'Name', 'Image']\n",
    "           \n",
    "with open(\"../../../list_of_lists_scraped.pkl\", \"rb\") as file:\n",
    "    lst = pickle.load(file)    \n",
    "\n",
    "for i in range(len(lst)):\n",
    "    lst[i] = list(lst[i]) # the <lst> is list of tuples, and tuple is immutable, so we have to change it to list to modify it\n",
    "    for j in range(len(lst[i])):\n",
    "        if isinstance(lst[i][j], str):\n",
    "            lst[i][j] = lst[i][j].replace(\"\\n\", \"||n\").\\\n",
    "                                    replace(\"\\r\", \"||r\").\\\n",
    "                                    replace(\"\\t\", \"||t\").\\\n",
    "                                    replace(\"\\\\u\", \"||u\").\\\n",
    "                                    replace(\"\\\\x\", \"||x\").\\\n",
    "                                    replace(\";\", \", \").strip().lower()\n",
    "\n",
    "\n",
    "df = pd.DataFrame(lst, columns = columns)\n",
    "\n",
    "for i in df:\n",
    "    if df[i].dtype == \"object\":\n",
    "        df[i] = list(df[i].str.lower())"
   ]
  },
  {
   "cell_type": "code",
   "execution_count": 3,
   "metadata": {},
   "outputs": [],
   "source": [
    "words_list = ['ketamine', 'drug dealing', 'alcohol', 'substance abuse', 'drug trafficking', 'traficar drogas', \n",
    "              'el sporífero', '4-methyl methcathinone', 'poppy', 'kat', 'solvents', 'narco-traffickers', 'pregabalin', \n",
    "              'opium', 'narco trafficking', 'psilocybin', 'anabolic steroids', 'intoxicated', 'narcóticos', 'opiate', \n",
    "              'oxycodone', 'ecstasy', 'heroin', 'drogas', 'narca', 'drugs', 'nicotine', 'crystal meth', 'ketamine', 'drug', \n",
    "              'drug dealing', 'cocaína', 'narco', 'narcotics', 'methylamphetamine', 'buprenorphine', 'alcohol', \n",
    "              'dealing drugs', 'benzodiazepines', 'tobacco', 'benzodiazepines', 'el tráfico de drogas', \n",
    "              '4-methyl methcathinone', 'narco', 'ghb', 'lsd', 'narco-traffickers', 'white magic', 'm-cat', 'pcp', \n",
    "              'metanfetamina', 'mdma', 'amphetamines', 'psilocyn', 'narco trafficking', '4-mmc', 'drug abuse', \n",
    "              'narcotics traffickers', 'ghb', 'cannabis', 'magic mushrooms', 'cocaine', 'pwid', 'drug dealing', 'heroin', \n",
    "              'drug trafficking', 'khat', 'morphine', 'mephedrone', 'meow meow', 'drone', 'phencyclidine', 'bath salts', \n",
    "              'buprenorphine']"
   ]
  },
  {
   "cell_type": "code",
   "execution_count": 4,
   "metadata": {},
   "outputs": [],
   "source": [
    "df.to_csv(\"master-table.csv\")"
   ]
  },
  {
   "cell_type": "code",
   "execution_count": 5,
   "metadata": {},
   "outputs": [
    {
     "data": {
      "text/html": [
       "<div>\n",
       "<style scoped>\n",
       "    .dataframe tbody tr th:only-of-type {\n",
       "        vertical-align: middle;\n",
       "    }\n",
       "\n",
       "    .dataframe tbody tr th {\n",
       "        vertical-align: top;\n",
       "    }\n",
       "\n",
       "    .dataframe thead th {\n",
       "        text-align: right;\n",
       "    }\n",
       "</style>\n",
       "<table border=\"1\" class=\"dataframe\">\n",
       "  <thead>\n",
       "    <tr style=\"text-align: right;\">\n",
       "      <th></th>\n",
       "      <th>index_numbers</th>\n",
       "      <th>QUERY</th>\n",
       "      <th>column_name</th>\n",
       "    </tr>\n",
       "  </thead>\n",
       "  <tbody>\n",
       "    <tr>\n",
       "      <th>0</th>\n",
       "      <td>165717</td>\n",
       "      <td>alcohol</td>\n",
       "      <td>OrigName</td>\n",
       "    </tr>\n",
       "    <tr>\n",
       "      <th>1</th>\n",
       "      <td>16232</td>\n",
       "      <td>alcohol</td>\n",
       "      <td>Remarks</td>\n",
       "    </tr>\n",
       "    <tr>\n",
       "      <th>2</th>\n",
       "      <td>107257</td>\n",
       "      <td>alcohol</td>\n",
       "      <td>Remarks</td>\n",
       "    </tr>\n",
       "    <tr>\n",
       "      <th>3</th>\n",
       "      <td>108968</td>\n",
       "      <td>alcohol</td>\n",
       "      <td>Remarks</td>\n",
       "    </tr>\n",
       "    <tr>\n",
       "      <th>4</th>\n",
       "      <td>108980</td>\n",
       "      <td>alcohol</td>\n",
       "      <td>Remarks</td>\n",
       "    </tr>\n",
       "  </tbody>\n",
       "</table>\n",
       "</div>"
      ],
      "text/plain": [
       "   index_numbers    QUERY column_name\n",
       "0         165717  alcohol    OrigName\n",
       "1          16232  alcohol     Remarks\n",
       "2         107257  alcohol     Remarks\n",
       "3         108968  alcohol     Remarks\n",
       "4         108980  alcohol     Remarks"
      ]
     },
     "execution_count": 5,
     "metadata": {},
     "output_type": "execute_result"
    }
   ],
   "source": [
    "columns_contains_query = []\n",
    "index_numbers = []\n",
    "QUERY = []\n",
    "for query in words_list:\n",
    "    query_only_word = f\" {query} \" # 1508 results\n",
    "    for i in df.dtypes[df.dtypes == 'O'].index:\n",
    "            if any(df[i].str.contains(query_only_word).unique()):\n",
    "                m = np.where(df[i].str.contains(query_only_word))\n",
    "                index_numbers += m[0].tolist()\n",
    "                QUERY += [query] * len(m[0].tolist())\n",
    "                columns_contains_query += ([i] * len(m[0].tolist()))               \n",
    "\n",
    "adf = pd.DataFrame({\"index_numbers\" : index_numbers,\n",
    "                   \"QUERY\" : QUERY,\n",
    "                   \"column_name\" : columns_contains_query})\n",
    "adf.head()"
   ]
  },
  {
   "cell_type": "code",
   "execution_count": 6,
   "metadata": {},
   "outputs": [
    {
     "data": {
      "text/plain": [
       "drug                 426\n",
       "drug trafficking     416\n",
       "drugs                390\n",
       "narcotics            263\n",
       "tobacco              158\n",
       "heroin                32\n",
       "alcohol               18\n",
       "cocaine               14\n",
       "drogas                 9\n",
       "solvents               8\n",
       "kat                    5\n",
       "cannabis               3\n",
       "pcp                    2\n",
       "narco-traffickers      2\n",
       "morphine               1\n",
       "oxycodone              1\n",
       "opium                  1\n",
       "intoxicated            1\n",
       "poppy                  1\n",
       "Name: QUERY, dtype: int64"
      ]
     },
     "execution_count": 6,
     "metadata": {},
     "output_type": "execute_result"
    }
   ],
   "source": [
    "adf.QUERY.value_counts()"
   ]
  },
  {
   "cell_type": "code",
   "execution_count": 7,
   "metadata": {},
   "outputs": [
    {
     "data": {
      "text/html": [
       "<div>\n",
       "<style scoped>\n",
       "    .dataframe tbody tr th:only-of-type {\n",
       "        vertical-align: middle;\n",
       "    }\n",
       "\n",
       "    .dataframe tbody tr th {\n",
       "        vertical-align: top;\n",
       "    }\n",
       "\n",
       "    .dataframe thead th {\n",
       "        text-align: right;\n",
       "    }\n",
       "</style>\n",
       "<table border=\"1\" class=\"dataframe\">\n",
       "  <thead>\n",
       "    <tr style=\"text-align: right;\">\n",
       "      <th></th>\n",
       "      <th>Index</th>\n",
       "      <th>Query</th>\n",
       "      <th>Cell</th>\n",
       "      <th>column</th>\n",
       "    </tr>\n",
       "  </thead>\n",
       "  <tbody>\n",
       "    <tr>\n",
       "      <th>0</th>\n",
       "      <td>165717</td>\n",
       "      <td>alcohol</td>\n",
       "      <td>star industrial alcohol (pvt) ltd.</td>\n",
       "      <td>OrigName</td>\n",
       "    </tr>\n",
       "    <tr>\n",
       "      <th>1</th>\n",
       "      <td>16232</td>\n",
       "      <td>alcohol</td>\n",
       "      <td>in addition to serving as uday saddam hussein’...</td>\n",
       "      <td>Remarks</td>\n",
       "    </tr>\n",
       "    <tr>\n",
       "      <th>2</th>\n",
       "      <td>107257</td>\n",
       "      <td>alcohol</td>\n",
       "      <td>post/zip code:  other information: served as u...</td>\n",
       "      <td>Remarks</td>\n",
       "    </tr>\n",
       "    <tr>\n",
       "      <th>3</th>\n",
       "      <td>108968</td>\n",
       "      <td>alcohol</td>\n",
       "      <td>post/zip code:  other information: served as u...</td>\n",
       "      <td>Remarks</td>\n",
       "    </tr>\n",
       "    <tr>\n",
       "      <th>4</th>\n",
       "      <td>108980</td>\n",
       "      <td>alcohol</td>\n",
       "      <td>post/zip code:  other information: served as u...</td>\n",
       "      <td>Remarks</td>\n",
       "    </tr>\n",
       "  </tbody>\n",
       "</table>\n",
       "</div>"
      ],
      "text/plain": [
       "    Index    Query                                               Cell  \\\n",
       "0  165717  alcohol                 star industrial alcohol (pvt) ltd.   \n",
       "1   16232  alcohol  in addition to serving as uday saddam hussein’...   \n",
       "2  107257  alcohol  post/zip code:  other information: served as u...   \n",
       "3  108968  alcohol  post/zip code:  other information: served as u...   \n",
       "4  108980  alcohol  post/zip code:  other information: served as u...   \n",
       "\n",
       "     column  \n",
       "0  OrigName  \n",
       "1   Remarks  \n",
       "2   Remarks  \n",
       "3   Remarks  \n",
       "4   Remarks  "
      ]
     },
     "execution_count": 7,
     "metadata": {},
     "output_type": "execute_result"
    }
   ],
   "source": [
    "cell = []\n",
    "column_name = []\n",
    "query = []\n",
    "index_num = []\n",
    "\n",
    "for i in adf.iterrows():\n",
    "    ind,q,c_name = i[1]\n",
    "    cell.append(df.loc[ind, c_name])\n",
    "    column_name.append(c_name)\n",
    "    query.append(q)\n",
    "    index_num.append(ind)\n",
    "    \n",
    "bdf = pd.DataFrame({\"Index\" : index_num,\n",
    "                    \"Query\" : query,\n",
    "                    \"Cell\"  : cell,\n",
    "                    \"column\": column_name})\n",
    "\n",
    "bdf.head()"
   ]
  },
  {
   "cell_type": "code",
   "execution_count": 10,
   "metadata": {},
   "outputs": [],
   "source": [
    "bdf.to_csv(\"Qeuery_cell_column_index.csv\")"
   ]
  },
  {
   "cell_type": "code",
   "execution_count": 1,
   "metadata": {},
   "outputs": [
    {
     "name": "stdout",
     "output_type": "stream",
     "text": [
      "1752 Qeuery_cell_column_index.csv\n"
     ]
    }
   ],
   "source": [
    "!wc -l Qeuery_cell_column_index.csv"
   ]
  },
  {
   "cell_type": "code",
   "execution_count": null,
   "metadata": {},
   "outputs": [],
   "source": []
  },
  {
   "cell_type": "code",
   "execution_count": null,
   "metadata": {},
   "outputs": [],
   "source": []
  },
  {
   "cell_type": "code",
   "execution_count": null,
   "metadata": {},
   "outputs": [],
   "source": []
  },
  {
   "cell_type": "code",
   "execution_count": null,
   "metadata": {},
   "outputs": [],
   "source": []
  },
  {
   "cell_type": "markdown",
   "metadata": {},
   "source": [
    "# Qeuery_cell_column_index without duplacte observations"
   ]
  },
  {
   "cell_type": "code",
   "execution_count": 8,
   "metadata": {},
   "outputs": [
    {
     "data": {
      "text/html": [
       "<div>\n",
       "<style scoped>\n",
       "    .dataframe tbody tr th:only-of-type {\n",
       "        vertical-align: middle;\n",
       "    }\n",
       "\n",
       "    .dataframe tbody tr th {\n",
       "        vertical-align: top;\n",
       "    }\n",
       "\n",
       "    .dataframe thead th {\n",
       "        text-align: right;\n",
       "    }\n",
       "</style>\n",
       "<table border=\"1\" class=\"dataframe\">\n",
       "  <thead>\n",
       "    <tr style=\"text-align: right;\">\n",
       "      <th></th>\n",
       "      <th>Index</th>\n",
       "      <th>column</th>\n",
       "      <th>Query</th>\n",
       "    </tr>\n",
       "  </thead>\n",
       "  <tbody>\n",
       "    <tr>\n",
       "      <th>0</th>\n",
       "      <td>2181</td>\n",
       "      <td>Remarks</td>\n",
       "      <td>{'drug trafficking', 'drug'}</td>\n",
       "    </tr>\n",
       "    <tr>\n",
       "      <th>1</th>\n",
       "      <td>2182</td>\n",
       "      <td>Remarks</td>\n",
       "      <td>{'drug trafficking', 'drug'}</td>\n",
       "    </tr>\n",
       "    <tr>\n",
       "      <th>2</th>\n",
       "      <td>2302</td>\n",
       "      <td>Address</td>\n",
       "      <td>kat</td>\n",
       "    </tr>\n",
       "    <tr>\n",
       "      <th>3</th>\n",
       "      <td>2510</td>\n",
       "      <td>Remarks</td>\n",
       "      <td>{'drug trafficking', 'drug'}</td>\n",
       "    </tr>\n",
       "    <tr>\n",
       "      <th>4</th>\n",
       "      <td>2543</td>\n",
       "      <td>Remarks</td>\n",
       "      <td>{'drug trafficking', 'drug'}</td>\n",
       "    </tr>\n",
       "  </tbody>\n",
       "</table>\n",
       "</div>"
      ],
      "text/plain": [
       "   Index   column                         Query\n",
       "0   2181  Remarks  {'drug trafficking', 'drug'}\n",
       "1   2182  Remarks  {'drug trafficking', 'drug'}\n",
       "2   2302  Address                           kat\n",
       "3   2510  Remarks  {'drug trafficking', 'drug'}\n",
       "4   2543  Remarks  {'drug trafficking', 'drug'}"
      ]
     },
     "execution_count": 8,
     "metadata": {},
     "output_type": "execute_result"
    }
   ],
   "source": [
    "grouped_unique_Query = bdf.groupby('Index')['Query'].apply(lambda x: \"{%s}\" % ', '.join(x))\n",
    "grouped_unique_column = bdf.groupby('Index')['column'].apply(lambda x: \"{%s}\" % ', '.join(x))\n",
    "\n",
    "a = grouped_unique_Query.str.replace(\"}\", \"\").str.replace(\"{\", \"\").str.strip().str.split(\",\")\n",
    "b = grouped_unique_column.str.replace(\"}\", \"\").str.replace(\"{\", \"\").str.strip().str.split(\",\")\n",
    "lst3 = []\n",
    "for ii,BB in zip([a,b], [grouped_unique_Query, grouped_unique_column]):\n",
    "    lst2 = []\n",
    "    for i in ii:\n",
    "        am = set(list(map(str.strip, i)))\n",
    "        if len(am) > 1:\n",
    "            lst2.append(am)\n",
    "        else:\n",
    "            lst2.append(list(am)[0])\n",
    "\n",
    "    lst3.append([str(i) if (type(i) == set) else i for i in lst2])\n",
    "\n",
    "cdf = pd.DataFrame({\"Index\" : grouped_unique_Query.index,\n",
    "              \"column\" : lst3[1],\n",
    "              \"Query\" :  lst3[0]})\n",
    "\n",
    "\n",
    "cdf.head()"
   ]
  },
  {
   "cell_type": "code",
   "execution_count": 9,
   "metadata": {},
   "outputs": [],
   "source": [
    "cdf.to_csv(\"Query_column_index-without-duplacte-observations.csv\")"
   ]
  },
  {
   "cell_type": "markdown",
   "metadata": {},
   "source": [
    "# Removing observations that contain one of [pvt, ltd, limited, private] after some characters after our Query word`"
   ]
  },
  {
   "cell_type": "code",
   "execution_count": 12,
   "metadata": {},
   "outputs": [
    {
     "name": "stdout",
     "output_type": "stream",
     "text": [
      "Observations shoul remove after this operation 236\n",
      "{'Organization', 'OrigName', 'Name'}\n"
     ]
    },
    {
     "data": {
      "text/plain": [
       "1751"
      ]
     },
     "execution_count": 12,
     "metadata": {},
     "output_type": "execute_result"
    }
   ],
   "source": [
    "indexx = []\n",
    "cols = []\n",
    "for i in bdf.iterrows():\n",
    "    ind, q, cel, column = i[1]\n",
    "    if (\"pvt\" in cel[cel.index(q)+len(q):cel.index(q)+len(q)+8].lower()) \\\n",
    "    or (\"ltd\" in cel[cel.index(q)+len(q):cel.index(q)+len(q)+8].lower()) \\\n",
    "    or (\"limited\" in cel[cel.index(q)+len(q):cel.index(q)+len(q)+13].lower()) \\\n",
    "    or (\"private\" in cel[cel.index(q)+len(q):cel.index(q)+len(q)+13].lower()):\n",
    "        indexx.append(ind)\n",
    "        cols.append(column)\n",
    "print(\"Observations shoul remove after this operation\", len(indexx))\n",
    "print(set(cols))\n",
    "\n",
    "len(bdf)"
   ]
  },
  {
   "cell_type": "code",
   "execution_count": 13,
   "metadata": {},
   "outputs": [],
   "source": [
    "ddf = bdf[~bdf.Index.isin(indexx)]\n",
    "ddf.to_csv(\"after_removing_pvt_etc.csv\")"
   ]
  },
  {
   "cell_type": "markdown",
   "metadata": {},
   "source": [
    "# PCP only 2 times"
   ]
  },
  {
   "cell_type": "code",
   "execution_count": 14,
   "metadata": {},
   "outputs": [
    {
     "name": "stdout",
     "output_type": "stream",
     "text": [
      "{\"info\": [{\"aka\": \"shining path\"}, {\"aka\": \" partido comunista del peru en el sendero luminoso de jose carlos mariategui\"}, {\"aka\": \" communist party of peru on the shining path of jose carlos mariategui\"}, {\"aka\": \" partido comunista del peru\"}, {\"aka\": \" communist party of peru\"}, {\"aka\": \" the communist party of peru by the shining path of jose carlos mariategui and marxism\"}, {\"aka\": \" leninism\"}, {\"aka\": \" maoism and the thoughts of chairman gonzalo\"}, {\"aka\": \" revolutionary student front for the shining path of mariategui\"}, {\"aka\": \" communist party of peru - by way of the shining path of mariategui\"}, {\"aka\": \" pcp - por el sendero luminoso de mariategui\"}, {\"aka\": \" pcp and pcp-sl\"}]}\n",
      "{\"info\": [{\"aka\": \"sp\"}, {\"aka\": \" sendero luminoso\"}, {\"aka\": \" the peruvian communist party\"}, {\"aka\": \" pcp-sl\"}, {\"aka\": \" pcp\"}, {\"aka\": \" sl\"}, {\"aka\": \" partido comunista del peru en el sendero luminoso de jose carlos mariategui\"}, {\"aka\": \" communist party of peru on the shining path of jose carlos mariategui\"}, {\"aka\": \" partido comunista del peru\"}, {\"aka\": \" communist party of peru\"}, {\"aka\": \" the communist party of peru by the shining path of jose carlos mariategui and marxism\"}, {\"aka\": \" leninism\"}, {\"aka\": \" maoism and the thoughts of chairman gonzalo\"}, {\"aka\": \" revolutionary student front for the shining path of mariategui\"}, {\"aka\": \" communist party of peru - by way of the shining path of mariategui\"}, {\"aka\": \" pcp - por el sendero luminoso de mariategui\"}, {\"aka\": \" ejercito guerrillero popular\"}, {\"aka\": \" ejercito popular de liberacion\"}, {\"aka\": \" egp\"}, {\"aka\": \" epl\"}, {\"aka\": \" peoples aid of peru\"}, {\"aka\": \" peoples guerrilla army and peoples liberation army\"}]}\n"
     ]
    }
   ],
   "source": [
    "ii = []\n",
    "for i in bdf.iterrows():\n",
    "    ind, q, cel, column = i[1]\n",
    "    if \"pcp\" in cel:\n",
    "        print(cel)"
   ]
  },
  {
   "cell_type": "code",
   "execution_count": 15,
   "metadata": {},
   "outputs": [
    {
     "data": {
      "text/plain": [
       "905"
      ]
     },
     "execution_count": 15,
     "metadata": {},
     "output_type": "execute_result"
    }
   ],
   "source": [
    "ddf.Index.nunique()"
   ]
  },
  {
   "cell_type": "code",
   "execution_count": null,
   "metadata": {},
   "outputs": [],
   "source": []
  }
 ],
 "metadata": {
  "kernelspec": {
   "display_name": "Python 3",
   "language": "python",
   "name": "python3"
  },
  "language_info": {
   "codemirror_mode": {
    "name": "ipython",
    "version": 3
   },
   "file_extension": ".py",
   "mimetype": "text/x-python",
   "name": "python",
   "nbconvert_exporter": "python",
   "pygments_lexer": "ipython3",
   "version": "3.6.8"
  }
 },
 "nbformat": 4,
 "nbformat_minor": 2
}
