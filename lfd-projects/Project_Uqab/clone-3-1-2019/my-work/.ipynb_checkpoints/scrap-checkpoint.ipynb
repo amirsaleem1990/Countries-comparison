{
 "cells": [
  {
   "cell_type": "code",
   "execution_count": null,
   "metadata": {},
   "outputs": [],
   "source": [
    "from bs4 import BeautifulSoup\n",
    "import pandas as pd\n",
    "import requests\n",
    "\n",
    "url = \"https://tradecommissioner.gc.ca/italy-italie/visit-info-visiteur/6842.aspx?lang=eng#rome\"\n",
    "try:\n",
    "    html = requests.get(url).text\n",
    "    soup = BeautifulSoup(html, \"lxml\")\n",
    "    link = []\n",
    "    name = []\n",
    "    tel = []\n",
    "    fax = []\n",
    "    email = []\n",
    "    act = []\n",
    "    c = 1\n",
    "    a = soup.find(\"div\", {\"class\" : \"span-6\"}).findAll(\"p\")[2:]\n",
    "    for i in a[:16]:\n",
    "        aa = str(i).replace(\"<br/>\", \"\\n\").splitlines()#.splitlines()))\n",
    "        if ' '.join(aa).split().count(\"Tel.:\") > 1:\n",
    "            aa = ' '.join(aa).replace(\"Tel\", \"\", 1)\n",
    "        for z in aa:        \n",
    "            if not z.startswith(\"<p><a href\"):\n",
    "                pass\n",
    "            else:\n",
    "                name.append(z[z.index(\"<strong>\")+8:].replace(\"</strong></a>\", \"\").strip())\n",
    "            if z.startswith(\"Tel\"): tel.append(z)\n",
    "            if z.startswith(\"Fax\"): fax.append(z)\n",
    "            if z.startswith(\"Email\"): email.append(z.replace(\"<a href=\", \"\").replace(\"</strong></a>\", \"\"))\n",
    "            if z.startswith(\"Activities\"): act.append(z.replace(\"</p>\", \"\"))\n",
    "        if len(tel) != c:  tel.append(' ')\n",
    "        if len(name) != c: name.append(' ')\n",
    "        if len(fax) != c: fax.append(' ')\n",
    "        if len(email) != c: email.append(' ')\n",
    "        if len(act) != c: act.append(' ')\n",
    "        c += 1\n",
    "    df = pd.DataFrame()\n",
    "    df['Tel'] = tel\n",
    "    df['Name'] = name\n",
    "    df['Fax'] = fax\n",
    "    df['Email'] = email\n",
    "    df['Activities'] = act\n",
    "    df.to_csv(\"tradecommissioner.csv\", index=False)\n",
    "except:\n",
    "    pass"
   ]
  },
  {
   "cell_type": "code",
   "execution_count": null,
   "metadata": {},
   "outputs": [],
   "source": []
  },
  {
   "cell_type": "code",
   "execution_count": null,
   "metadata": {},
   "outputs": [],
   "source": []
  }
 ],
 "metadata": {
  "kernelspec": {
   "display_name": "Python 3",
   "language": "python",
   "name": "python3"
  },
  "language_info": {
   "codemirror_mode": {
    "name": "ipython",
    "version": 3
   },
   "file_extension": ".py",
   "mimetype": "text/x-python",
   "name": "python",
   "nbconvert_exporter": "python",
   "pygments_lexer": "ipython3",
   "version": "3.6.4"
  }
 },
 "nbformat": 4,
 "nbformat_minor": 2
}
