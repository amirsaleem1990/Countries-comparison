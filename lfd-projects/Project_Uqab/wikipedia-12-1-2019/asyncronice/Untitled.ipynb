{
 "cells": [
  {
   "cell_type": "code",
   "execution_count": 1,
   "metadata": {},
   "outputs": [
    {
     "ename": "AttributeError",
     "evalue": "'NoneType' object has no attribute 'text'",
     "output_type": "error",
     "traceback": [
      "\u001b[0;31m---------------------------------------------------------------------------\u001b[0m",
      "\u001b[0;31mAttributeError\u001b[0m                            Traceback (most recent call last)",
      "\u001b[0;32m<ipython-input-1-4a4d37238f0a>\u001b[0m in \u001b[0;36m<module>\u001b[0;34m()\u001b[0m\n\u001b[1;32m     69\u001b[0m \u001b[0mreqs\u001b[0m \u001b[0;34m=\u001b[0m \u001b[0;34m[\u001b[0m\u001b[0mgrequests\u001b[0m\u001b[0;34m.\u001b[0m\u001b[0mget\u001b[0m\u001b[0;34m(\u001b[0m\u001b[0mlink\u001b[0m\u001b[0;34m)\u001b[0m \u001b[0;32mfor\u001b[0m \u001b[0mlink\u001b[0m \u001b[0;32min\u001b[0m \u001b[0mlinks\u001b[0m\u001b[0;34m]\u001b[0m\u001b[0;34m\u001b[0m\u001b[0m\n\u001b[1;32m     70\u001b[0m \u001b[0mresp\u001b[0m \u001b[0;34m=\u001b[0m \u001b[0mgrequests\u001b[0m\u001b[0;34m.\u001b[0m\u001b[0mmap\u001b[0m\u001b[0;34m(\u001b[0m\u001b[0mreqs\u001b[0m\u001b[0;34m)\u001b[0m\u001b[0;34m\u001b[0m\u001b[0m\n\u001b[0;32m---> 71\u001b[0;31m \u001b[0msoups\u001b[0m \u001b[0;34m=\u001b[0m \u001b[0;34m[\u001b[0m\u001b[0mBeautifulSoup\u001b[0m\u001b[0;34m(\u001b[0m\u001b[0mr\u001b[0m\u001b[0;34m.\u001b[0m\u001b[0mtext\u001b[0m\u001b[0;34m,\u001b[0m \u001b[0;34m'lxml'\u001b[0m\u001b[0;34m)\u001b[0m \u001b[0;32mfor\u001b[0m \u001b[0mr\u001b[0m \u001b[0;32min\u001b[0m \u001b[0mresp\u001b[0m\u001b[0;34m]\u001b[0m\u001b[0;34m\u001b[0m\u001b[0m\n\u001b[0m\u001b[1;32m     72\u001b[0m \u001b[0minfoboxx\u001b[0m \u001b[0;34m=\u001b[0m\u001b[0;34m[\u001b[0m\u001b[0;34m\"infobox\"\u001b[0m \u001b[0;32min\u001b[0m \u001b[0mstr\u001b[0m\u001b[0;34m(\u001b[0m\u001b[0mi\u001b[0m\u001b[0;34m)\u001b[0m \u001b[0;32mfor\u001b[0m \u001b[0mi\u001b[0m \u001b[0;32min\u001b[0m \u001b[0msoups\u001b[0m\u001b[0;34m]\u001b[0m\u001b[0;34m\u001b[0m\u001b[0m\n\u001b[1;32m     73\u001b[0m \u001b[0;34m\u001b[0m\u001b[0m\n",
      "\u001b[0;32m<ipython-input-1-4a4d37238f0a>\u001b[0m in \u001b[0;36m<listcomp>\u001b[0;34m(.0)\u001b[0m\n\u001b[1;32m     69\u001b[0m \u001b[0mreqs\u001b[0m \u001b[0;34m=\u001b[0m \u001b[0;34m[\u001b[0m\u001b[0mgrequests\u001b[0m\u001b[0;34m.\u001b[0m\u001b[0mget\u001b[0m\u001b[0;34m(\u001b[0m\u001b[0mlink\u001b[0m\u001b[0;34m)\u001b[0m \u001b[0;32mfor\u001b[0m \u001b[0mlink\u001b[0m \u001b[0;32min\u001b[0m \u001b[0mlinks\u001b[0m\u001b[0;34m]\u001b[0m\u001b[0;34m\u001b[0m\u001b[0m\n\u001b[1;32m     70\u001b[0m \u001b[0mresp\u001b[0m \u001b[0;34m=\u001b[0m \u001b[0mgrequests\u001b[0m\u001b[0;34m.\u001b[0m\u001b[0mmap\u001b[0m\u001b[0;34m(\u001b[0m\u001b[0mreqs\u001b[0m\u001b[0;34m)\u001b[0m\u001b[0;34m\u001b[0m\u001b[0m\n\u001b[0;32m---> 71\u001b[0;31m \u001b[0msoups\u001b[0m \u001b[0;34m=\u001b[0m \u001b[0;34m[\u001b[0m\u001b[0mBeautifulSoup\u001b[0m\u001b[0;34m(\u001b[0m\u001b[0mr\u001b[0m\u001b[0;34m.\u001b[0m\u001b[0mtext\u001b[0m\u001b[0;34m,\u001b[0m \u001b[0;34m'lxml'\u001b[0m\u001b[0;34m)\u001b[0m \u001b[0;32mfor\u001b[0m \u001b[0mr\u001b[0m \u001b[0;32min\u001b[0m \u001b[0mresp\u001b[0m\u001b[0;34m]\u001b[0m\u001b[0;34m\u001b[0m\u001b[0m\n\u001b[0m\u001b[1;32m     72\u001b[0m \u001b[0minfoboxx\u001b[0m \u001b[0;34m=\u001b[0m\u001b[0;34m[\u001b[0m\u001b[0;34m\"infobox\"\u001b[0m \u001b[0;32min\u001b[0m \u001b[0mstr\u001b[0m\u001b[0;34m(\u001b[0m\u001b[0mi\u001b[0m\u001b[0;34m)\u001b[0m \u001b[0;32mfor\u001b[0m \u001b[0mi\u001b[0m \u001b[0;32min\u001b[0m \u001b[0msoups\u001b[0m\u001b[0;34m]\u001b[0m\u001b[0;34m\u001b[0m\u001b[0m\n\u001b[1;32m     73\u001b[0m \u001b[0;34m\u001b[0m\u001b[0m\n",
      "\u001b[0;31mAttributeError\u001b[0m: 'NoneType' object has no attribute 'text'"
     ]
    }
   ],
   "source": [
    "def wiki_persnol_informations(soup):\n",
    "    try:        info = soup.find(\"table\", { \"class\" : \"infobox vcard\" }).select('tr')\n",
    "    except:     info = soup.find(\"table\", { \"class\" : \"infobox biography vcard\" }).select('tr')\n",
    "    d = {}\n",
    "    for i in range(len(info)):\n",
    "        try: \n",
    "            if 'background' in str(info[i].select_one('th')):\n",
    "                a = info[i].select_one('th').text\n",
    "                d[a.lower().replace(',', '|')] = 'th  background'\n",
    "            else:    \n",
    "                a = info[i].select_one('th').text\n",
    "                d[a.lower().replace(',', '|')] = 'th'\n",
    "            a = ''\n",
    "        except: pass\n",
    "        try:\n",
    "            b = info[i].select_one('td').text\n",
    "            d[b.lower().replace(',', '|')] = 'td'\n",
    "            b = ''\n",
    "        except: pass\n",
    "    try:\n",
    "        d.pop('\\n')\n",
    "        d.pip(' ')\n",
    "    except: pass\n",
    "\n",
    "    df = pd.DataFrame()\n",
    "    key = []\n",
    "    value = []\n",
    "    for k,v in d.items():\n",
    "        if not k.startswith('signat'):\n",
    "            key.append(k)\n",
    "            value.append(v)\n",
    "    key = [i.replace(',', '|') for i in key]\n",
    "    df['key'] = key\n",
    "    df['value'] = value\n",
    "\n",
    "    start = df[df['key'].str.startswith('personal')]\n",
    "    start_1 = start.index[0]+1\n",
    "    if len(start.index) > 1: last_1 = start.index[-1]+1\n",
    "    else:                    last_1 = len(df)\n",
    "    last_2 = df.iloc[last_1:]\n",
    "    if len(start.index) > 1:\n",
    "        last = last_2[last_2['value'] == 'th  background'].index[0]\n",
    "    persnol_info = df.iloc[start_1: last_1]\n",
    "    if len(start.index) > 1:\n",
    "        persnol_info.drop(persnol_info[persnol_info['value'].str.endswith('background')].index[0], inplace=True)\n",
    "\n",
    "    \n",
    "    final_1 = pd.DataFrame()\n",
    "    p = persnol_info\n",
    "    th = list(p[p['value'] == 'th']['key'])\n",
    "    td = list(p[p['value'] == 'td']['key'])\n",
    "    final_1['th'] = th\n",
    "    final_1['td'] = td\n",
    "    final_1 = final_1.T\n",
    "    return final_1\n",
    "\n",
    "\n",
    "\n",
    "\n",
    "import os\n",
    "import pandas as pd\n",
    "from bs4 import BeautifulSoup\n",
    "import numpy as np\n",
    "import pickle\n",
    "import grequests\n",
    "\n",
    "\n",
    "links = open('urls.txt', 'r').read().splitlines()\n",
    "reqs = [grequests.get(link) for link in links]\n",
    "resp = grequests.map(reqs)\n",
    "soups = [BeautifulSoup(r.text, 'lxml') for r in resp]\n",
    "infoboxx =[\"infobox\" in str(i) for i in soups]\n",
    "\n",
    "al_df = []\n",
    "ok_urls = []\n",
    "error_dict = {}\n",
    "count = 0\n",
    "total = len(links)\n",
    "\n",
    "\n",
    "for i in soups:\n",
    "    print('Ho gay: |{}|\\t Baqi hen: |{}|\\t {}'.format(count, total - count, round((count / total)*100, 2)), '\\t', len(ok_urls))\n",
    "    count += 1\n",
    "    try:\n",
    "        t = wiki_persnol_informations(i)\n",
    "        al_df.append(t)\n",
    "        ok_urls.append(i)\n",
    "    except Exception as e:\n",
    "        exc_type, exc_obj, exc_tb = sys.exc_info()\n",
    "        if exc_type in error_dict:\n",
    "            error_dict[exc_type].append(i)\n",
    "        else:\n",
    "            error_dict[exc_type] = [i]\n",
    "    \n",
    "    \n",
    "df = pd.DataFrame()\n",
    "for i in al_df:\n",
    "    try:\n",
    "        a = i\n",
    "        a.columns = a.iloc[0]\n",
    "        a = a[1:]\n",
    "        df = df.append(a)\n",
    "    except:\n",
    "        pass\n",
    "df.to_csv(\"final.csv\", index=False)\n",
    "df.shape # (108, 52)"
   ]
  },
  {
   "cell_type": "code",
   "execution_count": 21,
   "metadata": {},
   "outputs": [
    {
     "data": {
      "text/plain": [
       "(41, 305)"
      ]
     },
     "execution_count": 21,
     "metadata": {},
     "output_type": "execute_result"
    }
   ],
   "source": [
    "import time\n",
    "links = open('urls.txt', 'r').read().splitlines()\n",
    "reqs = [grequests.get(link) for link in links]\n",
    "resp = grequests.map(reqs)\n",
    "c = -1\n",
    "soups = []\n",
    "link_error = []\n",
    "for r in resp:\n",
    "    c += 1\n",
    "    try:\n",
    "        soups.append(BeautifulSoup(r.text, 'lxml'))\n",
    "    except:\n",
    "        link_error.append(c)\n",
    "infoboxx =[\"infobox\" in str(i) for i in soups]\n",
    "len(soups), len(link_error)"
   ]
  },
  {
   "cell_type": "code",
   "execution_count": 42,
   "metadata": {},
   "outputs": [
    {
     "data": {
      "text/plain": [
       "34"
      ]
     },
     "execution_count": 42,
     "metadata": {},
     "output_type": "execute_result"
    }
   ],
   "source": [
    "# for i in range(links):\n",
    "#     a = i//5\n",
    "len(links)//10\n"
   ]
  },
  {
   "cell_type": "code",
   "execution_count": null,
   "metadata": {},
   "outputs": [],
   "source": []
  }
 ],
 "metadata": {
  "kernelspec": {
   "display_name": "Python 3",
   "language": "python",
   "name": "python3"
  },
  "language_info": {
   "codemirror_mode": {
    "name": "ipython",
    "version": 3
   },
   "file_extension": ".py",
   "mimetype": "text/x-python",
   "name": "python",
   "nbconvert_exporter": "python",
   "pygments_lexer": "ipython3",
   "version": "3.6.4"
  }
 },
 "nbformat": 4,
 "nbformat_minor": 2
}
