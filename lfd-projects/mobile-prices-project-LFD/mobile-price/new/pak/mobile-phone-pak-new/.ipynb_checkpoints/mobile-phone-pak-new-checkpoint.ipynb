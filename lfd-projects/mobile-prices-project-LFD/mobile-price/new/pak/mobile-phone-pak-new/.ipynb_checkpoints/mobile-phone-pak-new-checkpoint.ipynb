{
 "cells": [
  {
   "cell_type": "code",
   "execution_count": 1,
   "metadata": {},
   "outputs": [],
   "source": [
    "import pandas as pd\n",
    "import requests\n",
    "from bs4 import BeautifulSoup\n",
    "import os\n",
    "import pickle"
   ]
  },
  {
   "cell_type": "code",
   "execution_count": 2,
   "metadata": {},
   "outputs": [],
   "source": [
    "url = \"http://www.mobile-phone.pk/mobile_brands/\"\n",
    "\n",
    "def get_brands_links():\n",
    "    soup = BeautifulSoup(requests.get(url).text, \"lxml\")\n",
    "    brands_links = []\n",
    "    a = soup.find_all(\"div\", {\"class\" : \"block_wrapper\"})[1].find_all(\"div\", {\"class\" : \"table_cell\"})\n",
    "    for i in a:\n",
    "        brands_links.append(i.find(\"a\")['href'])\n",
    "#     with open(\"brands_links.pkl\", \"wb\") as file:\n",
    "#         pickle.dump(brands_links, file)\n",
    "# get_brands_links()"
   ]
  },
  {
   "cell_type": "code",
   "execution_count": null,
   "metadata": {},
   "outputs": [],
   "source": [
    "def get_all_links():\n",
    "    all_links = []\n",
    "    with open(\"brands_links.pkl\", \"rb\") as file:\n",
    "        brands_links = pickle.load(file)\n",
    "\n",
    "    for brand_url in brands_links:\n",
    "        try:\n",
    "            soup = BeautifulSoup(requests.get(brand_url).text, \"lxml\")\n",
    "            one_brand_links = [brand_url]\n",
    "            b = soup.find(\"span\", {\"style\" : \"float: left; margin-left: 5px; line-height: 22px;width: 100%;\"}).\\\n",
    "                                                                    find_all(\"a\")[-1]['href']\n",
    "            pages = int(re.findall('\\d+',b)[0])\n",
    "            for i in range(1, pages+1):\n",
    "                one_brand_links.append(\"{}-{}/\".format(brand_url, i))\n",
    "            all_links += one_brand_links\n",
    "        except:\n",
    "            all_links.append(brand_url)\n",
    "#     with open(\"all_links.pkl\", \"wb\") as file:\n",
    "#         pickle.dump(all_links, file)\n",
    "# get_all_links()"
   ]
  },
  {
   "cell_type": "code",
   "execution_count": null,
   "metadata": {},
   "outputs": [],
   "source": [
    "def links_to_data():\n",
    "    with open(\"all_links.pkl\", \"rb\") as file:\n",
    "        all_links = pickle.load(file)\n",
    "\n",
    "    mobiles = []\n",
    "    prices = []\n",
    "    currency = []\n",
    "    errors = []\n",
    "    ee = 0\n",
    "    for link in all_links:\n",
    "        ee += 1\n",
    "        print(ee, end=\", \")\n",
    "        try:\n",
    "            soup = BeautifulSoup(requests.get(link).text, \"lxml\")\n",
    "            a = soup.find(\"div\", {\"class\" : \"center_mobs\"}).find_all(\"div\", {\"class\" : \"home_page_blocks\"})\n",
    "            m1 = []\n",
    "            cc1 = []\n",
    "            p1 = []\n",
    "            for i in a:\n",
    "                b = i.get_text().strip()\n",
    "                m = b[:b.rfind(\"\\n\")].strip()\n",
    "                c = b[b.find(\"\\n\"):].strip()\n",
    "                if not \"Coming\" in c:\n",
    "                    cc = c[:c.find(\" \")].replace(\".\", \"\").strip()\n",
    "                    p = c[c.find(\" \"):].strip()\n",
    "                else:\n",
    "                    cc = \"Coming Soon\"\n",
    "                    p = \"Coming Soon\"\n",
    "                m1.append(m)\n",
    "                cc1.append(cc)\n",
    "                p1.append(p)\n",
    "            mobiles += m1\n",
    "            currency += cc1\n",
    "            prices += p1\n",
    "        except:\n",
    "            errors.append(link)\n",
    "            pass\n",
    "    if errors:\n",
    "        print(\"There is {} errors, those links with error saved in file *errors.pkl*\".format(len(errors)))\n",
    "#         with open(\"errors3.pkl\", \"wb\") as file: \n",
    "#             pickle.dump(errors, file)\n",
    "#     with open(\"currency.pkl\", \"wb\") as file: \n",
    "#         pickle.dump(currency, file)\n",
    "#     with open(\"prices.pkl\", \"wb\") as file: \n",
    "#         pickle.dump(prices, file)\n",
    "#     with open(\"mobiles.pkl\", \"wb\") as file: \n",
    "#         pickle.dump(mobiles, file)\n",
    "# links_to_data()"
   ]
  },
  {
   "cell_type": "code",
   "execution_count": 3,
   "metadata": {},
   "outputs": [],
   "source": [
    "def data_to_csv():\n",
    "    with open(\"currency.pkl\", \"rb\") as file: \n",
    "        currency = pickle.load(file)\n",
    "    with open(\"prices.pkl\", \"rb\") as file: \n",
    "        prices = pickle.load(file)\n",
    "    with open(\"mobiles.pkl\", \"rb\") as file: \n",
    "        mobiles = pickle.load(file)\n",
    "    new_used = ['new']*len(mobiles)\n",
    "    df = pd.DataFrame()\n",
    "    for i in ['mobiles', 'prices', 'currency', 'new_used']:\n",
    "        df[i] = eval(i)\n",
    "    df['web'] = [url]*len(mobiles)\n",
    "    df.to_csv(\"data-mobile-phone-pak-new.csv\", index=False)\n",
    "data_to_csv()"
   ]
  }
 ],
 "metadata": {
  "kernelspec": {
   "display_name": "Python 3",
   "language": "python",
   "name": "python3"
  },
  "language_info": {
   "codemirror_mode": {
    "name": "ipython",
    "version": 3
   },
   "file_extension": ".py",
   "mimetype": "text/x-python",
   "name": "python",
   "nbconvert_exporter": "python",
   "pygments_lexer": "ipython3",
   "version": "3.6.7"
  }
 },
 "nbformat": 4,
 "nbformat_minor": 2
}
