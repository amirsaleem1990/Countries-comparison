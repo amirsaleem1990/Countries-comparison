{
 "cells": [
  {
   "cell_type": "code",
   "execution_count": 1,
   "metadata": {},
   "outputs": [],
   "source": [
    "import requests\n",
    "from bs4 import BeautifulSoup\n",
    "import os\n",
    "import re\n",
    "import pandas as pd\n",
    "import pickle"
   ]
  },
  {
   "cell_type": "code",
   "execution_count": 2,
   "metadata": {},
   "outputs": [],
   "source": [
    "url = \"https://www.telemart.pk/mobile-and-tablets/mobile-phone.html\"\n",
    "url += \"?limit=all\" # all result in one page\n",
    "def links_to_data():\n",
    "    soup = BeautifulSoup(requests.get(url).text, \"lxml\")\n",
    "    prices = []\n",
    "    mobiles = []\n",
    "    currency = []\n",
    "    a = soup.find(\"div\", {\"id\" : \"catalog-listing\"})\n",
    "    b = a.find_all(\"li\", {\"class\" : \"col-lg-3 col-md-3 col-sm-5 col-xs-12 item\"})\n",
    "    for mobile in b:\n",
    "        c = mobile.find(\"div\", {\"class\" : \"pro-inner\"})\n",
    "        nam = c.find(\"div\", {\"class\" : \"pro-title product-name\"}).get_text().strip()\n",
    "        d = c.find(\"div\", {\"class\" : \"pro-content\"}).get_text().strip()\n",
    "        cur = d.split()[0].strip()\n",
    "        prc = d.split()[-1].strip().replace(\",\", \"\")\n",
    "        prices.append(prc)\n",
    "        currency.append(cur)\n",
    "        mobiles.append(nam)\n",
    "#     with open(\"prices.pkl\", \"wb\") as file: \n",
    "#         pickle.dump(prices, file)\n",
    "#     with open(\"currency.pkl\", \"wb\") as file: \n",
    "#         pickle.dump(currency, file)\n",
    "#     with open(\"mobiles.pkl\", \"wb\") as file: \n",
    "#         pickle.dump(mobiles, file)\n",
    "# links_to_data()"
   ]
  },
  {
   "cell_type": "code",
   "execution_count": 3,
   "metadata": {},
   "outputs": [],
   "source": [
    "def data_to_csv():\n",
    "    with open(\"prices.pkl\", \"rb\") as file:\n",
    "        prices = pickle.load(file)\n",
    "    with open(\"currency.pkl\", \"rb\") as file:\n",
    "        currency = pickle.load(file)\n",
    "    with open(\"mobiles.pkl\", \"rb\") as file:\n",
    "        mobiles = pickle.load(file)\n",
    "    new_used = ['new']*len(mobiles)\n",
    "    df = pd.DataFrame()\n",
    "    for i in ['mobiles', 'prices', 'currency', 'new_used']:\n",
    "        df[i] = eval(i)\n",
    "    df['web'] = [url]*len(mobiles)\n",
    "    df.to_csv(\"data-telemart-pak-new.csv\", index=False)\n",
    "data_to_csv()"
   ]
  }
 ],
 "metadata": {
  "kernelspec": {
   "display_name": "Python 3",
   "language": "python",
   "name": "python3"
  },
  "language_info": {
   "codemirror_mode": {
    "name": "ipython",
    "version": 3
   },
   "file_extension": ".py",
   "mimetype": "text/x-python",
   "name": "python",
   "nbconvert_exporter": "python",
   "pygments_lexer": "ipython3",
   "version": "3.6.7"
  }
 },
 "nbformat": 4,
 "nbformat_minor": 2
}
