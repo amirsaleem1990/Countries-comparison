{
 "cells": [
  {
   "cell_type": "code",
   "execution_count": 1,
   "metadata": {},
   "outputs": [],
   "source": [
    "import requests\n",
    "from bs4 import BeautifulSoup\n",
    "import re\n",
    "import pickle\n",
    "import pandas as pd"
   ]
  },
  {
   "cell_type": "code",
   "execution_count": 24,
   "metadata": {},
   "outputs": [],
   "source": [
    "def data_from_link():\n",
    "    url = \"https://www.whatmobile.com.pk/\"\n",
    "    soup = BeautifulSoup(requests.get(url).text, \"lxml\")\n",
    "    \n",
    "    url = soup.find(\"div\", {\"class\" : \"verticalMenu\"}).find_all(\"section\")[2].find_all(\"li\")[-1].find(\"a\")['href']\n",
    "    url = \"https://www.whatmobile.com.pk/\" + url\n",
    "    soup = BeautifulSoup(requests.get(url).text, \"lxml\")\n",
    "    a = soup.find(\"td\", {\"width\" : \"655\"}).find_all(\"td\", {\"class\" : \"BiggerText\"})\n",
    "    mobiles = []\n",
    "    prices = []\n",
    "    currency = []\n",
    "    for b in a:\n",
    "        try:\n",
    "            n = b.find(\"a\", {\"class\" : \"BiggerText\"}).get_text().strip()\n",
    "            c = b.find(\"span\", {\"class\" : \"PriceFont\"}).get_text().strip()\n",
    "            cc = c.split()[0]\n",
    "            p = ''.join([i for i in c.split()[-1] if i.isnumeric()])\n",
    "            mobiles.append(n)\n",
    "            prices.append(p)\n",
    "            currency.append(cc)\n",
    "        except:\n",
    "            pass\n",
    "    web = [url]*len(mobiles)\n",
    "    with open(\"mobiles.pkl\", \"wb\") as file:\n",
    "        pickle.dump(mobiles, file)\n",
    "    with open(\"prices.pkl\", \"wb\") as file:\n",
    "        pickle.dump(prices, file)\n",
    "    with open(\"currency.pkl\", \"wb\") as file:\n",
    "        pickle.dump(currency, file)\n",
    "    with open(\"web.pkl\", \"wb\") as file:\n",
    "        pickle.dump(web, file)\n",
    "# data_from_link()"
   ]
  },
  {
   "cell_type": "code",
   "execution_count": 2,
   "metadata": {},
   "outputs": [],
   "source": [
    "def data_to_csv():\n",
    "    with open(\"mobiles.pkl\", \"rb\") as file:\n",
    "        mobiles= pickle.load(file)\n",
    "    with open(\"prices.pkl\", \"rb\") as file:\n",
    "        prices= pickle.load(file)\n",
    "    with open(\"currency.pkl\", \"rb\") as file:\n",
    "        currency= pickle.load(file)\n",
    "    with open(\"web.pkl\", \"rb\") as file:\n",
    "        web= pickle.load(file)\n",
    "    new_used = ['new']*len(mobiles)\n",
    "    df = pd.DataFrame()\n",
    "    for i in ['mobiles', 'prices', 'currency','new_used', 'web']:\n",
    "        df[i] = eval(i)\n",
    "    df.to_csv(\"whatmobile-pak-new-data.csv\", index=False)\n",
    "data_to_csv()"
   ]
  }
 ],
 "metadata": {
  "kernelspec": {
   "display_name": "Python 3",
   "language": "python",
   "name": "python3"
  },
  "language_info": {
   "codemirror_mode": {
    "name": "ipython",
    "version": 3
   },
   "file_extension": ".py",
   "mimetype": "text/x-python",
   "name": "python",
   "nbconvert_exporter": "python",
   "pygments_lexer": "ipython3",
   "version": "3.6.7"
  }
 },
 "nbformat": 4,
 "nbformat_minor": 2
}
