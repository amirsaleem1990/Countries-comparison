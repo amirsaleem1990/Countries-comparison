{
 "cells": [
  {
   "cell_type": "code",
   "execution_count": 1,
   "metadata": {},
   "outputs": [],
   "source": [
    "import requests\n",
    "from bs4 import BeautifulSoup\n",
    "import pickle\n",
    "import os\n",
    "import pandas as pd"
   ]
  },
  {
   "cell_type": "code",
   "execution_count": 2,
   "metadata": {},
   "outputs": [],
   "source": [
    "url = \"https://www.ennap.com/mobiles-tablets-mobile-phones-1\"\n",
    "def all_links():\n",
    "    soup = BeautifulSoup(requests.get(url).text, \"lxml\")\n",
    "    a = soup.find(\"ul\", {\"class\" : \"nav nav-pills nav-stacked\"}).find_all(\"li\")\n",
    "    links = [url]\n",
    "    results_qty = int(soup.find_all(\"span\", {\"class\" : \"xt_product_count\"})[-1].get_text())\n",
    "    if results_qty % 20 == 0:\n",
    "        q = results_qty\n",
    "    else:\n",
    "        q = int(results_qty / 20) + 1\n",
    "    for i in range(2, q+1):\n",
    "        links.append(url + \"/page/\" + str(i))\n",
    "    # with open(\"all_links.pkl\", \"wb\") as file:\n",
    "    #     pickle.dump(links, file)"
   ]
  },
  {
   "cell_type": "code",
   "execution_count": 10,
   "metadata": {},
   "outputs": [],
   "source": [
    "def data_from_links():\n",
    "    currency = []\n",
    "    mobiles = []\n",
    "    price = []\n",
    "    with open(\"all_links.pkl\", 'rb') as file:\n",
    "        links = pickle.load(file)\n",
    "    for url in links:\n",
    "        soup = BeautifulSoup(requests.get(url).text, \"lxml\")\n",
    "        a = soup.find(\"div\", {\"id\" : \"products_grid\"}).\\\n",
    "        select(\"div\", {\"class\" : \"oe_product oe_list oe_product_cart list-view-css\"})\n",
    "        for i in a:\n",
    "            try:\n",
    "                b = i.find(\"div\", {\"itemscope\" : \"itemscope\"}).find(\"section\")\n",
    "                m = b.find(\"a\").get_text()\n",
    "                c = b.find(\"span\", {\"data-oe-type\" : \"monetary\"}).get_text()\n",
    "                p = ''.join([i for i in c if i.isnumeric()])\n",
    "                cc = c.split()[0]\n",
    "                mobiles.append(m)\n",
    "                price.append(p)\n",
    "                currency.append(cc)\n",
    "            except:\n",
    "                pass\n",
    "    url = [url]*len(mobiles)\n",
    "    with open(\"mobiles.pkl\", \"wb\") as file:\n",
    "        pickle.dump(mobiles, file)\n",
    "    with open(\"prices.pkl\", \"wb\") as file:\n",
    "        pickle.dump(price, file)\n",
    "    with open(\"currency.pkl\", \"wb\") as file:\n",
    "        pickle.dump(currency, file)\n",
    "    with open(\"url.pkl\", \"wb\") as file:\n",
    "        pickle.dump(url, file)\n",
    "# data_from_links()"
   ]
  },
  {
   "cell_type": "code",
   "execution_count": 3,
   "metadata": {},
   "outputs": [],
   "source": [
    "def data_to_csv():\n",
    "    with open(\"mobiles.pkl\", \"rb\") as file:\n",
    "        mobiles = pickle.load(file)\n",
    "    with open(\"prices.pkl\", \"rb\") as file:\n",
    "        prices = pickle.load(file)\n",
    "    with open(\"currency.pkl\", \"rb\") as file:\n",
    "        currency = pickle.load(file)\n",
    "    with open(\"url.pkl\", \"rb\") as file:\n",
    "        web = pickle.load(file)\n",
    "    new_used = ['new']*len(mobiles)\n",
    "    df = pd.DataFrame()\n",
    "    for i in ['mobiles','prices','currency', 'new_used','web']:\n",
    "        df[i] = eval(i)\n",
    "    df.to_csv(\"ennap-new-egypt.csv\", index=False)\n",
    "data_to_csv()"
   ]
  }
 ],
 "metadata": {
  "kernelspec": {
   "display_name": "Python 3",
   "language": "python",
   "name": "python3"
  },
  "language_info": {
   "codemirror_mode": {
    "name": "ipython",
    "version": 3
   },
   "file_extension": ".py",
   "mimetype": "text/x-python",
   "name": "python",
   "nbconvert_exporter": "python",
   "pygments_lexer": "ipython3",
   "version": "3.6.7"
  }
 },
 "nbformat": 4,
 "nbformat_minor": 2
}
