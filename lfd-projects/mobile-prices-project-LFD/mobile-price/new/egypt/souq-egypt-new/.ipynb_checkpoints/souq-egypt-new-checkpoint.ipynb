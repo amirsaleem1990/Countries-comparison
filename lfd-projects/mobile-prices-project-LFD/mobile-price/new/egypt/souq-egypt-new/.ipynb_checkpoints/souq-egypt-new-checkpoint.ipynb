{
 "cells": [
  {
   "cell_type": "code",
   "execution_count": 1,
   "metadata": {},
   "outputs": [],
   "source": [
    "import requests\n",
    "from bs4 import BeautifulSoup\n",
    "import pickle\n",
    "import pandas as pd\n",
    "import os"
   ]
  },
  {
   "cell_type": "code",
   "execution_count": 2,
   "metadata": {},
   "outputs": [],
   "source": [
    "url = \"https://egypt.souq.com/eg-en/mobile-phone/l/?section=2&page=1\"\n",
    "\n",
    "def all_links():\n",
    "    soup = BeautifulSoup(requests.get(url).text, \"lxml\")\n",
    "    mobiles_qty = int(''.join([i for i in soup.find(\"li\", {\"class\" : \"total\"}).get_text() if i.isnumeric()]))\n",
    "    if mobiles_qty % 60 == 0:\n",
    "        pages = mobiles_qty // 60\n",
    "    else:\n",
    "        pages = (mobiles_qty // 60) + 1\n",
    "    all_urls = [url]\n",
    "    for i in range(2, pages+1):\n",
    "        all_urls.append(\"https://egypt.souq.com/eg-en/mobile-phone/l/?page={}\".format(i))\n",
    "#     with open(\"all-links.pkl\", 'wb') as file:\n",
    "#         pickle.dump(all_urls, file)"
   ]
  },
  {
   "cell_type": "code",
   "execution_count": 3,
   "metadata": {},
   "outputs": [],
   "source": [
    "names = []\n",
    "price = []\n",
    "currency = []\n",
    "def data_from_links():\n",
    "    with open(\"all-links.pkl\", 'rb') as file:\n",
    "        all_urls = pickle.load(file)\n",
    "    for url in all_urls:\n",
    "        soup = BeautifulSoup(requests.get(url).text, \"lxml\")\n",
    "        a = soup.find(\"div\", {\"class\" : \"row collapse content flex-box-grid medium-up-1 large-up-1\"})\\\n",
    "        .find_all(\"div\", {\"class\" : \"column column-block block-list-large single-item\"})\n",
    "        for z in a:\n",
    "            names.append(''.join([i for i in z.find(\"div\", {\"class\" : \"col col-info item-content\"})\\\n",
    "                     .find(\"a\").get_text().strip() if i.isprintable()]))\n",
    "            b = z.find(\"div\", {\"class\" : \"col col-buy\"}).find(\"div\", {\"class\" : \"is sk-clr1\"})\n",
    "            c = b.find(\"h3\").get_text()\n",
    "            price.append(''.join([i for i in c[:c.find(\".\")] if i.isnumeric()]))\n",
    "            currency.append(b.find(\"small\", {\"class\" : \"currency-text sk-clr1 itemCurrency\"}).get_text())\n",
    "#     with open(\"names.pkl\", 'wb') as file:          pickle.dump(names, file)\n",
    "#     with open(\"price.pkl\", 'wb') as file:          pickle.dump(price, file)\n",
    "#     with open(\"currency.pkl\", 'wb') as file:       pickle.dump(currency, file)\n",
    "# data_from_links()"
   ]
  },
  {
   "cell_type": "code",
   "execution_count": 3,
   "metadata": {},
   "outputs": [],
   "source": [
    "def list_to_csv():\n",
    "    with open(\"names.pkl\", 'rb') as file:          \n",
    "        mobiles = pickle.load(file)\n",
    "    with open(\"price.pkl\", 'rb') as file:          \n",
    "        prices = pickle.load(file)\n",
    "    with open(\"currency.pkl\", 'rb') as file:       \n",
    "        currency = pickle.load(file)\n",
    "    new_used = ['new']*len(mobiles)\n",
    "    df = pd.DataFrame()\n",
    "    for i in ['mobiles', 'prices', 'currency', 'new_used']:\n",
    "        df[i] = eval(i)\n",
    "    df['web'] = [url]*len(mobiles)\n",
    "    df.to_csv(\"data-souq-egypt-new.csv\", index=False)\n",
    "list_to_csv()"
   ]
  }
 ],
 "metadata": {
  "kernelspec": {
   "display_name": "Python 3",
   "language": "python",
   "name": "python3"
  },
  "language_info": {
   "codemirror_mode": {
    "name": "ipython",
    "version": 3
   },
   "file_extension": ".py",
   "mimetype": "text/x-python",
   "name": "python",
   "nbconvert_exporter": "python",
   "pygments_lexer": "ipython3",
   "version": "3.6.7"
  }
 },
 "nbformat": 4,
 "nbformat_minor": 2
}
