{
 "cells": [
  {
   "cell_type": "code",
   "execution_count": 1,
   "metadata": {},
   "outputs": [],
   "source": [
    "import requests\n",
    "from bs4 import BeautifulSoup\n",
    "import pandas as pd\n",
    "import os\n",
    "import re\n",
    "import pickle"
   ]
  },
  {
   "cell_type": "code",
   "execution_count": 2,
   "metadata": {},
   "outputs": [],
   "source": [
    "url = \"https://yaoota.com/en-eg/category/mobiles-and-tablets/mobiles/\"\n",
    "\n",
    "def get_all_links():\n",
    "    url1 = url + \"?category=374\"\n",
    "    url2 = url + \"?category=375\"\n",
    "    links = [url1, url2]\n",
    "    e = 0\n",
    "    while True:\n",
    "        e += 1\n",
    "        print(e, end=\", \")\n",
    "        if not requests.get(url1 + \"&page= \" + str(e)).history:\n",
    "            links.append(url1 + \"&page= \" + str(e))\n",
    "        else:\n",
    "            break\n",
    "    e = 0\n",
    "    while True:\n",
    "        e += 1\n",
    "        print(e, end=\", \")\n",
    "        if not requests.get(url2 + \"&page= \" + str(e)).history:\n",
    "            links.append(url2 + \"&page= \" + str(e))\n",
    "        else:\n",
    "            break\n",
    "#     with open(\"all_links.pkl\", \"wb\") as file:\n",
    "#         pickle.dump(links, file)\n",
    "# get_all_links()"
   ]
  },
  {
   "cell_type": "code",
   "execution_count": 25,
   "metadata": {},
   "outputs": [],
   "source": [
    "def links_to_data():\n",
    "    names = []\n",
    "    cc = []\n",
    "    currency = []\n",
    "    price = []\n",
    "    with open(\"all_links.pkl\", 'rb') as file:\n",
    "        all_links = pickle.load(file)\n",
    "\n",
    "    for link in all_links:\n",
    "        soup = BeautifulSoup(requests.get(link).text, \"lxml\")\n",
    "        a = soup.find(\"div\", {\"class\" : \"search__container__result__products\"}).\\\n",
    "                    find_all(\"div\", {\"class\" : \"search__container__result__products__single media hasProductRating\"})\n",
    "        for b in a:\n",
    "            n = b.find(\"div\", {\"class\" : \"media-body\"}).find(\"h4\", {\"class\" : \"search__container__result__products__single__title media-heading\"}).\\\n",
    "                        get_text().strip()\n",
    "            c = b.find(\"div\", {\"class\" : \"media-right hidden-xs\"}).find(\"div\", {\"class\" : \"price-box\"}).\\\n",
    "                    find(\"h3\", {\"class\" : \"search__container__result__products__single__price\"}).get_text().strip()\n",
    "            names.append(n)\n",
    "            cc.append(c)\n",
    "\n",
    "    for i in cc:\n",
    "        currency.append(i.split()[-1].strip())\n",
    "        price.append(float(i.split()[0].strip().replace(\",\", \"\")))\n",
    "#     with open(\"names.pkl\", \"wb\") as file:\n",
    "#         pickle.dump(names, file)\n",
    "#     with open(\"currency.pkl\", \"wb\") as file:\n",
    "#         pickle.dump(currency, file)\n",
    "#     with open(\"price.pkl\", \"wb\") as file:\n",
    "#         pickle.dump(price, file)\n",
    "# links_to_data()"
   ]
  },
  {
   "cell_type": "code",
   "execution_count": 3,
   "metadata": {},
   "outputs": [],
   "source": [
    "def data_to_csv():\n",
    "    with open(\"names.pkl\", \"rb\") as file:\n",
    "        mobiles = pickle.load(file)\n",
    "    with open(\"currency.pkl\", \"rb\") as file:\n",
    "        currency = pickle.load(file)\n",
    "    with open(\"price.pkl\", \"rb\") as file:\n",
    "        prices = pickle.load(file)\n",
    "    new_used = ['new']*len(mobiles)\n",
    "    df = pd.DataFrame()\n",
    "    for i in ['mobiles', 'prices', 'currency', 'new_used']:\n",
    "        df[i] = eval(i)\n",
    "    df['web'] = [url]*len(mobiles)\n",
    "    df.to_csv(\"data-yaoota-egypt-new.csv\", index=False)\n",
    "data_to_csv()"
   ]
  }
 ],
 "metadata": {
  "kernelspec": {
   "display_name": "Python 3",
   "language": "python",
   "name": "python3"
  },
  "language_info": {
   "codemirror_mode": {
    "name": "ipython",
    "version": 3
   },
   "file_extension": ".py",
   "mimetype": "text/x-python",
   "name": "python",
   "nbconvert_exporter": "python",
   "pygments_lexer": "ipython3",
   "version": "3.6.7"
  }
 },
 "nbformat": 4,
 "nbformat_minor": 2
}
