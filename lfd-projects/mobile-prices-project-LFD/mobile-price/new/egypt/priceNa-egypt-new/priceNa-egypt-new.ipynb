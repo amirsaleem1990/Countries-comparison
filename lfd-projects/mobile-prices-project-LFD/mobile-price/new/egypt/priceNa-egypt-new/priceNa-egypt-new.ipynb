{
 "cells": [
  {
   "cell_type": "code",
   "execution_count": 1,
   "metadata": {},
   "outputs": [],
   "source": [
    "import requests\n",
    "from bs4 import BeautifulSoup\n",
    "import pandas as pd\n",
    "import os\n",
    "import pickle"
   ]
  },
  {
   "cell_type": "code",
   "execution_count": 2,
   "metadata": {},
   "outputs": [],
   "source": [
    "url = \"https://eg.pricena.com/en/mobile-tablets/mobile-phones\"\n",
    "\n",
    "\n",
    "def get_links():\n",
    "    soup = BeautifulSoup(requests.get(url).text, \"lxml\")\n",
    "    all_links = [\"https://eg.pricena.com/en/mobile-tablets/mobile-phones\"]\n",
    "    c = 1\n",
    "    while True:\n",
    "        c += 1\n",
    "        ur = \"https://eg.pricena.com/en/mobile-tablets/mobile-phones/page/\" + str(c)\n",
    "        u = requests.get(ur).history\n",
    "        if not u:\n",
    "            all_links.append(ur)\n",
    "        else:\n",
    "            break\n",
    "#     with open(\"links.pkl\", \"wb\") as file:\n",
    "#         pickle.dump(all_links,file)"
   ]
  },
  {
   "cell_type": "code",
   "execution_count": 4,
   "metadata": {},
   "outputs": [],
   "source": [
    "def links_to_data():\n",
    "    with open(\"links.pkl\", \"rb\") as file:\n",
    "        links = pickle.load(file)\n",
    "    mobiles = []\n",
    "    prices = []\n",
    "    currency =  []\n",
    "    for link in links:\n",
    "        try:\n",
    "            soup = BeautifulSoup(requests.get(link).text, \"lxml\")\n",
    "            a = soup.find(\"div\", {\"id\" : \"results\"})\n",
    "            b = a.find_all(\"div\", {\"class\" : \"item desktop\"})\n",
    "            for c in b:\n",
    "                m = c.find(\"div\", {\"class\" : \"name leftdirection\"}).get_text().strip()\n",
    "                p = c.find(\"div\", {\"class\" : \"price\"}).get_text().strip()\n",
    "                mobiles.append(m)\n",
    "                prices.append(p.split()[1])\n",
    "                currency.append(p.split()[0])\n",
    "        except: \n",
    "            pass\n",
    "    web = [url]*len(mobiles)\n",
    "    with open(\"mobiles.pkl\", \"wb\") as file: \n",
    "        pickle.dump(mobiles, file)\n",
    "    with open(\"prices.pkl\", \"wb\") as file: \n",
    "        pickle.dump(prices, file)\n",
    "    with open(\"currency.pkl\", \"wb\") as file: \n",
    "        pickle.dump(currency, file)\n",
    "    with open(\"web.pkl\", \"wb\") as file: \n",
    "        pickle.dump(web, file)\n",
    "# links_to_data()"
   ]
  },
  {
   "cell_type": "code",
   "execution_count": 3,
   "metadata": {},
   "outputs": [],
   "source": [
    "def data_to_csv():\n",
    "    with open(\"mobiles.pkl\", \"rb\") as file:     \n",
    "        mobiles = pickle.load(file)\n",
    "    with open(\"prices.pkl\", \"rb\") as file:      \n",
    "        prices = pickle.load(file)\n",
    "    with open(\"currency.pkl\", \"rb\") as file:   \n",
    "        currency = pickle.load(file)\n",
    "    with open(\"web.pkl\", \"rb\") as file:   \n",
    "        web = pickle.load(file)\n",
    "    df = pd.DataFrame()\n",
    "    new_used = ['new']*len(mobiles)\n",
    "    for i in ['mobiles', 'prices', 'currency','new_used', 'web']:\n",
    "        df[i] = eval(i)\n",
    "    df.to_csv(\"pricena-egypt-new.csv\", index=False)\n",
    "data_to_csv()"
   ]
  }
 ],
 "metadata": {
  "kernelspec": {
   "display_name": "Python 3",
   "language": "python",
   "name": "python3"
  },
  "language_info": {
   "codemirror_mode": {
    "name": "ipython",
    "version": 3
   },
   "file_extension": ".py",
   "mimetype": "text/x-python",
   "name": "python",
   "nbconvert_exporter": "python",
   "pygments_lexer": "ipython3",
   "version": "3.6.7"
  }
 },
 "nbformat": 4,
 "nbformat_minor": 2
}
