{
 "cells": [
  {
   "cell_type": "code",
   "execution_count": 2,
   "metadata": {},
   "outputs": [],
   "source": [
    "import requests\n",
    "from bs4 import BeautifulSoup\n",
    "import pandas as pd\n",
    "import pickle"
   ]
  },
  {
   "cell_type": "code",
   "execution_count": 3,
   "metadata": {},
   "outputs": [],
   "source": [
    "url = \"https://2b.com.eg/en/mobile-and-tablet/mobiles.html\"\n",
    "def first_level_links():\n",
    "    soup = BeautifulSoup(requests.get(url).text, \"lxml\")\n",
    "    a = soup.find(\"div\", {\"class\" : \"filter-options-content\"}).find(\"ol\", {\"class\" : \"items\"}).find_all(\"li\")\n",
    "    d = {}\n",
    "    for i in a:\n",
    "        b = ''.join([i for i in i.find(\"a\").get_text().strip() if i and not i.isnumeric()])\n",
    "        d[b[:b.find(\" \")]] = i.find(\"a\")['href']\n",
    "#     with open(\"1st-level-links.pkl\", 'wb') as file:\n",
    "#         pickle.dump(d, file)"
   ]
  },
  {
   "cell_type": "code",
   "execution_count": 4,
   "metadata": {},
   "outputs": [],
   "source": [
    "def mobiles_and_prices():\n",
    "    with open(\"1st-level-links.pkl\", 'rb') as file:\n",
    "        d = pickle.load(file)\n",
    "    mobiles = []\n",
    "    prices = []\n",
    "    currency = []\n",
    "    for url in d.values():\n",
    "        try:\n",
    "            soup = BeautifulSoup(requests.get(url).text, \"lxml\")\n",
    "            a = soup.find(\"ol\", {\"class\" : \"products list items product-items\"}).find_all(\"li\")\n",
    "            for mobile in a:\n",
    "                m = mobile.find(\"a\", {\"class\" : \"product-item-link\"}).get_text().strip()\n",
    "                cp = mobile.find(\"span\", {\"class\" : \"price\"}).get_text()\n",
    "                p = ''.join([i for i in cp if i.isnumeric()])\n",
    "                c = cp[:cp.find(re.findall(r'\\d+', cp)[0])]\n",
    "                prices.append(p)\n",
    "                currency.append(c)\n",
    "                mobiles.append(m)\n",
    "        except:\n",
    "            pass\n",
    "    with open(\"mobiles.pkl\", 'wb') as file:\n",
    "        pickle.dump(mobiles, file)\n",
    "    with open(\"prices.pkl\", 'wb') as file:\n",
    "        pickle.dump(prices, file)\n",
    "    with open(\"currency.pkl\", 'wb') as file:\n",
    "        pickle.dump(currency, file)\n",
    "# mobiles_and_prices()"
   ]
  },
  {
   "cell_type": "code",
   "execution_count": 5,
   "metadata": {},
   "outputs": [],
   "source": [
    "def list_to_csv():\n",
    "    with open(\"mobiles.pkl\", 'rb') as file:\n",
    "        mobiles = pickle.load(file)\n",
    "    with open(\"prices.pkl\", 'rb') as file:\n",
    "        prices = pickle.load(file)\n",
    "    with open(\"currency.pkl\", 'rb') as file:\n",
    "        currency = pickle.load(file)\n",
    "    df = pd.DataFrame()\n",
    "    new_used = ['new']*len(mobiles)\n",
    "    for i in ['mobiles', 'prices', 'currency', 'new_used']:\n",
    "        df[i] = eval(i)\n",
    "    df['web'] = url\n",
    "    df.to_csv(\"2b-new-egypt.csv\", index=False)\n",
    "list_to_csv()"
   ]
  }
 ],
 "metadata": {
  "kernelspec": {
   "display_name": "Python 3",
   "language": "python",
   "name": "python3"
  },
  "language_info": {
   "codemirror_mode": {
    "name": "ipython",
    "version": 3
   },
   "file_extension": ".py",
   "mimetype": "text/x-python",
   "name": "python",
   "nbconvert_exporter": "python",
   "pygments_lexer": "ipython3",
   "version": "3.6.7"
  }
 },
 "nbformat": 4,
 "nbformat_minor": 2
}
