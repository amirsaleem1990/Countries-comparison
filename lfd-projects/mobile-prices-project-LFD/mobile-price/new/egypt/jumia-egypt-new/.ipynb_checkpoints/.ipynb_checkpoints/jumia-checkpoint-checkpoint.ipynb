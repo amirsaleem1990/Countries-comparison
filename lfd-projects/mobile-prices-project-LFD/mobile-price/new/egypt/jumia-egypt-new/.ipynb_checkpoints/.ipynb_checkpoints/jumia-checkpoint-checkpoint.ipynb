{
 "cells": [
  {
   "cell_type": "code",
   "execution_count": 1,
   "metadata": {},
   "outputs": [],
   "source": [
    "import requests\n",
    "from bs4 import BeautifulSoup\n",
    "import pandas as pd\n",
    "import pickle"
   ]
  },
  {
   "cell_type": "code",
   "execution_count": 2,
   "metadata": {},
   "outputs": [],
   "source": [
    "url = \"https://www.jumia.com.eg/mobile-phones/\"\n",
    "def extract_links():\n",
    "    soup = BeautifulSoup(requests.get(url).text, \"lxml\")\n",
    "    a = soup.find(\"form\", {\"class\" : \"facet-form\"})\n",
    "    b = a.find_all(\"div\", {\"class\":\"facet-el\"})\n",
    "    links = []\n",
    "    return [i.find(\"a\")['href'] for i in b]"
   ]
  },
  {
   "cell_type": "code",
   "execution_count": 4,
   "metadata": {},
   "outputs": [],
   "source": [
    "def all_pages():\n",
    "    with open(\"links.pkl\", \"rb\") as file:\n",
    "        links = pickle.load(file)\n",
    "    d = {}\n",
    "    for link in links:\n",
    "        soup = BeautifulSoup(requests.get(link).text, \"lxml\")\n",
    "        try:\n",
    "            a = soup.find(\"ul\", {\"class\" : \"osh-pagination -horizontal\"})\n",
    "            base_link = a.find(\"a\")['href'] + \"?page={}\"\n",
    "            d[link.split(\"/\")[-2]] = [base_link.format(i) for i in range(1, int(a.get_text().strip()[-1])+1)]\n",
    "        except:\n",
    "            d[link.split(\"/\")[-2]] = [link]\n",
    "    return d"
   ]
  },
  {
   "cell_type": "code",
   "execution_count": 28,
   "metadata": {},
   "outputs": [
    {
     "name": "stdout",
     "output_type": "stream",
     "text": [
      "1, 2, 3, 4, 5, 6, 7, 8, 9, 10, 11, 12, 13, 14, 15, 16, 17, 18, 19, 20, 21, 22, 23, 24, 25, 26, 27, 28, 29, 30, 31, 32, 33, 34, 35, 36, 37, 38, 39, 40, 41, 42, 43, 44, 45, 46, 47, 48, 49, 50, 51, 52, 53, 54, "
     ]
    }
   ],
   "source": [
    "def extract_data():\n",
    "    mobiles = []\n",
    "    prices = []\n",
    "    currency = []\n",
    "    with open(\"all_pages.pkl\", \"rb\") as file:\n",
    "        dd = pickle.load(file)\n",
    "    for link in [z for i in list(dd.values()) for z in i]:\n",
    "        try:\n",
    "            soup = BeautifulSoup(requests.get(link).text, \"lxml\")\n",
    "            a = soup.find(\"section\", {\"class\" : \"products -mabaya\"}).find_all(\"div\", {\"class\" : \"sku -gallery\"})\n",
    "            a += soup.find(\"section\", {\"class\" : \"products -mabaya\"}).find_all(\"div\", {\"class\" : \"sku -gallery -has-offers\"})\n",
    "            for i in a:\n",
    "                n = i.find(\"span\", {\"class\" : \"name\"}).get_text()\n",
    "                p = i.find(\"span\", {\"class\" : \"price\"}).get_text()\n",
    "                c = p[:p.find(\" \")]\n",
    "                p = ''.join([i for i in p[p.find(\" \"):].strip() if i.isnumeric()])\n",
    "                mobiles.append(n)\n",
    "                prices.append(p)\n",
    "                currency.append(c)\n",
    "        except:\n",
    "            pass\n",
    "    web = [url]*len(mobiles)\n",
    "    with open(\"mobiles.pkl\", \"wb\") as file:\n",
    "        pickle.dump(mobiles, file)\n",
    "    with open(\"prices.pkl\", \"wb\") as file:\n",
    "        pickle.dump(prices, file)\n",
    "    with open(\"currency.pkl\", \"wb\") as file:\n",
    "        pickle.dump(currency, file)\n",
    "    with open(\"web.pkl\", \"wb\") as file:\n",
    "        pickle.dump(web, file)\n",
    "# extract_data()"
   ]
  },
  {
   "cell_type": "code",
   "execution_count": 31,
   "metadata": {},
   "outputs": [],
   "source": [
    "def lists_to_csv():\n",
    "    with open(\"mobiles.pkl\", \"rb\") as file:\n",
    "        mobiles = pickle.load(file)\n",
    "    with open(\"prices.pkl\", \"rb\") as file:\n",
    "        prices = pickle.load(file)\n",
    "    with open(\"currency.pkl\", \"rb\") as file:\n",
    "        currency = pickle.load(file)\n",
    "    with open(\"web.pkl\", \"rb\") as file:\n",
    "        web = pickle.load(file)\n",
    "    new_used = ['new']*len(mobiles)\n",
    "    df = pd.DataFrame()\n",
    "    for i in ['mobiles','prices','currency','new_used','web']:\n",
    "        df[i] = eval(i)\n",
    "    df.to_csv(\"jumia-egypt-new.csv\", index=False)\n",
    "# lists_to_csv()"
   ]
  }
 ],
 "metadata": {
  "kernelspec": {
   "display_name": "Python 3",
   "language": "python",
   "name": "python3"
  },
  "language_info": {
   "codemirror_mode": {
    "name": "ipython",
    "version": 3
   },
   "file_extension": ".py",
   "mimetype": "text/x-python",
   "name": "python",
   "nbconvert_exporter": "python",
   "pygments_lexer": "ipython3",
   "version": "3.6.7"
  }
 },
 "nbformat": 4,
 "nbformat_minor": 2
}
