{
 "cells": [
  {
   "cell_type": "code",
   "execution_count": 1,
   "metadata": {},
   "outputs": [],
   "source": [
    "import requests\n",
    "import re\n",
    "import os\n",
    "import pandas as pd\n",
    "import requests\n",
    "from bs4 import BeautifulSoup\n",
    "import pickle"
   ]
  },
  {
   "cell_type": "code",
   "execution_count": 2,
   "metadata": {},
   "outputs": [],
   "source": [
    "url = \"https://olx.com.eg/en/mobile-phones-accessories/mobile-phones/\"\n",
    "\n",
    "def get_all_pages_links():\n",
    "    soup = BeautifulSoup(requests.get(url).text, \"lxml\")\n",
    "    pages = int(soup.find(\"div\", {\"class\" : \"pager rel clr\"}).\\\n",
    "                find_all(\"span\", {\"class\" : \"item fleft\"})[-1].get_text().replace(\"\\n\", \"\"))\n",
    "    all_pages = [url]\n",
    "    for i in range(2, pages+1):\n",
    "        all_pages.append(url + \"?page=\" + str(i))\n",
    "#     with open(\"all_links.pkl\", \"wb\") as file:\n",
    "#         pickle.dump(all_pages, file)\n",
    "# get_all_pages_links()"
   ]
  },
  {
   "cell_type": "code",
   "execution_count": null,
   "metadata": {},
   "outputs": [],
   "source": [
    "def links_to_data():\n",
    "    with open(\"all_links.pkl\", \"rb\") as file:\n",
    "        all_pages = pickle.load(file)\n",
    "    names = []\n",
    "    currency = []\n",
    "    prices = []\n",
    "    for e, link in enumerate(all_pages):\n",
    "        print(round(e/len(all_pages), 2), end=\", \")\n",
    "        n1 = []\n",
    "        cc1 = []\n",
    "        p1 = []\n",
    "        try:\n",
    "            soup = BeautifulSoup(requests.get(link).text, \"lxml\")\n",
    "            a = soup.find(\"div\", {\"class\" : \"rel listHandler\"})\n",
    "            f = a.find(\"table\", {\"class\" : \"fixed offers breakword\"}).find(\"tbody\").find_all(\"tr\")[-1]\n",
    "            featured_ads = f.find_all(\"div\", {\"class\" : \"ads__item\"})\n",
    "            for f_add in featured_ads:\n",
    "                b = f_add.find(\"div\", {\"class\" : \"ads__item__info\"})\n",
    "                n = b.find(\"a\", {\"class\" : \"ads__item__title\"}).get_text().strip()\n",
    "                c = b.find_all(\"p\")[0].get_text().strip()\n",
    "                cc = c.split()[-1]\n",
    "                p = c.split()[0].replace(\",\", \"\")\n",
    "                n1.append(n)\n",
    "                cc1.append(cc)\n",
    "                p1.append(p)\n",
    "            normal_adds = a.find(\"table\", {\"id\" : \"offers_table\"}).find(\"tbody\").\\\n",
    "                    find(\"div\", {\"class\" : \"ads ads--list\"}).find_all(\"div\", {\"class\" : \"ads__item\"})\n",
    "            \n",
    "            for n_adds in normal_adds:\n",
    "                b_2 = n_adds.find(\"div\", {\"class\" : \"ads__item__info\"})\n",
    "                n_2 = b_2.find(\"a\", {\"class\" : \"ads__item__title\"}).get_text().strip()\n",
    "                c_2 = b_2.find_all(\"p\")[0].get_text().strip()\n",
    "                cc_2 = c_2.split()[-1]\n",
    "                p_2 = c_2.split()[0].replace(\",\", \"\")\n",
    "                n1.append(n_2)\n",
    "                cc1.append(cc_2)\n",
    "                p1.append(p_2)\n",
    "            names += [n_2]\n",
    "            currency += [cc_2]\n",
    "            prices += [p_2]\n",
    "        \n",
    "        except:\n",
    "            pass\n",
    "#     with open(\"names_.pkl\", \"wb\") as file:\n",
    "#         pickle.dump(names, file)\n",
    "#     with open(\"currency_.pkl\", \"wb\") as file:\n",
    "#         pickle.dump(currency, file)\n",
    "#     with open(\"prices_.pkl\", \"wb\") as file:\n",
    "#         pickle.dump(prices, file)\n",
    "    \n",
    "# links_to_data()"
   ]
  },
  {
   "cell_type": "code",
   "execution_count": 3,
   "metadata": {},
   "outputs": [],
   "source": [
    "def data_to_csv():\n",
    "    with open(\"names_.pkl\", \"rb\") as file:\n",
    "        mobiles = pickle.load(file)\n",
    "    with open(\"currency_.pkl\", \"rb\") as file:\n",
    "        currency = pickle.load(file)\n",
    "    with open(\"prices_.pkl\", \"rb\") as file:\n",
    "        prices = pickle.load(file)\n",
    "    web = [url]*len(mobiles)\n",
    "    new_used = ['used']*len(mobiles)\n",
    "    df = pd.DataFrame()\n",
    "    for i in ['mobiles', 'prices', 'currency','new_used', 'web']:\n",
    "        df[i] = eval(i)\n",
    "    df.to_csv(\"data-olx-egypt-used.csv\", index=False)\n",
    "data_to_csv()"
   ]
  }
 ],
 "metadata": {
  "kernelspec": {
   "display_name": "Python 3",
   "language": "python",
   "name": "python3"
  },
  "language_info": {
   "codemirror_mode": {
    "name": "ipython",
    "version": 3
   },
   "file_extension": ".py",
   "mimetype": "text/x-python",
   "name": "python",
   "nbconvert_exporter": "python",
   "pygments_lexer": "ipython3",
   "version": "3.6.7"
  }
 },
 "nbformat": 4,
 "nbformat_minor": 2
}
