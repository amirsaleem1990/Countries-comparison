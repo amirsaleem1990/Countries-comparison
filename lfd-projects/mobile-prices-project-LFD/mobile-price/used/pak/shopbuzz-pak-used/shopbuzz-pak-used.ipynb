{
 "cells": [
  {
   "cell_type": "code",
   "execution_count": 1,
   "metadata": {},
   "outputs": [],
   "source": [
    "import pandas as pd\n",
    "import pickle\n",
    "import re\n",
    "import os\n",
    "from bs4 import BeautifulSoup\n",
    "import requests"
   ]
  },
  {
   "cell_type": "code",
   "execution_count": 2,
   "metadata": {},
   "outputs": [],
   "source": [
    "url = \"http://www.shopbuzz.pk/usedproduct/index?category=mobile-phones\"\n",
    "\n",
    "def get_all_links():\n",
    "    soup = BeautifulSoup(requests.get(url).text, \"lxml\")\n",
    "    a = soup.find(\"div\", {\"id\" : \"yw0\"}).find(\"ul\").find_all(\"li\")[-1].find(\"a\")['href']\n",
    "    pages = int(re.findall('\\\\d+',a)[0])\n",
    "    all_links = [url]\n",
    "    for i in range(2, pages+1):\n",
    "        all_links.append(\"http://www.shopbuzz.pk/usedproduct/index?category=mobile-phones&UsedProduct_page=\" + str(i))\n",
    "#     with open(\"all_links.pkl\", \"wb\") as file:\n",
    "#     pickle.dump(all_links, file)\n",
    "# get_all_links()"
   ]
  },
  {
   "cell_type": "code",
   "execution_count": null,
   "metadata": {},
   "outputs": [],
   "source": [
    "def data_from_links():\n",
    "    with open(\"all_links.pkl\", \"rb\") as file:\n",
    "        all_links = pickle.load(file)\n",
    "    mobiles = []\n",
    "    prices = []\n",
    "    currency = []\n",
    "    for link in all_links:\n",
    "        try:\n",
    "            soup = BeautifulSoup(requests.get(url).text, \"lxml\")\n",
    "            a = soup.find(\"table\", {\"class\" : \"items table table-bordered\"}).find(\"tbody\")\n",
    "            b = a.find_all(\"tr\", {\"class\" : \"odd\"})\n",
    "            b += a.find_all(\"tr\", {\"class\" : \"even\"})\n",
    "            m1 = []\n",
    "            cc1 = []\n",
    "            pp1 = []\n",
    "            for i in b:\n",
    "                d = i.find_all(\"td\")\n",
    "                m = d[0].get_text().strip()\n",
    "                c = d[-1].get_text().strip()\n",
    "                cc = c.split()[0].replace(\".\", \"\").strip()\n",
    "                p = c.split()[1].replace(\".\", \"\").strip()\n",
    "                pp = int(''.join(re.findall('\\\\d+',p)))\n",
    "\n",
    "                m1.append(m)\n",
    "                cc1.append(cc)\n",
    "                pp1.append(pp)\n",
    "            mobiles += m1\n",
    "            currency += cc1\n",
    "            prices += pp1\n",
    "        except:\n",
    "            pass\n",
    "    # with open(\"mobiles.pkl\", \"wb\") as file: pickle.dump(mobiles, file)\n",
    "    # with open(\"currency.pkl\", \"wb\") as file: pickle.dump(currency, file)\n",
    "    # with open(\"prices.pkl\", \"wb\") as file: pickle.dump(prices, file)\n",
    "# data_from_links()"
   ]
  },
  {
   "cell_type": "code",
   "execution_count": 3,
   "metadata": {},
   "outputs": [],
   "source": [
    "def data_to_csv():\n",
    "    with open(\"mobiles.pkl\", \"rb\") as file: \n",
    "        mobiles = pickle.load( file)\n",
    "    with open(\"currency.pkl\", \"rb\") as file: \n",
    "        currency = pickle.load( file)\n",
    "    with open(\"prices.pkl\", \"rb\") as file: \n",
    "        prices = pickle.load( file)\n",
    "    web = [url]*len(mobiles)\n",
    "    df = pd.DataFrame()\n",
    "    new_used = ['used']*len(mobiles)\n",
    "    for i in ['mobiles','prices','currency','new_used', 'web']:\n",
    "        df[i] = eval(i)\n",
    "    df.to_csv(\"data-shopbuzz-pak-used.csv\", index=False)\n",
    "data_to_csv()"
   ]
  }
 ],
 "metadata": {
  "kernelspec": {
   "display_name": "Python 3",
   "language": "python",
   "name": "python3"
  },
  "language_info": {
   "codemirror_mode": {
    "name": "ipython",
    "version": 3
   },
   "file_extension": ".py",
   "mimetype": "text/x-python",
   "name": "python",
   "nbconvert_exporter": "python",
   "pygments_lexer": "ipython3",
   "version": "3.6.7"
  }
 },
 "nbformat": 4,
 "nbformat_minor": 2
}
