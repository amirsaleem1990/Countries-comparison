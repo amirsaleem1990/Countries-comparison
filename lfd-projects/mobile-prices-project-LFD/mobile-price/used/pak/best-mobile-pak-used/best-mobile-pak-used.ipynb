{
 "cells": [
  {
   "cell_type": "code",
   "execution_count": 1,
   "metadata": {},
   "outputs": [],
   "source": [
    "import pandas as pd\n",
    "import os\n",
    "import pickle\n",
    "import requests\n",
    "from bs4 import BeautifulSoup"
   ]
  },
  {
   "cell_type": "code",
   "execution_count": 2,
   "metadata": {},
   "outputs": [],
   "source": [
    "url = \"https://www.bestmobile.pk/used-mobiles\"\n",
    "\n",
    "\n",
    "def get_links():\n",
    "    soup = BeautifulSoup(requests.get(url).text, \"lxml\")\n",
    "    links = [url]\n",
    "    pages = int(soup.find(\"ul\", {\"class\" : \"pagination pagination-lg\"}).find_all(\"li\")[-2].get_text())\n",
    "    for i in range(2, pages+1):\n",
    "        links.append(url + \"/page/\" + str(i))\n",
    "#     with open(\"links.pkl\", \"wb\") as file:\n",
    "#         pickle.dump(links, file)\n",
    "# get_links()"
   ]
  },
  {
   "cell_type": "code",
   "execution_count": 64,
   "metadata": {},
   "outputs": [],
   "source": [
    "def links_to_data():\n",
    "    names = []\n",
    "    prices = []\n",
    "    currency = []\n",
    "    errors = []\n",
    "    for link in links:\n",
    "        soup = BeautifulSoup(requests.get(link).text, \"lxml\")\n",
    "        a = soup.find(\"div\", {\"class\" : \"classified-list\"}).find_all(\"div\", {\"class\" : \"media\"})\n",
    "        for b in a:\n",
    "            n = b.find(\"h4\", {\"class\" : \"media-heading\"}).get_text().strip()\n",
    "            p = b.find(\"strong\", {\"class\" : \"ribbon-content\"}).get_text()\n",
    "            if not \"sold\" in p.lower():\n",
    "                c = p.split()[0].replace(\".\", \"\")\n",
    "                try:\n",
    "                    pp = int(p.split()[1].replace(\",\", \"\"))   \n",
    "                except:\n",
    "                    pp = p.split()[1].replace(\",\", \"\")\n",
    "                names.append(n)\n",
    "                prices.append(pp)\n",
    "                currency.append(c)\n",
    "#     with open(\"names.pkl\", \"wb\") as file:\n",
    "#         pickle.dump(names, file)\n",
    "#     with open(\"prices.pkl\", \"wb\") as file:\n",
    "#         pickle.dump(prices, file)\n",
    "#     with open(\"currency.pkl\", \"wb\") as file:\n",
    "#         pickle.dump(currency, file)\n",
    "# links_to_data()"
   ]
  },
  {
   "cell_type": "code",
   "execution_count": 3,
   "metadata": {},
   "outputs": [],
   "source": [
    "def data_to_csv():\n",
    "    with open(\"names.pkl\", \"rb\") as file: \n",
    "        mobiles = pickle.load(file)\n",
    "    with open(\"prices.pkl\", \"rb\") as file: \n",
    "        prices = pickle.load(file)\n",
    "    with open(\"currency.pkl\", \"rb\") as file: \n",
    "        currency = pickle.load(file)\n",
    "    web = [url]*len(mobiles)\n",
    "    new_used = ['used']*len(mobiles)\n",
    "    df = pd.DataFrame()\n",
    "    for i in ['mobiles', 'prices', 'currency', 'new_used', 'web']:\n",
    "        df[i] = eval(i)\n",
    "    df.to_csv(\"data-bestmobile-pak-used.csv\", index=False)\n",
    "data_to_csv()"
   ]
  }
 ],
 "metadata": {
  "kernelspec": {
   "display_name": "Python 3",
   "language": "python",
   "name": "python3"
  },
  "language_info": {
   "codemirror_mode": {
    "name": "ipython",
    "version": 3
   },
   "file_extension": ".py",
   "mimetype": "text/x-python",
   "name": "python",
   "nbconvert_exporter": "python",
   "pygments_lexer": "ipython3",
   "version": "3.6.7"
  }
 },
 "nbformat": 4,
 "nbformat_minor": 2
}
